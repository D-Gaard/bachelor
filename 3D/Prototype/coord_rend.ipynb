{
 "cells": [
  {
   "cell_type": "code",
   "execution_count": 44,
   "metadata": {},
   "outputs": [],
   "source": [
    "import lineRenderWorldSetup as LR\n",
    "import matplotlib.pyplot as plt\n",
    "from mpl_toolkits.mplot3d import Axes3D\n",
    "import numpy as np\n",
    "\n"
   ]
  },
  {
   "cell_type": "code",
   "execution_count": 55,
   "metadata": {},
   "outputs": [],
   "source": [
    "radius = 50\n",
    "box_dim = 101\n",
    "line_coords = LR.createTestCoordsForCircle(radius)\n",
    "world_coords = LR.performBresenham3D(line_coords,LR.DETECTOR_TO_PATIENT,LR.SRC_TO_PATIENT,box_dim)\n",
    "box = LR.savePointsWithinSquare(world_coords,box_dim)\n"
   ]
  },
  {
   "cell_type": "code",
   "execution_count": 56,
   "metadata": {},
   "outputs": [],
   "source": [
    "box_coords_x = []\n",
    "box_coords_y = []\n",
    "box_coords_z = []\n",
    "box_coords = []\n",
    "for x in range(101):\n",
    "  for y in range(101):\n",
    "    for z in range(101):\n",
    "      if box[x,y,z] == 1:\n",
    "        box_coords_x.append(x-50)\n",
    "        box_coords_y.append(y-50)\n",
    "        box_coords_z.append(z-50)\n",
    "        box_coords.append([x-50,y-50,z-50])"
   ]
  },
  {
   "cell_type": "code",
   "execution_count": 47,
   "metadata": {},
   "outputs": [],
   "source": [
    "import numpy as np\n",
    "import math as m\n",
    "  \n",
    "def Rx(theta):\n",
    "  return np.array([[ 1, 0           , 0           ],\n",
    "                   [ 0, m.cos(theta),-m.sin(theta)],\n",
    "                   [ 0, m.sin(theta), m.cos(theta)]])\n",
    "  \n",
    "def Ry(theta):\n",
    "  return np.array([[ m.cos(theta), 0, m.sin(theta)],\n",
    "                   [ 0           , 1, 0           ],\n",
    "                   [-m.sin(theta), 0, m.cos(theta)]])\n",
    "  \n",
    "def Rz(theta):\n",
    "  return np.array([[ m.cos(theta), -m.sin(theta), 0 ],\n",
    "                   [ m.sin(theta), m.cos(theta) , 0 ],\n",
    "                   [ 0           , 0            , 1 ]])\n"
   ]
  },
  {
   "cell_type": "code",
   "execution_count": 48,
   "metadata": {},
   "outputs": [],
   "source": [
    "from tvtk.api import tvtk\n",
    "import mayavi\n",
    "from mayavi.modules.outline import Outline\n",
    "import lineRenderWorldSetup"
   ]
  },
  {
   "cell_type": "code",
   "execution_count": 49,
   "metadata": {},
   "outputs": [],
   "source": [
    "frame_x = np.array([0,0,0,0,100,100,100,100]) -50\n",
    "frame_y = np.array([0,0,100,100,0,0,100,100]) -50\n",
    "frame_z = np.array([0,100,0,100,0,100,0,100]) -50"
   ]
  },
  {
   "cell_type": "code",
   "execution_count": 50,
   "metadata": {},
   "outputs": [],
   "source": [
    "# CREATE BOXES FOR EACH GIVEN ANGLE\n",
    "boxes = []\n",
    "angles = lineRenderWorldSetup.ANGLES\n",
    "for i in range(7):\n",
    "  new_coords = np.copy(np.array(box_coords))\n",
    "  primary, secondary = angles[i]\n",
    "\n",
    "  phi = m.radians(primary)\n",
    "  theta = m.radians(secondary)\n",
    "  psi = 0\n",
    "\n",
    "  R =  Rz(psi).dot(Ry(theta).dot(Rx(phi))) \n",
    "\n",
    "  for j in range(0,len(new_coords)):\n",
    "    new_coords[j] = R.dot(new_coords[j]).round()\n",
    "  boxes.append(new_coords)"
   ]
  },
  {
   "cell_type": "code",
   "execution_count": 51,
   "metadata": {},
   "outputs": [],
   "source": [
    "# SAVE COORDINATES AS X,Y,Z FOR BASE BOX\n",
    "all_coords = []\n",
    "for box in boxes:\n",
    "  new_coords_x = []\n",
    "  new_coords_y = []\n",
    "  new_coords_z = []\n",
    "  for x,y,z in box:\n",
    "    new_coords_x.append(x)\n",
    "    new_coords_y.append(y)\n",
    "    new_coords_z.append(z)\n",
    "  all_coords.append([new_coords_x,new_coords_y,new_coords_z])"
   ]
  },
  {
   "cell_type": "code",
   "execution_count": 52,
   "metadata": {},
   "outputs": [
    {
     "data": {
      "text/plain": [
       "'box_final = np.zeros([101,101,101])\\nprint(\"shape: \", box2.shape)\\nfor box in boxes:\\n  temp_box = np.zeros([101,101,101])\\n  for x,y,z in box:\\n    if not(x > 50 or x < -50 or y > 50 or y < -50 or z > 50 or z < -50):\\n      temp_box[x+50,y+50,z+50] += 1\\n  box_final += np.where(temp_box >= 1, 1, 0)\\n\\nres = np.where(box_final == len(angles),1,0)\\n\\ntest_coords_x = []\\ntest_coords_y = []\\ntest_coords_z = []\\nfor x in range(101):\\n  for y in range(101):\\n    for z in range(101):\\n      if res[x,y,z] == 1:\\n        test_coords_x.append(x-50)\\n        test_coords_y.append(y-50)\\n        test_coords_z.append(z-50)'"
      ]
     },
     "execution_count": 52,
     "metadata": {},
     "output_type": "execute_result"
    }
   ],
   "source": [
    "# CREATE BOX OF INTERSECTIONS\n",
    "# new_coords\n",
    "# box[x,y,z]\n",
    "\"\"\"box_final = np.zeros([101,101,101])\n",
    "print(\"shape: \", box2.shape)\n",
    "for box in boxes:\n",
    "  temp_box = np.zeros([101,101,101])\n",
    "  for x,y,z in box:\n",
    "    if not(x > 50 or x < -50 or y > 50 or y < -50 or z > 50 or z < -50):\n",
    "      temp_box[x+50,y+50,z+50] += 1\n",
    "  box_final += np.where(temp_box >= 1, 1, 0)\n",
    "\n",
    "res = np.where(box_final == len(angles),1,0)\n",
    "\n",
    "test_coords_x = []\n",
    "test_coords_y = []\n",
    "test_coords_z = []\n",
    "for x in range(101):\n",
    "  for y in range(101):\n",
    "    for z in range(101):\n",
    "      if res[x,y,z] == 1:\n",
    "        test_coords_x.append(x-50)\n",
    "        test_coords_y.append(y-50)\n",
    "        test_coords_z.append(z-50)\"\"\""
   ]
  },
  {
   "cell_type": "code",
   "execution_count": 53,
   "metadata": {},
   "outputs": [],
   "source": [
    "x0,y0,z0 = all_coords[0]\n",
    "x1,y1,z1 = all_coords[1]\n",
    "x2,y2,z2 = all_coords[2]\n",
    "x3,y3,z3 = all_coords[3]\n",
    "x4,y4,z4 = all_coords[4]\n",
    "x5,y5,z5 = all_coords[5]\n",
    "x6,y6,z6 = all_coords[6]\n"
   ]
  },
  {
   "cell_type": "code",
   "execution_count": 62,
   "metadata": {},
   "outputs": [],
   "source": [
    "s = mlab.points3d(box_coords_x,box_coords_y,box_coords_z,mode = \"cube\", color=(0,1,0),scale_factor=1)\n",
    "#s2 = mlab.points3d(new_coords_x,new_coords_y,new_coords_z,mode = \"cube\", color=(1,0,0),scale_factor=1)\n",
    "#s = mlab.points3d(test_coords_x,test_coords_y,test_coords_z,mode = \"cube\", color=(1,1,1),scale_factor=1)\n",
    "\"\"\"mlab.points3d(x0,y0,z0,\n",
    "                  mode=\"cube\", color=(1, 0, 0), scale_factor=1,opacity=1)\n",
    "mlab.points3d(x1,y1,z1,\n",
    "              mode=\"cube\", color=(1, 0, 1), scale_factor=1, opacity=1)\"\"\"\n",
    "\"\"\"mlab.points3d(x2,y2,z2,\n",
    "              mode=\"cube\", color=(1, 1, 0), scale_factor=1, opacity=1)\"\"\"\n",
    "\"\"\"mlab.points3d(x3,y3,z3,\n",
    "              mode=\"cube\", color=(1, 0.5, 0), scale_factor=1, opacity=1)\n",
    "mlab.points3d(x4,y4,z4,\n",
    "              mode=\"cube\", color=(1, 0, 0.5), scale_factor=1, opacity=1)\n",
    "mlab.points3d(x5,y5,z5,\n",
    "              mode=\"cube\", color=(0, 1, 1), scale_factor=1, opacity=1)\n",
    "mlab.points3d(x6,y6,z6,\n",
    "              mode=\"cube\", color=(0, 1, 0), scale_factor=1, opacity=1)\"\"\"\n",
    "y = mlab.points3d(frame_x,frame_y,frame_z,mode = \"cube\", color=(1,0,0),scale_factor=1, opacity = 0)\n",
    "mlab.outline()\n",
    "mlab.show()"
   ]
  }
 ],
 "metadata": {
  "interpreter": {
   "hash": "f8665132f1068c6d656335a3a93d4e1e9cc43466a542cc440a9c028e42f97746"
  },
  "kernelspec": {
   "display_name": "Python 3.9.0 64-bit",
   "language": "python",
   "name": "python3"
  },
  "language_info": {
   "codemirror_mode": {
    "name": "ipython",
    "version": 3
   },
   "file_extension": ".py",
   "mimetype": "text/x-python",
   "name": "python",
   "nbconvert_exporter": "python",
   "pygments_lexer": "ipython3",
   "version": "3.9.0"
  },
  "orig_nbformat": 4
 },
 "nbformat": 4,
 "nbformat_minor": 2
}
