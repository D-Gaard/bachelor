{
 "cells": [
  {
   "cell_type": "code",
   "execution_count": 1,
   "metadata": {},
   "outputs": [],
   "source": [
    "import lineRenderWorldSetup as LR\n",
    "import matplotlib.pyplot as plt\n",
    "from mpl_toolkits.mplot3d import Axes3D\n",
    "import numpy as np\n",
    "import pyvista as pv\n",
    "from mayavi import mlab\n",
    "from natsort import natsorted\n",
    "import os\n",
    "from glob import glob"
   ]
  },
  {
   "cell_type": "code",
   "execution_count": 2,
   "metadata": {},
   "outputs": [
    {
     "name": "stdout",
     "output_type": "stream",
     "text": [
      "['data\\\\image\\\\IMG00000_21.tiff', 'data\\\\image\\\\IMG00001_16.tiff', 'data\\\\image\\\\IMG00003_23.tiff', 'data\\\\image\\\\IMG00004_21.tiff', 'data\\\\image\\\\IMG00006_31.tiff', 'data\\\\image\\\\IMG00007_23.tiff', 'data\\\\image\\\\IMG00008_21.tiff'] ['data\\\\segment\\\\I0_021.tiff', 'data\\\\segment\\\\I1_016.tiff', 'data\\\\segment\\\\I3_023.tiff', 'data\\\\segment\\\\I4_021.tiff', 'data\\\\segment\\\\I6_031.tiff', 'data\\\\segment\\\\I7_023.tiff', 'data\\\\segment\\\\I8_021.tiff']\n"
     ]
    }
   ],
   "source": [
    "path_to_grey_img = r\"data\\image\"\n",
    "path_to_grey_seg = r\"data\\segment\"\n",
    "\n",
    "imgs = natsorted(glob(os.path.join(path_to_grey_img, \"IMG*.tiff\")))\n",
    "segs = natsorted(glob(os.path.join(path_to_grey_seg, \"I*.tiff\")))\n",
    "\n",
    "print(imgs,segs)"
   ]
  },
  {
   "cell_type": "code",
   "execution_count": 3,
   "metadata": {},
   "outputs": [
    {
     "name": "stdout",
     "output_type": "stream",
     "text": [
      "w\n",
      "points\n",
      "points done\n"
     ]
    },
    {
     "data": {
      "text/plain": [
       "'xc2, yc2, zc2 = LR.boxToWorldCorrds(box_rot2, box_dim)\\nxc3, yc3, zc3 = LR.boxToWorldCorrds(box_rot3, box_dim)\\nxc4, yc4, zc4 = LR.boxToWorldCorrds(box_rot4, box_dim)\\nxc5, yc5, zc5 = LR.boxToWorldCorrds(box_rot5, box_dim)\\nxc6, yc6, zc6 = LR.boxToWorldCorrds(box_rot6, box_dim)\\nxc7, yc7, zc7 = LR.boxToWorldCorrds(box_rot7, box_dim)'"
      ]
     },
     "execution_count": 3,
     "metadata": {},
     "output_type": "execute_result"
    }
   ],
   "source": [
    "box_dim = LR.BOX_DIM\n",
    "line_coords0 = LR.createCoordsForImage(segs[0], True)\n",
    "\"\"\"line_coords1 = LR.createCoordsForImage(segs[1])\n",
    "line_coords2 = LR.createCoordsForImage(segs[2])\n",
    "line_coords3 = LR.createCoordsForImage(segs[3])\n",
    "line_coords4 = LR.createCoordsForImage(segs[4])\n",
    "line_coords5 = LR.createCoordsForImage(segs[5])\n",
    "line_coords6 = LR.createCoordsForImage(segs[6])\"\"\"\n",
    "\n",
    "world_coords0 = LR.performBresenham3D(line_coords0,LR.DETECTOR_TO_PATIENT,LR.SRC_TO_PATIENT,box_dim)\n",
    "print(\"w\")\n",
    "\"\"\"world_coords1 = LR.performBresenham3D(line_coords1,LR.DETECTOR_TO_PATIENT,LR.SRC_TO_PATIENT,box_dim)\n",
    "print(\"w\")\n",
    "world_coords2 = LR.performBresenham3D(line_coords2,LR.DETECTOR_TO_PATIENT,LR.SRC_TO_PATIENT,box_dim)\n",
    "print(\"w\")\n",
    "world_coords3 = LR.performBresenham3D(line_coords3,LR.DETECTOR_TO_PATIENT,LR.SRC_TO_PATIENT,box_dim)\n",
    "print(\"w\")\n",
    "world_coords4 = LR.performBresenham3D(line_coords4,LR.DETECTOR_TO_PATIENT,LR.SRC_TO_PATIENT,box_dim)\n",
    "print(\"w\")\n",
    "world_coords5 = LR.performBresenham3D(line_coords5,LR.DETECTOR_TO_PATIENT,LR.SRC_TO_PATIENT,box_dim)\n",
    "print(\"w\")\n",
    "world_coords6 = LR.performBresenham3D(line_coords6,LR.DETECTOR_TO_PATIENT,LR.SRC_TO_PATIENT,box_dim)\n",
    "print(\"w done\")\"\"\"\n",
    "\n",
    "print(\"points\")\n",
    "box0 = LR.savePointsWithinSquare(world_coords0,box_dim)\n",
    "\"\"\"box1 = LR.savePointsWithinSquare(world_coords1,box_dim)\n",
    "box2 = LR.savePointsWithinSquare(world_coords2,box_dim)\n",
    "box3 = LR.savePointsWithinSquare(world_coords3,box_dim)\n",
    "box4 = LR.savePointsWithinSquare(world_coords4,box_dim)\n",
    "box5 = LR.savePointsWithinSquare(world_coords5,box_dim)\n",
    "box6 = LR.savePointsWithinSquare(world_coords6,box_dim)\"\"\"\n",
    "print(\"points done\")\n",
    "\n",
    "box_rot0 = LR.rotatePrimSecond(box0,30.7,0.7)\n",
    "box_rot0 = np.where(box_rot0 > 0.5, 1, 0)\n",
    "\n",
    "\"\"\"box_rot2 = LR.rotatePrimSecond(box1, 11, 20)\n",
    "box_rot2 = np.where(box_rot2 > 0.5, 1, 0)\n",
    "\n",
    "box_rot3 = LR.rotatePrimSecond(box2, -31, -0.1)\n",
    "box_rot3 = np.where(box_rot3 > 0.5, 1, 0)\n",
    "\n",
    "box_rot4 = LR.rotatePrimSecond(box3, -21.5, -24.8)\n",
    "box_rot4 = np.where(box_rot4 > 0.5, 1, 0)\n",
    "\n",
    "box_rot5 = LR.rotatePrimSecond(box4, -24.5, 27.3)\n",
    "box_rot5 = np.where(box_rot5 > 0.5, 1, 0)\n",
    "\n",
    "box_rot6 = LR.rotatePrimSecond(box5, 0.1, 36.7)\n",
    "#box_rot6 = LR.rotatePrimSecond(box, 90, 0)\n",
    "box_rot6 = np.where(box_rot6 > 0.5, 1, 0)\n",
    "\n",
    "box_rot7 = LR.rotatePrimSecond(box6, 49.5, 1.3)\n",
    "#box_rot7 = LR.rotatePrimSecond(box, 90, 90)\n",
    "box_rot7 = np.where(box_rot7 > 0.5, 1, 0)\"\"\"\n",
    "\n",
    "xc, yc, zc = LR.boxToWorldCorrds(box_rot0, box_dim)\n",
    "\"\"\"xc2, yc2, zc2 = LR.boxToWorldCorrds(box_rot2, box_dim)\n",
    "xc3, yc3, zc3 = LR.boxToWorldCorrds(box_rot3, box_dim)\n",
    "xc4, yc4, zc4 = LR.boxToWorldCorrds(box_rot4, box_dim)\n",
    "xc5, yc5, zc5 = LR.boxToWorldCorrds(box_rot5, box_dim)\n",
    "xc6, yc6, zc6 = LR.boxToWorldCorrds(box_rot6, box_dim)\n",
    "xc7, yc7, zc7 = LR.boxToWorldCorrds(box_rot7, box_dim)\"\"\"\n"
   ]
  },
  {
   "cell_type": "code",
   "execution_count": 4,
   "metadata": {},
   "outputs": [],
   "source": [
    "bx = box_dim-1\n",
    "\n",
    "frame_x = np.array([0,0,0,0,bx,bx,bx,bx]) -(bx/2)\n",
    "frame_y = np.array([0,0,bx,bx,0,0,bx,bx]) -(bx/2)\n",
    "frame_z = np.array([0,bx,0,bx,0,bx,0,bx]) -(bx/2)"
   ]
  },
  {
   "cell_type": "code",
   "execution_count": 5,
   "metadata": {},
   "outputs": [
    {
     "data": {
      "text/plain": [
       "'angle_0_final = box_rot0 + box_rot2\\nangle_0_final = np.where(angle_0_final == 2, 1, 0)\\n\\nx_f0, y_f0, z_f0 = LR.boxToWorldCorrds(angle_0_final, box_dim)\\n\\n##################################\\nangle_1_final = box_rot4  + box_rot5 + box_rot6                         # ![(3,7),(5,6)]  [(3,4,6),(4,5,6),(4,5,7),(4,6,7)]\\n#+[(3,4),(3,5),(3,6),(4,5),(4,6),(4,7),(6,7),(3,4,5)] [(3,4,5),\\n# meh [(5,7)]\\nangle_1_final = np.where(angle_1_final == 3, 1, 0)  # 3 best\\n\\nx_f1, y_f1, z_f1 = LR.boxToWorldCorrds(angle_1_final, box_dim)'"
      ]
     },
     "execution_count": 5,
     "metadata": {},
     "output_type": "execute_result"
    }
   ],
   "source": [
    "'''angle_0_final = box_rot0 + box_rot2\n",
    "angle_0_final = np.where(angle_0_final == 2, 1, 0)\n",
    "\n",
    "x_f0, y_f0, z_f0 = LR.boxToWorldCorrds(angle_0_final, box_dim)\n",
    "\n",
    "##################################\n",
    "angle_1_final = box_rot4  + box_rot5 + box_rot6                         # ![(3,7),(5,6)]  [(3,4,6),(4,5,6),(4,5,7),(4,6,7)]\n",
    "#+[(3,4),(3,5),(3,6),(4,5),(4,6),(4,7),(6,7),(3,4,5)] [(3,4,5),\n",
    "# meh [(5,7)]\n",
    "angle_1_final = np.where(angle_1_final == 3, 1, 0)  # 3 best\n",
    "\n",
    "x_f1, y_f1, z_f1 = LR.boxToWorldCorrds(angle_1_final, box_dim)'''\n"
   ]
  },
  {
   "cell_type": "code",
   "execution_count": 6,
   "metadata": {},
   "outputs": [],
   "source": [
    "\n",
    "mlab.points3d(xc, yc, zc,\n",
    "                  mode=\"cube\", color=(1, 0, 0), scale_factor=1,opacity=1)\n",
    "'''mlab.points3d(xc2, yc2, zc2,\n",
    "              mode=\"cube\", color=(1, 0, 1), scale_factor=1, opacity=0.01)'''\n",
    "\n",
    "'''mlab.points3d(x_f1, y_f1, z_f1,\n",
    "              mode=\"cube\", color=(1, 0, 0), scale_factor=1, opacity=1)'''\n",
    "\n",
    "'''mlab.points3d(xc3, yc3, zc3,\n",
    "              mode=\"cube\", color=(1, 1, 0), scale_factor=1, opacity=0.01)\n",
    "mlab.points3d(xc4, yc4, zc4,\n",
    "              mode=\"cube\", color=(1, 0.5, 0), scale_factor=1, opacity=0.01)\n",
    "mlab.points3d(xc5, yc5, zc5,\n",
    "              mode=\"cube\", color=(1, 0, 0.5), scale_factor=1, opacity=0.01)\n",
    "mlab.points3d(xc6, yc6, zc6,\n",
    "              mode=\"cube\", color=(0, 1, 1), scale_factor=1, opacity=0.01)\n",
    "mlab.points3d(xc7, yc7, zc7,\n",
    "              mode=\"cube\", color=(0, 1, 0), scale_factor=1, opacity=0.01)'''\n",
    "              \n",
    "mlab.points3d(frame_x,frame_y,frame_z,\n",
    "              mode=\"cube\", color=(0, 1, 0), scale_factor=1, opacity=0)\n",
    "mlab.outline()\n",
    "\n",
    "mlab.show()\n"
   ]
  }
 ],
 "metadata": {
  "interpreter": {
   "hash": "f8665132f1068c6d656335a3a93d4e1e9cc43466a542cc440a9c028e42f97746"
  },
  "kernelspec": {
   "display_name": "Python 3.9.0 64-bit",
   "language": "python",
   "name": "python3"
  },
  "language_info": {
   "codemirror_mode": {
    "name": "ipython",
    "version": 3
   },
   "file_extension": ".py",
   "mimetype": "text/x-python",
   "name": "python",
   "nbconvert_exporter": "python",
   "pygments_lexer": "ipython3",
   "version": "3.9.0"
  },
  "orig_nbformat": 4
 },
 "nbformat": 4,
 "nbformat_minor": 2
}
