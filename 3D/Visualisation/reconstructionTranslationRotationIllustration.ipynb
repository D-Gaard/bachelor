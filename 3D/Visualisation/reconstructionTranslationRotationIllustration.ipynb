{
 "cells": [
  {
   "cell_type": "code",
   "execution_count": 37,
   "metadata": {},
   "outputs": [],
   "source": [
    "import lineRenderWorldSetup as LR\n",
    "import cv2\n",
    "import numpy as np\n",
    "from mayavi import mlab\n",
    "import matplotlib.pyplot as plt\n",
    "from glob import glob\n",
    "from natsort import natsorted\n",
    "import os\n",
    "import _3dTo2dSetup as D3\n",
    "from sklearn.metrics import precision_score, recall_score, confusion_matrix\n",
    "from scipy.ndimage import zoom"
   ]
  },
  {
   "cell_type": "code",
   "execution_count": 38,
   "metadata": {},
   "outputs": [
    {
     "name": "stdout",
     "output_type": "stream",
     "text": [
      "['model_uncertainty\\\\translated\\\\offset_5\\\\T_-00_-00_5_img.npy', 'model_uncertainty\\\\translated\\\\offset_5\\\\T_-00_-00_5_img_nn.npy', 'model_uncertainty\\\\translated\\\\offset_5\\\\T_-00_-00_5_img_np.npy', 'model_uncertainty\\\\translated\\\\offset_5\\\\T_-00_-00_5_img_nx.npy', 'model_uncertainty\\\\translated\\\\offset_5\\\\T_-00_-00_5_img_pn.npy', 'model_uncertainty\\\\translated\\\\offset_5\\\\T_-00_-00_5_img_pp.npy', 'model_uncertainty\\\\translated\\\\offset_5\\\\T_-00_-00_5_img_px.npy', 'model_uncertainty\\\\translated\\\\offset_5\\\\T_-00_-00_5_img_xn.npy', 'model_uncertainty\\\\translated\\\\offset_5\\\\T_-00_-00_5_img_xp.npy']\n"
     ]
    }
   ],
   "source": [
    "# Load projections\n",
    "path = r\"model_uncertainty\\translated\\offset_5\" #CHANGE NAME BASED ON OFFSET!\n",
    "proj_path = natsorted(glob(os.path.join(path, \"*.npy\")))\n",
    "box_dim = LR.BOX_DIM\n",
    "real_box_dim = 301\n",
    "\n",
    "#load 3D model\n",
    "path_real = r\"solid_400001-segmentation-solid_400001-label.nrrd\"\n",
    "real_box = D3.get3dFigure(real_box_dim, path_real)\n",
    "real_box = np.where(zoom(np.copy(real_box),1.4) >= 1, 1, 0)\n",
    "\n",
    "# order projection based on custom selection (see report)\n",
    "print(proj_path)"
   ]
  },
  {
   "cell_type": "code",
   "execution_count": 39,
   "metadata": {},
   "outputs": [
    {
     "data": {
      "text/plain": [
       "'temp = [proj_path[1]]\\nfor i in range(len(proj_path)):\\n  if i != 1:\\n    temp.append(proj_path[i])\\nproj_path = temp\\n\\nprint(proj_path)'"
      ]
     },
     "execution_count": 39,
     "metadata": {},
     "output_type": "execute_result"
    }
   ],
   "source": [
    "#place 0 rotation box as first elm in list (for rotation only)\n",
    "\"\"\"temp = [proj_path[1]]\n",
    "for i in range(len(proj_path)):\n",
    "  if i != 1:\n",
    "    temp.append(proj_path[i])\n",
    "proj_path = temp\n",
    "\n",
    "print(proj_path)\"\"\""
   ]
  },
  {
   "cell_type": "code",
   "execution_count": 40,
   "metadata": {},
   "outputs": [],
   "source": [
    "base_proj = np.load(r\"model_uncertainty\\normal\\1_N-87_+27.npy\")\n",
    "offset_proj = np.load(proj_path[5])\n",
    "box_total = base_proj + offset_proj\n",
    "box_total = np.where(box_total == 2, 1, 0)"
   ]
  },
  {
   "cell_type": "code",
   "execution_count": 41,
   "metadata": {},
   "outputs": [],
   "source": [
    "x,y,z = LR.boxToWorldCorrds(box_total,box_dim)\n",
    "\n",
    "fx, fy, fz = D3.get3dBox(box_dim)"
   ]
  },
  {
   "cell_type": "code",
   "execution_count": 42,
   "metadata": {},
   "outputs": [
    {
     "ename": "",
     "evalue": "",
     "output_type": "error",
     "traceback": [
      "\u001b[1;31mThe Kernel crashed while executing code in the the current cell or a previous cell. Please review the code in the cell(s) to identify a possible cause of the failure. Click <a href='https://aka.ms/vscodeJupyterKernelCrash'>here</a> for more info. View Jupyter <a href='command:jupyter.viewOutput'>log</a> for further details."
     ]
    }
   ],
   "source": [
    "mlab.points3d(x,y,z,\n",
    "                  mode=\"cube\", color=(1, 0, 0), scale_factor=1,opacity=0.01)\n",
    "mlab.points3d(fx,fy,fz,\n",
    "                  mode=\"cube\", color=(1, 0, 0), scale_factor=1,opacity=0)\n",
    "mlab.outline()\n",
    "mlab.show()"
   ]
  }
 ],
 "metadata": {
  "interpreter": {
   "hash": "f8665132f1068c6d656335a3a93d4e1e9cc43466a542cc440a9c028e42f97746"
  },
  "kernelspec": {
   "display_name": "Python 3.9.0 64-bit",
   "language": "python",
   "name": "python3"
  },
  "language_info": {
   "codemirror_mode": {
    "name": "ipython",
    "version": 3
   },
   "file_extension": ".py",
   "mimetype": "text/x-python",
   "name": "python",
   "nbconvert_exporter": "python",
   "pygments_lexer": "ipython3",
   "version": "3.9.0"
  },
  "orig_nbformat": 4
 },
 "nbformat": 4,
 "nbformat_minor": 2
}
