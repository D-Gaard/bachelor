{
 "cells": [
  {
   "cell_type": "code",
   "execution_count": 18,
   "metadata": {},
   "outputs": [],
   "source": [
    "import lineRenderWorldSetup as LR\n",
    "import cv2\n",
    "import numpy as np\n",
    "from mayavi import mlab\n",
    "import matplotlib.pyplot as plt\n",
    "from glob import glob\n",
    "from natsort import natsorted\n",
    "import os\n",
    "import _3dTo2dSetup as D3\n",
    "from sklearn.metrics import precision_score, recall_score, confusion_matrix\n",
    "from scipy.ndimage import zoom"
   ]
  },
  {
   "cell_type": "code",
   "execution_count": 19,
   "metadata": {},
   "outputs": [
    {
     "name": "stdout",
     "output_type": "stream",
     "text": [
      "['model_uncertainty\\\\docAnglesModel\\\\0_M30.7_0.7.npy', 'model_uncertainty\\\\docAnglesModel\\\\1_M11.0_20.0.npy', 'model_uncertainty\\\\docAnglesModel\\\\3_M-31.0_-0.1.npy', 'model_uncertainty\\\\docAnglesModel\\\\4_M-21.5_-24.8.npy', 'model_uncertainty\\\\docAnglesModel\\\\6_M-24.5_27.3.npy', 'model_uncertainty\\\\docAnglesModel\\\\7_M0.1_36.7.npy', 'model_uncertainty\\\\docAnglesModel\\\\8_M49.5_1.3.npy']\n"
     ]
    }
   ],
   "source": [
    "# Load projections\n",
    "path = r\"model_uncertainty\\docAnglesModel\"\n",
    "proj_path = natsorted(glob(os.path.join(path, \"*.npy\")))\n",
    "box_dim = LR.BOX_DIM\n",
    "real_box_dim = 301\n",
    "\n",
    "#load 3D model\n",
    "path_real = r\"solid_400001-segmentation-solid_400001-label.nrrd\"\n",
    "real_box = D3.get3dFigure(real_box_dim, path_real)\n",
    "real_box = np.where(zoom(np.copy(real_box),1.4) >= 1, 1, 0)\n",
    "\n",
    "# order projection based on custom selection (see report)\n",
    "print(proj_path)"
   ]
  },
  {
   "cell_type": "code",
   "execution_count": 20,
   "metadata": {},
   "outputs": [],
   "source": [
    "box_total_right = np.zeros([445,445,445])\n",
    "box_total_left = np.zeros([445,445,445])\n",
    "# select n projections to intersect in loop\n",
    "for i in range(len(proj_path)): #len(proj_path)\n",
    "  current_box = np.load(proj_path[i])\n",
    "  if i > 1: # every sequence but 0 and 1 contain left coronary artery only\n",
    "    box_total_left = box_total_left + current_box\n",
    "  else: #2 first sequences contain right coronary artery only\n",
    "    box_total_right = box_total_right + current_box\n",
    "\n",
    "n_seqs_r = 2\n",
    "n_seqs_l = 5\n",
    "box_total_right = np.where(box_total_right == n_seqs_r , 1, 0)\n",
    "box_total_left = np.where(box_total_left == n_seqs_l, 1, 0)\n",
    "\n",
    "rx,ry,rz = LR.boxToWorldCorrds(box_total_right,box_dim)\n",
    "lx,ly,lz = LR.boxToWorldCorrds(box_total_left,box_dim)\n",
    "\n",
    "fx, fy, fz = D3.get3dBox(box_dim)"
   ]
  },
  {
   "cell_type": "code",
   "execution_count": 23,
   "metadata": {},
   "outputs": [
    {
     "ename": "",
     "evalue": "",
     "output_type": "error",
     "traceback": [
      "\u001b[1;31mThe Kernel crashed while executing code in the the current cell or a previous cell. Please review the code in the cell(s) to identify a possible cause of the failure. Click <a href='https://aka.ms/vscodeJupyterKernelCrash'>here</a> for more info. View Jupyter <a href='command:jupyter.viewOutput'>log</a> for further details."
     ]
    }
   ],
   "source": [
    "mlab.points3d(rx,ry,rz,\n",
    "                  mode=\"cube\", color=(1, 0, 0), scale_factor=1,opacity=0.01)\n",
    "mlab.points3d(lx,ly,lz,\n",
    "                  mode=\"cube\", color=(0, 1, 0), scale_factor=1,opacity=0.01)\n",
    "mlab.points3d(fx,fy,fz,\n",
    "                  mode=\"cube\", color=(1, 0, 0), scale_factor=1,opacity=0)\n",
    "mlab.outline()\n",
    "mlab.show()"
   ]
  }
 ],
 "metadata": {
  "interpreter": {
   "hash": "f8665132f1068c6d656335a3a93d4e1e9cc43466a542cc440a9c028e42f97746"
  },
  "kernelspec": {
   "display_name": "Python 3.9.0 64-bit",
   "language": "python",
   "name": "python3"
  },
  "language_info": {
   "codemirror_mode": {
    "name": "ipython",
    "version": 3
   },
   "file_extension": ".py",
   "mimetype": "text/x-python",
   "name": "python",
   "nbconvert_exporter": "python",
   "pygments_lexer": "ipython3",
   "version": "3.9.0"
  },
  "orig_nbformat": 4
 },
 "nbformat": 4,
 "nbformat_minor": 2
}
