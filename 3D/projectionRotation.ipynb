{
 "cells": [
  {
   "cell_type": "code",
   "execution_count": 1,
   "metadata": {},
   "outputs": [],
   "source": [
    "import lineRenderWorldSetup as LR\n",
    "import cv2\n",
    "import numpy as np\n",
    "from mayavi import mlab\n",
    "import matplotlib.pyplot as plt"
   ]
  },
  {
   "cell_type": "code",
   "execution_count": 2,
   "metadata": {},
   "outputs": [],
   "source": [
    "#select image and rotational offset\n",
    "path = r\"3dTo2d\\totalUncertancy\\2_+00_+00_angle.png\"\n",
    "img = cv2.imread(path, 0)\n",
    "dim, _ = img.shape[:2]\n",
    "box_dim = LR.BOX_DIM\n",
    "offset = 5\n",
    "flip = False\n",
    "prim_rot = 0\n",
    "secd_rot = 0\n"
   ]
  },
  {
   "cell_type": "code",
   "execution_count": 3,
   "metadata": {},
   "outputs": [],
   "source": [
    "#create back-projection for image\n",
    "def createBox(img):\n",
    "  line_coords = LR.createCoordsForLoadedImageFrom3d(img, flip, dim)\n",
    "  world_coords = LR.performBresenham3D(line_coords, LR.DETECTOR_TO_PATIENT, LR.SRC_TO_PATIENT, box_dim)\n",
    "  box = LR.savePointsWithinSquare(world_coords, box_dim)\n",
    "  #box_rot = LR.rotatePrimSecond(box, prim_rot, secd_rot)\n",
    "  #box_rot = np.where(box_rot > 0.5, 1, 0)\n",
    "  return box #, box_rot\n",
    "\n",
    "#box , box_rot = createBox(img)\n",
    "box = createBox(img)\n"
   ]
  },
  {
   "cell_type": "code",
   "execution_count": 4,
   "metadata": {},
   "outputs": [
    {
     "name": "stdout",
     "output_type": "stream",
     "text": [
      "rotated 5 0\n",
      "rotated -5 0\n",
      "rotated 0 5\n",
      "rotated 0 -5\n",
      "rotated 5 5\n",
      "rotated -5 5\n",
      "rotated 5 -5\n",
      "rotated -5 -5\n"
     ]
    }
   ],
   "source": [
    "#create slightly rotated boxes\n",
    "rotations = [(offset, 0), (-offset, 0),\n",
    "             (0, offset), (0, -offset), \n",
    "             (offset, offset), (-offset, offset),\n",
    "             (offset, -offset), (-offset, -offset)]\n",
    "\n",
    "boxes_rot = [box]\n",
    "for i in rotations:\n",
    "  temp_rot = LR.rotatePrimSecond(np.copy(box), i[0], i[1])\n",
    "  temp_rot = np.where(temp_rot>0.5,1,0)\n",
    "  boxes_rot.append(temp_rot)\n",
    "  print(\"rotated\", i[0],i[1])\n"
   ]
  },
  {
   "cell_type": "code",
   "execution_count": 5,
   "metadata": {},
   "outputs": [
    {
     "data": {
      "text/plain": [
       "8"
      ]
     },
     "execution_count": 5,
     "metadata": {},
     "output_type": "execute_result"
    }
   ],
   "source": [
    "len(rotations)"
   ]
  },
  {
   "cell_type": "code",
   "execution_count": 6,
   "metadata": {},
   "outputs": [
    {
     "name": "stdout",
     "output_type": "stream",
     "text": [
      "9\n",
      "2\n"
     ]
    }
   ],
   "source": [
    "print(len(boxes_rot))\n",
    "print(len(rotations[0]))"
   ]
  },
  {
   "cell_type": "code",
   "execution_count": 7,
   "metadata": {},
   "outputs": [],
   "source": [
    "# Save box projections for each image as numpy arrays\n",
    "name = \"_-00_-00_\"\n",
    "np.save(r\"model_uncertainty\\rotated\\offset_5\\R\" + name + str(offset) + \"_\" +\n",
    "          \"00\",boxes_rot[0])\n",
    "for i in range(1,len(boxes_rot)):\n",
    "  np.save(r\"model_uncertainty\\rotated\\offset_5\\R\" + name + str(offset) + \"_\" +\n",
    "          str(rotations[i-1][0]) + str(rotations[i-1][1]), boxes_rot[i])\n"
   ]
  },
  {
   "cell_type": "code",
   "execution_count": 8,
   "metadata": {},
   "outputs": [
    {
     "name": "stdout",
     "output_type": "stream",
     "text": [
      "15907829\n",
      "0\n",
      "15414030\n",
      "0\n"
     ]
    }
   ],
   "source": [
    "import collections\n",
    "print(np.count_nonzero(boxes_rot[0] == 1))\n",
    "print(np.count_nonzero(boxes_rot[0] == 2))\n",
    "print(np.count_nonzero(boxes_rot[1] == 1))\n",
    "print(np.count_nonzero(boxes_rot[1] == 2))"
   ]
  },
  {
   "cell_type": "code",
   "execution_count": 9,
   "metadata": {},
   "outputs": [],
   "source": [
    "#render box(es)\n",
    "#x, y, z = LR.boxToWorldCorrds(boxes_rot[0], box_dim)\n"
   ]
  },
  {
   "cell_type": "code",
   "execution_count": 10,
   "metadata": {},
   "outputs": [],
   "source": [
    "#mlab.points3d(x, y, z,\n",
    "#              mode=\"cube\", color=(1, 0, 0.5), scale_factor=1, opacity=1)\n",
    "#mlab.show()\n"
   ]
  }
 ],
 "metadata": {
  "interpreter": {
   "hash": "f8665132f1068c6d656335a3a93d4e1e9cc43466a542cc440a9c028e42f97746"
  },
  "kernelspec": {
   "display_name": "Python 3.9.0 64-bit",
   "language": "python",
   "name": "python3"
  },
  "language_info": {
   "codemirror_mode": {
    "name": "ipython",
    "version": 3
   },
   "file_extension": ".py",
   "mimetype": "text/x-python",
   "name": "python",
   "nbconvert_exporter": "python",
   "pygments_lexer": "ipython3",
   "version": "3.9.0"
  },
  "orig_nbformat": 4
 },
 "nbformat": 4,
 "nbformat_minor": 2
}
