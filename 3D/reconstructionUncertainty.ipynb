{
 "cells": [
  {
   "cell_type": "code",
   "execution_count": 1,
   "metadata": {},
   "outputs": [],
   "source": [
    "import lineRenderWorldSetup as LR\n",
    "import cv2\n",
    "import numpy as np\n",
    "from mayavi import mlab\n",
    "import matplotlib.pyplot as plt\n",
    "from glob import glob\n",
    "from natsort import natsorted\n",
    "import os\n",
    "import _3dTo2dSetup as D3\n",
    "from sklearn.metrics import precision_score, recall_score, confusion_matrix\n",
    "from scipy.ndimage import zoom"
   ]
  },
  {
   "cell_type": "code",
   "execution_count": 2,
   "metadata": {},
   "outputs": [
    {
     "name": "stdout",
     "output_type": "stream",
     "text": [
      "['model_uncertainty\\\\normal\\\\1_N-87_+27.npy', 'model_uncertainty\\\\normal\\\\2_N+00_+00.npy', 'model_uncertainty\\\\normal\\\\3_N+87_+27.npy', 'model_uncertainty\\\\normal\\\\4_N+87_-27.npy', 'model_uncertainty\\\\normal\\\\5_N-75_-22.npy', 'model_uncertainty\\\\normal\\\\6_N-43_-11.npy', 'model_uncertainty\\\\normal\\\\7_N-43_+13.npy', 'model_uncertainty\\\\normal\\\\8_N+43_-13.npy', 'model_uncertainty\\\\normal\\\\9_N+43_+13.npy']\n"
     ]
    }
   ],
   "source": [
    "# Load projections\n",
    "path = r\"model_uncertainty\\normal\"\n",
    "proj_path = natsorted(glob(os.path.join(path, \"*.npy\")))\n",
    "box_dim = LR.BOX_DIM\n",
    "real_box_dim = 301\n",
    "\n",
    "#load 3D model\n",
    "path_real = r\"solid_400001-segmentation-solid_400001-label.nrrd\"\n",
    "real_box = D3.get3dFigure(real_box_dim, path_real)\n",
    "real_box = np.where(zoom(np.copy(real_box),1.4) >= 1, 1, 0)\n",
    "\n",
    "# order projection based on custom selection (see report)\n",
    "print(proj_path)"
   ]
  },
  {
   "cell_type": "code",
   "execution_count": 3,
   "metadata": {},
   "outputs": [],
   "source": [
    "box_total = np.zeros([445,445,445])\n",
    "# select n projections to intersect in loop\n",
    "for i in range(len(proj_path)): #len(proj_path)\n",
    "  current_box = np.load(proj_path[i])\n",
    "  box_total = box_total + current_box\n",
    "box_total = np.where(box_total == len(proj_path), 1, 0)\n",
    "\n",
    "#x,y,z = LR.boxToWorldCorrds(box_total,box_dim)\n",
    "\n",
    "fx, fy, fz = D3.get3dBox(box_dim)"
   ]
  },
  {
   "cell_type": "code",
   "execution_count": 4,
   "metadata": {},
   "outputs": [],
   "source": [
    "#mlab.points3d(x,y,z,\n",
    "#                  mode=\"cube\", color=(1, 0, 0), scale_factor=1,opacity=0.5)\n",
    "#mlab.points3d(x1,y1,z1,\n",
    "#                  mode=\"cube\", color=(0, 1, 0), scale_factor=1,opacity=0.5)\n",
    "#mlab.points3d(fx,fy,fz,\n",
    "#                  mode=\"cube\", color=(1, 0, 0), scale_factor=1,opacity=0)\n",
    "#mlab.outline()\n",
    "#mlab.show()"
   ]
  },
  {
   "cell_type": "code",
   "execution_count": 5,
   "metadata": {},
   "outputs": [],
   "source": [
    "def dice_score(true, pred):\n",
    "  true_bool = np.asarray(true).astype(np.bool)\n",
    "  pred_bool = np.asarray(pred).astype(np.bool)\n",
    "  inter = np.logical_and(true_bool,pred_bool)\n",
    "\n",
    "  return (2* inter.sum()) / (true_bool.sum()\n",
    "    + pred_bool.sum())"
   ]
  },
  {
   "cell_type": "code",
   "execution_count": 7,
   "metadata": {},
   "outputs": [
    {
     "name": "stdout",
     "output_type": "stream",
     "text": [
      "12\n"
     ]
    }
   ],
   "source": [
    "#add padding for reconstruction comparison\n",
    "padding = int((box_dim - real_box.shape[0])/2)\n",
    "print(padding)\n",
    "real_box = np.pad(real_box, [(padding, padding), (padding, padding),(padding, padding)], mode='constant')\n",
    "\n",
    "#x1,y1,z1 = LR.boxToWorldCorrds(real_box,real_box.shape[0])\n"
   ]
  },
  {
   "cell_type": "code",
   "execution_count": 8,
   "metadata": {},
   "outputs": [],
   "source": [
    "#mlab.points3d(x,y,z,\n",
    "#                  mode=\"cube\", color=(1, 0, 0), scale_factor=1,opacity=0.5)\n",
    "#mlab.points3d(x1,y1,z1,\n",
    "#                  mode=\"cube\", color=(0, 1, 0), scale_factor=1,opacity=0.5)\n",
    "#mlab.points3d(fx,fy,fz,\n",
    "#                  mode=\"cube\", color=(1, 0, 0), scale_factor=1,opacity=0)\n",
    "mlab.outline()\n",
    "mlab.show()"
   ]
  },
  {
   "cell_type": "code",
   "execution_count": 19,
   "metadata": {},
   "outputs": [
    {
     "name": "stdout",
     "output_type": "stream",
     "text": [
      "Metrics using  0  projections: [tn, fp, fn, tp, dice, precision, recall, f1] [0.86596 0.11644 0.00003 0.01757 0.23177 0.13111 0.99806 0.23177]\n",
      "Metrics using  1  projections: [tn, fp, fn, tp, dice, precision, recall, f1] [0.9491  0.0333  0.00003 0.01757 0.5132  0.3454  0.99806 0.5132 ]\n",
      "Metrics using  2  projections: [tn, fp, fn, tp, dice, precision, recall, f1] [0.97193 0.01046 0.0009  0.0167  0.74615 0.61482 0.94882 0.74615]\n",
      "Metrics using  3  projections: [tn, fp, fn, tp, dice, precision, recall, f1] [0.97355 0.00885 0.00091 0.0167  0.77401 0.65372 0.94856 0.77401]\n",
      "Metrics using  4  projections: [tn, fp, fn, tp, dice, precision, recall, f1] [0.97547 0.00693 0.00091 0.01669 0.80985 0.7067  0.94824 0.80985]\n",
      "Metrics using  5  projections: [tn, fp, fn, tp, dice, precision, recall, f1] [0.97753 0.00486 0.00092 0.01668 0.85222 0.7743  0.94758 0.85222]\n",
      "Metrics using  6  projections: [tn, fp, fn, tp, dice, precision, recall, f1] [0.97815 0.00425 0.00093 0.01667 0.86565 0.79701 0.94721 0.86565]\n",
      "Metrics using  7  projections: [tn, fp, fn, tp, dice, precision, recall, f1] [0.97933 0.00307 0.00093 0.01667 0.89276 0.84444 0.94695 0.89276]\n",
      "Metrics using  8  projections: [tn, fp, fn, tp, dice, precision, recall, f1] [0.97988 0.00251 0.00094 0.01666 0.90614 0.86902 0.94658 0.90614]\n"
     ]
    },
    {
     "ename": "",
     "evalue": "",
     "output_type": "error",
     "traceback": [
      "\u001b[1;31mThe Kernel crashed while executing code in the the current cell or a previous cell. Please review the code in the cell(s) to identify a possible cause of the failure. Click <a href='https://aka.ms/vscodeJupyterKernelCrash'>here</a> for more info. View Jupyter <a href='command:jupyter.viewOutput'>log</a> for further details."
     ]
    }
   ],
   "source": [
    "#Calculate metrics for intersection of projections\n",
    "np.set_printoptions(precision=5, suppress = True)\n",
    "metrics= []\n",
    "box_total = np.load(proj_path[0])\n",
    "for i in range(len(proj_path)): #len(proj_path)\n",
    "  #calculate box intersection\n",
    "  current_box = np.load(proj_path[i])\n",
    "  box_total = box_total + current_box\n",
    "  box_total = np.where(box_total == 2, 1, 0)\n",
    "\n",
    "  #calculate metrics for each reconstruction\n",
    "  TN, FP, FN, TP = confusion_matrix(real_box.flatten(), box_total.flatten()).ravel()\n",
    "  total = TN + FP + FN + TP\n",
    "  accuracy = (TP + TN)/(FP+FN+TP+TN)\n",
    "  precision = TP/(TP+FP)\n",
    "  recall = TP/(TP+FN)\n",
    "  dice = dice_score(real_box.flatten(), box_total.flatten())\n",
    "  #f1 = 2*(precision*recall)/(precision+recall)\n",
    "  scores = np.array([TN/total, FP/total, FN/total, TP/total, dice, precision, recall])\n",
    "  metrics.append(scores)\n",
    "  print(\"Metrics using \", str(i+1), \" projections: [tn, fp, fn, tp, dice, precision, recall]\", scores)"
   ]
  }
 ],
 "metadata": {
  "interpreter": {
   "hash": "f8665132f1068c6d656335a3a93d4e1e9cc43466a542cc440a9c028e42f97746"
  },
  "kernelspec": {
   "display_name": "Python 3.9.0 64-bit",
   "language": "python",
   "name": "python3"
  },
  "language_info": {
   "codemirror_mode": {
    "name": "ipython",
    "version": 3
   },
   "file_extension": ".py",
   "mimetype": "text/x-python",
   "name": "python",
   "nbconvert_exporter": "python",
   "pygments_lexer": "ipython3",
   "version": "3.9.0"
  },
  "orig_nbformat": 4
 },
 "nbformat": 4,
 "nbformat_minor": 2
}
