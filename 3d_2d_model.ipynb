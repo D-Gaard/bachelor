{
 "cells": [
  {
   "cell_type": "code",
   "execution_count": 19,
   "metadata": {},
   "outputs": [],
   "source": [
    "import lineRenderWorldSetup as LR\n",
    "import matplotlib.pyplot as plt\n",
    "from mpl_toolkits.mplot3d import Axes3D\n",
    "import numpy as np\n",
    "import pyvista as pv\n",
    "from mayavi import mlab\n",
    "import _3dTo2dSetup as D3"
   ]
  },
  {
   "cell_type": "code",
   "execution_count": 20,
   "metadata": {},
   "outputs": [],
   "source": [
    "bx_size = 301"
   ]
  },
  {
   "cell_type": "code",
   "execution_count": 21,
   "metadata": {},
   "outputs": [],
   "source": [
    "filename = r\"solid_400001-segmentation-solid_400001-label.nrrd\"\n",
    "box = D3.get3dFigure(bx_size,filename)\n",
    "x,y,z = LR.boxToWorldCorrds(box,bx_size)\n",
    "f_x,f_y,f_z = D3.get3dBox(bx_size)"
   ]
  },
  {
   "cell_type": "code",
   "execution_count": 26,
   "metadata": {},
   "outputs": [],
   "source": [
    "box_rot = D3.rotatePrimSecond(box,90,0)\n",
    "box_rot = np.where(box_rot > 0.5, 1, 0)\n",
    "rot_x,rot_y,rot_z = LR.boxToWorldCorrds(box_rot,bx_size)\n",
    "\n",
    "\n"
   ]
  },
  {
   "cell_type": "code",
   "execution_count": 27,
   "metadata": {},
   "outputs": [],
   "source": [
    "mlab.points3d(rot_x,rot_y,rot_z,\n",
    "                  mode=\"cube\", color=(0, 1, 0), scale_factor=1,opacity=0.5)\n",
    "mlab.points3d(x,y,z,\n",
    "                  mode=\"cube\", color=(1, 0, 0), scale_factor=1,opacity=0.5)\n",
    "mlab.points3d(f_x,f_y,f_z,\n",
    "                  mode=\"cube\", color=(1, 1, 1), scale_factor=1,opacity=0)\n",
    "mlab.outline()\n",
    "mlab.show()"
   ]
  }
 ],
 "metadata": {
  "interpreter": {
   "hash": "f8665132f1068c6d656335a3a93d4e1e9cc43466a542cc440a9c028e42f97746"
  },
  "kernelspec": {
   "display_name": "Python 3.9.0 64-bit",
   "language": "python",
   "name": "python3"
  },
  "language_info": {
   "codemirror_mode": {
    "name": "ipython",
    "version": 3
   },
   "file_extension": ".py",
   "mimetype": "text/x-python",
   "name": "python",
   "nbconvert_exporter": "python",
   "pygments_lexer": "ipython3",
   "version": "3.9.0"
  },
  "orig_nbformat": 4
 },
 "nbformat": 4,
 "nbformat_minor": 2
}
