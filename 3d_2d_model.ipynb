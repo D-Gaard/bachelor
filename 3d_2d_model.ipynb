{
 "cells": [
  {
   "cell_type": "code",
   "execution_count": 10,
   "metadata": {},
   "outputs": [],
   "source": [
    "import lineRenderWorldSetup as LR\n",
    "import matplotlib.pyplot as plt\n",
    "from mpl_toolkits.mplot3d import Axes3D\n",
    "import numpy as np\n",
    "import pyvista as pv\n",
    "from mayavi import mlab\n",
    "import _3dTo2dSetup as D3\n",
    "\n",
    "from scipy.ndimage import zoom"
   ]
  },
  {
   "cell_type": "code",
   "execution_count": 2,
   "metadata": {},
   "outputs": [],
   "source": [
    "bx_size = 301"
   ]
  },
  {
   "cell_type": "code",
   "execution_count": 21,
   "metadata": {},
   "outputs": [],
   "source": [
    "filename = r\"solid_400001-segmentation-solid_400001-label.nrrd\"\n",
    "box = D3.get3dFigure(bx_size,filename)\n",
    "\n",
    "#box[0,0,0] = 1\n",
    "\n",
    "\n",
    "\n",
    "x,y,z = LR.boxToWorldCorrds(box,bx_size)\n",
    "f_x,f_y,f_z = D3.get3dBox(bx_size)"
   ]
  },
  {
   "cell_type": "code",
   "execution_count": 22,
   "metadata": {},
   "outputs": [],
   "source": [
    "re_box = zoom(np.copy(box),2)\n",
    "r2x, r2y, r2z = LR.boxToWorldCorrds(re_box, bx_size)\n"
   ]
  },
  {
   "cell_type": "code",
   "execution_count": 27,
   "metadata": {},
   "outputs": [],
   "source": [
    "re_box2 = re_box[1:,1:,1:]\n",
    "\n",
    "hs = int((re_box2.shape[0] - 1) / 2)\n",
    "re_box3 =re_box2[hs:hs*2+1, hs:hs*2+1, hs:hs*2+1]\n"
   ]
  },
  {
   "cell_type": "code",
   "execution_count": 28,
   "metadata": {},
   "outputs": [
    {
     "data": {
      "text/plain": [
       "(301, 301, 301)"
      ]
     },
     "execution_count": 28,
     "metadata": {},
     "output_type": "execute_result"
    }
   ],
   "source": [
    "re_box3.shape"
   ]
  },
  {
   "cell_type": "code",
   "execution_count": 30,
   "metadata": {},
   "outputs": [],
   "source": [
    "#re_box3 = np.resize(re_box,[bx_size,bx_size,bx_size])\n",
    "rx, ry, rz = LR.boxToWorldCorrds(re_box3, bx_size)\n",
    "\n",
    "#print(re_box)"
   ]
  },
  {
   "cell_type": "code",
   "execution_count": 4,
   "metadata": {},
   "outputs": [],
   "source": [
    "#box_rot = D3.rotatePrimSecond(box,90,0)\n",
    "#box_rot = np.where(box_rot > 0.5, 1, 0)\n",
    "#rot_x,rot_y,rot_z = LR.boxToWorldCorrds(box_rot,bx_size)\n",
    "\n",
    "\n"
   ]
  },
  {
   "cell_type": "code",
   "execution_count": 5,
   "metadata": {},
   "outputs": [],
   "source": [
    "#ortografisk\n",
    "#nImg = np.zeros([735,735])\n",
    "#for x in range(bx_size):\n",
    "#  for y in range(bx_size):\n",
    "    \n"
   ]
  },
  {
   "cell_type": "code",
   "execution_count": 33,
   "metadata": {},
   "outputs": [],
   "source": [
    "#mlab.points3d(rot_x,rot_y,rot_z,\n",
    "#                  mode=\"cube\", color=(0, 1, 0), scale_factor=1,opacity=0.5)\n",
    "mlab.points3d(x,y,z,\n",
    "                  mode=\"cube\", color=(1, 0, 0), scale_factor=1,opacity=0.5)\n",
    "\n",
    "mlab.points3d(r2x, r2y, r2z,\n",
    "              mode=\"cube\", color=(1, 1, 1), scale_factor=1, opacity=0.5)\n",
    "\n",
    "mlab.points3d(rx, ry, rz,\n",
    "              mode=\"cube\", color=(1, 1, 0), scale_factor=1, opacity=0.5)\n",
    "\n",
    "mlab.points3d(f_x,f_y,f_z,\n",
    "                  mode=\"cube\", color=(1, 1, 1), scale_factor=1,opacity=0)\n",
    "mlab.outline()\n",
    "mlab.show()\n"
   ]
  }
 ],
 "metadata": {
  "interpreter": {
   "hash": "0168595519c989d7f67b82b29d7f10b1cf9acc10b5dfc45f1935b31ca602370e"
  },
  "kernelspec": {
   "display_name": "Python 3.8.10 64-bit (windows store)",
   "language": "python",
   "name": "python3"
  },
  "language_info": {
   "codemirror_mode": {
    "name": "ipython",
    "version": 3
   },
   "file_extension": ".py",
   "mimetype": "text/x-python",
   "name": "python",
   "nbconvert_exporter": "python",
   "pygments_lexer": "ipython3",
   "version": "3.8.10"
  },
  "orig_nbformat": 4
 },
 "nbformat": 4,
 "nbformat_minor": 2
}
