{
 "cells": [
  {
   "cell_type": "code",
   "execution_count": 13,
   "metadata": {},
   "outputs": [],
   "source": [
    "import cv2\n",
    "import numpy as np\n",
    "import getData\n",
    "from natsort import natsorted"
   ]
  },
  {
   "cell_type": "code",
   "execution_count": 22,
   "metadata": {},
   "outputs": [],
   "source": [
    "a , b ,aa, bb ,aaa, bbb = getData.getTestValTrainSplit(\"0\")\n",
    "\n",
    "imgs = natsorted(a + aa + aaa)\n",
    "segs = natsorted(b + bb + bbb)"
   ]
  },
  {
   "cell_type": "code",
   "execution_count": 23,
   "metadata": {},
   "outputs": [],
   "source": [
    "#source https://medium.com/analytics-vidhya/skeletonization-in-python-using-opencv-b7fa16867331\n",
    "\n",
    "# Read the image as a grayscale image\n",
    "img = cv2.imread(imgs[len(imgs)-1], 0)\n",
    "\n",
    "# Threshold the image\n",
    "ret, img = cv2.threshold(img, 127, 255, 0)\n",
    "\n",
    "img = cv2.imread(segs[len(imgs)-1], 0)\n",
    "\n",
    "\n",
    "# Step 1: Create an empty skeleton\n",
    "size = np.size(img)\n",
    "skel = np.zeros(img.shape, np.uint8)\n",
    "\n",
    "# Get a Cross Shaped Kernel\n",
    "element = cv2.getStructuringElement(cv2.MORPH_CROSS, (3, 3))\n",
    "\n",
    "# Repeat steps 2-4\n",
    "while True:\n",
    "    #Step 2: Open the image\n",
    "    open = cv2.morphologyEx(img, cv2.MORPH_OPEN, element)\n",
    "    #Step 3: Substract open from the original image\n",
    "    temp = cv2.subtract(img, open)\n",
    "    #Step 4: Erode the original image and refine the skeleton\n",
    "    eroded = cv2.erode(img, element)\n",
    "    skel = cv2.bitwise_or(skel, temp)\n",
    "    img = eroded.copy()\n",
    "    # Step 5: If there are no white pixels left ie.. the image has been completely eroded, quit the loop\n",
    "    if cv2.countNonZero(img) == 0:\n",
    "        break\n",
    "\n",
    "# Displaying the final skeleton\n",
    "cv2.imshow(\"Skeleton\", skel)\n",
    "cv2.waitKey(0)\n",
    "cv2.destroyAllWindows()\n"
   ]
  }
 ],
 "metadata": {
  "interpreter": {
   "hash": "88946f9aecc9e5e8f630804ce050d3df662dbcba71d8bd1ac2e861f0278b7de2"
  },
  "kernelspec": {
   "display_name": "Python 3.8.10 64-bit (windows store)",
   "language": "python",
   "name": "python3"
  },
  "language_info": {
   "codemirror_mode": {
    "name": "ipython",
    "version": 3
   },
   "file_extension": ".py",
   "mimetype": "text/x-python",
   "name": "python",
   "nbconvert_exporter": "python",
   "pygments_lexer": "ipython3",
   "version": "3.8.10"
  },
  "orig_nbformat": 4
 },
 "nbformat": 4,
 "nbformat_minor": 2
}
