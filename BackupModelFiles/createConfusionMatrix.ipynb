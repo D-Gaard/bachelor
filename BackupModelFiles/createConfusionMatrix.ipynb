{
 "cells": [
  {
   "cell_type": "code",
   "execution_count": 6,
   "metadata": {},
   "outputs": [],
   "source": [
    "import cv2\n",
    "import numpy as np\n",
    "import getData\n",
    "import sklearn.metrics\n"
   ]
  },
  {
   "cell_type": "code",
   "execution_count": 2,
   "metadata": {},
   "outputs": [],
   "source": [
    "a, b, aa, bb, aaa, bbb = getData.getTestValTrainSplit(\"0\")\n",
    "images = aaa\n",
    "segs = bbb\n"
   ]
  },
  {
   "cell_type": "code",
   "execution_count": 3,
   "metadata": {},
   "outputs": [],
   "source": [
    "img = cv2.imread(segs[0],0)\n",
    "seg = cv2.imread(segs[1],0)\n",
    "\n",
    "pred_labels = [1,1,1,0,0,0,1]\n",
    "true_labels = [1,0,0,1,1,0,1]\n"
   ]
  },
  {
   "cell_type": "code",
   "execution_count": 8,
   "metadata": {},
   "outputs": [
    {
     "data": {
      "text/plain": [
       "array([[514039,   5021],\n",
       "       [ 22510,    126]], dtype=int64)"
      ]
     },
     "execution_count": 8,
     "metadata": {},
     "output_type": "execute_result"
    }
   ],
   "source": [
    "sklearn.metrics.confusion_matrix(img.flatten(),seg.flatten())"
   ]
  },
  {
   "cell_type": "code",
   "execution_count": 4,
   "metadata": {},
   "outputs": [
    {
     "name": "stdout",
     "output_type": "stream",
     "text": [
      "TP: 0, FP: 0, TN: 0, FN: 0\n"
     ]
    }
   ],
   "source": [
    "TP = np.sum(np.logical_and(pred_labels == 1, true_labels == 1))\n",
    "\n",
    "# True Negative (TN): we predict a label of 0 (negative), and the true label is 0.\n",
    "TN = np.sum(np.logical_and(pred_labels == 0, true_labels == 0))\n",
    "\n",
    "# False Positive (FP): we predict a label of 1 (positive), but the true label is 0.\n",
    "FP = np.sum(np.logical_and(pred_labels == 1, true_labels == 0))\n",
    "\n",
    "# False Negative (FN): we predict a label of 0 (negative), but the true label is 1.\n",
    "FN = np.sum(np.logical_and(pred_labels == 0, true_labels == 1))\n",
    "\n",
    "print('TP: %i, FP: %i, TN: %i, FN: %i' % (TP, FP, TN, FN))\n"
   ]
  }
 ],
 "metadata": {
  "interpreter": {
   "hash": "88946f9aecc9e5e8f630804ce050d3df662dbcba71d8bd1ac2e861f0278b7de2"
  },
  "kernelspec": {
   "display_name": "Python 3.8.10 64-bit (windows store)",
   "language": "python",
   "name": "python3"
  },
  "language_info": {
   "codemirror_mode": {
    "name": "ipython",
    "version": 3
   },
   "file_extension": ".py",
   "mimetype": "text/x-python",
   "name": "python",
   "nbconvert_exporter": "python",
   "pygments_lexer": "ipython3",
   "version": "3.8.10"
  },
  "orig_nbformat": 4
 },
 "nbformat": 4,
 "nbformat_minor": 2
}
