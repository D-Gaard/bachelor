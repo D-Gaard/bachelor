{
 "cells": [
  {
   "cell_type": "markdown",
   "metadata": {},
   "source": [
    "#About data\n",
    "V2 dose not exist\n",
    "V3 segmentations are a bit scuffed (on the first few pictures (should probably be disregarded))\n",
    "V4 similar to V3\n",
    "V5 dose not exist\n"
   ]
  },
  {
   "cell_type": "code",
   "execution_count": 1,
   "metadata": {},
   "outputs": [],
   "source": [
    "import cv2\n",
    "from getData import getImageSegPaths\n",
    "from getData import getMultipleImageSegPaths\n",
    "from getData import getRandomImageSegSplit\n",
    "from getData import getSplitSize\n",
    "from getData import getTestValTrainSplit\n",
    "from getData import createNewTestValTrainFolders\n",
    "from getData import copyImgSegToTrainValTestFolder\n",
    "from getData import copyAllImgSegToTrainValTestFolder\n",
    "from getData import getImageSegTrainValTest"
   ]
  },
  {
   "cell_type": "code",
   "execution_count": 10,
   "metadata": {},
   "outputs": [
    {
     "name": "stdout",
     "output_type": "stream",
     "text": [
      "0 30 6 6\n",
      "1 22 5 5\n",
      "3 26 5 5\n",
      "4 27 6 6\n",
      "6 40 9 9\n",
      "7 39 9 9\n",
      "8 40 9 9\n",
      "224 49 49\n"
     ]
    }
   ],
   "source": [
    "versions = [\"0\", \"1\", \"3\", \"4\", \"6\", \"7\", \"8\"]\n",
    "\n",
    "asum = 0\n",
    "aasum = 0\n",
    "aaasum = 0\n",
    "for v in range(len(versions)):\n",
    "  a, b, aa, bb, aaa, bbb = getTestValTrainSplit(versions[v])\n",
    "  asum += len(a)\n",
    "  aasum += len(aa)\n",
    "  aaasum += len(aaa)\n",
    "  print(versions[v],len(a),len(aa),len(aaa))\n",
    "\n",
    "print(asum,aasum,aaasum)"
   ]
  },
  {
   "cell_type": "code",
   "execution_count": 2,
   "metadata": {},
   "outputs": [
    {
     "name": "stdout",
     "output_type": "stream",
     "text": [
      "(736, 736, 3)\n",
      "(736, 736)\n"
     ]
    },
    {
     "data": {
      "text/plain": [
       "True"
      ]
     },
     "execution_count": 2,
     "metadata": {},
     "output_type": "execute_result"
    }
   ],
   "source": [
    "path = r\"C:\\Users\\Mads Syge Monster PC\\Desktop\\pythonDUmp\\test\\I1_01.tiff\"\n",
    "path2 = r\"C:\\Users\\Mads Syge Monster PC\\Desktop\\pythonDUmp\\test\\I1_01ab.tiff\"\n",
    "a = cv2.imread(path)\n",
    "print(a.shape)\n",
    "b = cv2.cvtColor(a,cv2.COLOR_BGR2GRAY)\n",
    "print(b.shape)\n",
    "cv2.imwrite(path,b)\n"
   ]
  },
  {
   "cell_type": "code",
   "execution_count": 3,
   "metadata": {},
   "outputs": [
    {
     "name": "stdout",
     "output_type": "stream",
     "text": [
      "AllData\\img_v8\\image\\IMG00008_01.tiff\n",
      "AllData\\img_v8\\image\\IMG00008_02.tiff\n",
      "AllData\\img_v8\\image\\IMG00008_03.tiff\n",
      "AllData\\img_v8\\image\\IMG00008_04.tiff\n",
      "AllData\\img_v8\\image\\IMG00008_05.tiff\n",
      "AllData\\img_v8\\image\\IMG00008_06.tiff\n",
      "AllData\\img_v8\\image\\IMG00008_07.tiff\n",
      "AllData\\img_v8\\image\\IMG00008_08.tiff\n",
      "AllData\\img_v8\\image\\IMG00008_09.tiff\n",
      "AllData\\img_v8\\image\\IMG00008_10.tiff\n",
      "AllData\\img_v8\\image\\IMG00008_11.tiff\n",
      "AllData\\img_v8\\image\\IMG00008_12.tiff\n",
      "AllData\\img_v8\\image\\IMG00008_13.tiff\n",
      "AllData\\img_v8\\image\\IMG00008_14.tiff\n",
      "AllData\\img_v8\\image\\IMG00008_15.tiff\n",
      "AllData\\img_v8\\image\\IMG00008_16.tiff\n",
      "AllData\\img_v8\\image\\IMG00008_17.tiff\n",
      "AllData\\img_v8\\image\\IMG00008_18.tiff\n",
      "AllData\\img_v8\\image\\IMG00008_19.tiff\n",
      "AllData\\img_v8\\image\\IMG00008_20.tiff\n",
      "AllData\\img_v8\\image\\IMG00008_21.tiff\n",
      "AllData\\img_v8\\image\\IMG00008_22.tiff\n",
      "AllData\\img_v8\\image\\IMG00008_23.tiff\n",
      "AllData\\img_v8\\image\\IMG00008_24.tiff\n",
      "AllData\\img_v8\\image\\IMG00008_25.tiff\n",
      "AllData\\img_v8\\image\\IMG00008_26.tiff\n",
      "AllData\\img_v8\\image\\IMG00008_27.tiff\n",
      "AllData\\img_v8\\image\\IMG00008_28.tiff\n",
      "AllData\\img_v8\\image\\IMG00008_29.tiff\n",
      "AllData\\img_v8\\image\\IMG00008_30.tiff\n",
      "AllData\\img_v8\\image\\IMG00008_31.tiff\n",
      "AllData\\img_v8\\image\\IMG00008_32.tiff\n",
      "AllData\\img_v8\\image\\IMG00008_33.tiff\n",
      "AllData\\img_v8\\image\\IMG00008_34.tiff\n",
      "AllData\\img_v8\\image\\IMG00008_35.tiff\n",
      "AllData\\img_v8\\image\\IMG00008_36.tiff\n",
      "AllData\\img_v8\\image\\IMG00008_37.tiff\n",
      "AllData\\img_v8\\image\\IMG00008_38.tiff\n",
      "AllData\\img_v8\\image\\IMG00008_39.tiff\n",
      "AllData\\img_v8\\image\\IMG00008_40.tiff\n",
      "AllData\\img_v8\\image\\IMG00008_41.tiff\n",
      "AllData\\img_v8\\image\\IMG00008_42.tiff\n",
      "AllData\\img_v8\\image\\IMG00008_43.tiff\n",
      "AllData\\img_v8\\image\\IMG00008_44.tiff\n",
      "AllData\\img_v8\\image\\IMG00008_45.tiff\n",
      "AllData\\img_v8\\image\\IMG00008_46.tiff\n",
      "AllData\\img_v8\\image\\IMG00008_47.tiff\n",
      "AllData\\img_v8\\image\\IMG00008_48.tiff\n",
      "AllData\\img_v8\\image\\IMG00008_49.tiff\n",
      "AllData\\img_v8\\image\\IMG00008_50.tiff\n",
      "AllData\\img_v8\\image\\IMG00008_51.tiff\n",
      "AllData\\img_v8\\image\\IMG00008_52.tiff\n",
      "AllData\\img_v8\\image\\IMG00008_53.tiff\n",
      "AllData\\img_v8\\image\\IMG00008_54.tiff\n",
      "AllData\\img_v8\\image\\IMG00008_55.tiff\n",
      "AllData\\img_v8\\image\\IMG00008_56.tiff\n",
      "AllData\\img_v8\\image\\IMG00008_57.tiff\n",
      "AllData\\img_v8\\image\\IMG00008_58.tiff\n",
      "AllData\\img_v8\\segment\\I8_01.tiff\n",
      "AllData\\img_v8\\segment\\I8_02.tiff\n",
      "AllData\\img_v8\\segment\\I8_03.tiff\n",
      "AllData\\img_v8\\segment\\I8_04.tiff\n",
      "AllData\\img_v8\\segment\\I8_05.tiff\n",
      "AllData\\img_v8\\segment\\I8_06.tiff\n",
      "AllData\\img_v8\\segment\\I8_07.tiff\n",
      "AllData\\img_v8\\segment\\I8_08.tiff\n",
      "AllData\\img_v8\\segment\\I8_09.tiff\n",
      "AllData\\img_v8\\segment\\I8_010.tiff\n",
      "AllData\\img_v8\\segment\\I8_011.tiff\n",
      "AllData\\img_v8\\segment\\I8_012.tiff\n",
      "AllData\\img_v8\\segment\\I8_013.tiff\n",
      "AllData\\img_v8\\segment\\I8_014.tiff\n",
      "AllData\\img_v8\\segment\\I8_015.tiff\n",
      "AllData\\img_v8\\segment\\I8_016.tiff\n",
      "AllData\\img_v8\\segment\\I8_017.tiff\n",
      "AllData\\img_v8\\segment\\I8_018.tiff\n",
      "AllData\\img_v8\\segment\\I8_019.tiff\n",
      "AllData\\img_v8\\segment\\I8_020.tiff\n",
      "AllData\\img_v8\\segment\\I8_021.tiff\n",
      "AllData\\img_v8\\segment\\I8_022.tiff\n",
      "AllData\\img_v8\\segment\\I8_023.tiff\n",
      "AllData\\img_v8\\segment\\I8_024.tiff\n",
      "AllData\\img_v8\\segment\\I8_025.tiff\n",
      "AllData\\img_v8\\segment\\I8_026.tiff\n",
      "AllData\\img_v8\\segment\\I8_027.tiff\n",
      "AllData\\img_v8\\segment\\I8_028.tiff\n",
      "AllData\\img_v8\\segment\\I8_029.tiff\n",
      "AllData\\img_v8\\segment\\I8_030.tiff\n",
      "AllData\\img_v8\\segment\\I8_031.tiff\n",
      "AllData\\img_v8\\segment\\I8_032.tiff\n",
      "AllData\\img_v8\\segment\\I8_033.tiff\n",
      "AllData\\img_v8\\segment\\I8_034.tiff\n",
      "AllData\\img_v8\\segment\\I8_035.tiff\n",
      "AllData\\img_v8\\segment\\I8_036.tiff\n",
      "AllData\\img_v8\\segment\\I8_037.tiff\n",
      "AllData\\img_v8\\segment\\I8_038.tiff\n",
      "AllData\\img_v8\\segment\\I8_039.tiff\n",
      "AllData\\img_v8\\segment\\I8_040.tiff\n",
      "AllData\\img_v8\\segment\\I8_041.tiff\n",
      "AllData\\img_v8\\segment\\I8_042.tiff\n",
      "AllData\\img_v8\\segment\\I8_043.tiff\n",
      "AllData\\img_v8\\segment\\I8_044.tiff\n",
      "AllData\\img_v8\\segment\\I8_045.tiff\n",
      "AllData\\img_v8\\segment\\I8_046.tiff\n",
      "AllData\\img_v8\\segment\\I8_047.tiff\n",
      "AllData\\img_v8\\segment\\I8_048.tiff\n",
      "AllData\\img_v8\\segment\\I8_049.tiff\n",
      "AllData\\img_v8\\segment\\I8_050.tiff\n",
      "AllData\\img_v8\\segment\\I8_051.tiff\n",
      "AllData\\img_v8\\segment\\I8_052.tiff\n",
      "AllData\\img_v8\\segment\\I8_053.tiff\n",
      "AllData\\img_v8\\segment\\I8_054.tiff\n",
      "AllData\\img_v8\\segment\\I8_055.tiff\n",
      "AllData\\img_v8\\segment\\I8_056.tiff\n",
      "AllData\\img_v8\\segment\\I8_057.tiff\n",
      "AllData\\img_v8\\segment\\I8_058.tiff\n"
     ]
    }
   ],
   "source": [
    "path = r\"AllData\\img_v0\\segment\"\n",
    "\n",
    "imgs , segs = getImageSegPaths(\"8\")\n",
    "\n",
    "for x in imgs:\n",
    "  print(x)\n",
    "  a = cv2.imread(x)\n",
    "  b = cv2.cvtColor(a, cv2.COLOR_BGR2GRAY)\n",
    "  cv2.imwrite(x, b)\n",
    "\n",
    "for x in segs:\n",
    "  print(x)\n",
    "  a = cv2.imread(x)\n",
    "  b = cv2.cvtColor(a, cv2.COLOR_BGR2GRAY)\n",
    "  cv2.imwrite(x, b)\n"
   ]
  },
  {
   "cell_type": "code",
   "execution_count": 4,
   "metadata": {},
   "outputs": [],
   "source": [
    "from getData import copyMultipleImgSegToTrainValTestFolder\n",
    "\n",
    "copyMultipleImgSegToTrainValTestFolder()"
   ]
  },
  {
   "cell_type": "code",
   "execution_count": 5,
   "metadata": {},
   "outputs": [],
   "source": [
    "copyAllImgSegToTrainValTestFolder()\n"
   ]
  },
  {
   "cell_type": "code",
   "execution_count": 6,
   "metadata": {},
   "outputs": [
    {
     "data": {
      "text/plain": [
       "(736, 736)"
      ]
     },
     "execution_count": 6,
     "metadata": {},
     "output_type": "execute_result"
    }
   ],
   "source": [
    "from PIL import Image\n",
    "imgs, segs = getImageSegPaths(\"0\")\n",
    "a = Image.open(r\"AllData\\img_v0\\segment\\test\\I0_06.tiff\")\n",
    "a.size\n"
   ]
  },
  {
   "cell_type": "code",
   "execution_count": 7,
   "metadata": {},
   "outputs": [
    {
     "data": {
      "text/plain": [
       "['AllData\\\\img_v1\\\\image\\\\IMG00001_01.tiff',\n",
       " 'AllData\\\\img_v1\\\\image\\\\IMG00001_02.tiff',\n",
       " 'AllData\\\\img_v1\\\\image\\\\IMG00001_03.tiff',\n",
       " 'AllData\\\\img_v1\\\\image\\\\IMG00001_04.tiff',\n",
       " 'AllData\\\\img_v1\\\\image\\\\IMG00001_05.tiff',\n",
       " 'AllData\\\\img_v1\\\\image\\\\IMG00001_06.tiff',\n",
       " 'AllData\\\\img_v1\\\\image\\\\IMG00001_07.tiff',\n",
       " 'AllData\\\\img_v1\\\\image\\\\IMG00001_08.tiff',\n",
       " 'AllData\\\\img_v1\\\\image\\\\IMG00001_09.tiff',\n",
       " 'AllData\\\\img_v1\\\\image\\\\IMG00001_10.tiff',\n",
       " 'AllData\\\\img_v1\\\\image\\\\IMG00001_11.tiff',\n",
       " 'AllData\\\\img_v1\\\\image\\\\IMG00001_12.tiff',\n",
       " 'AllData\\\\img_v1\\\\image\\\\IMG00001_13.tiff',\n",
       " 'AllData\\\\img_v1\\\\image\\\\IMG00001_14.tiff',\n",
       " 'AllData\\\\img_v1\\\\image\\\\IMG00001_15.tiff',\n",
       " 'AllData\\\\img_v1\\\\image\\\\IMG00001_16.tiff',\n",
       " 'AllData\\\\img_v1\\\\image\\\\IMG00001_17.tiff',\n",
       " 'AllData\\\\img_v1\\\\image\\\\IMG00001_18.tiff',\n",
       " 'AllData\\\\img_v1\\\\image\\\\IMG00001_19.tiff',\n",
       " 'AllData\\\\img_v1\\\\image\\\\IMG00001_20.tiff',\n",
       " 'AllData\\\\img_v1\\\\image\\\\IMG00001_21.tiff',\n",
       " 'AllData\\\\img_v1\\\\image\\\\IMG00001_22.tiff',\n",
       " 'AllData\\\\img_v1\\\\image\\\\IMG00001_23.tiff',\n",
       " 'AllData\\\\img_v1\\\\image\\\\IMG00001_24.tiff',\n",
       " 'AllData\\\\img_v1\\\\image\\\\IMG00001_25.tiff',\n",
       " 'AllData\\\\img_v1\\\\image\\\\IMG00001_26.tiff',\n",
       " 'AllData\\\\img_v1\\\\image\\\\IMG00001_27.tiff',\n",
       " 'AllData\\\\img_v1\\\\image\\\\IMG00001_28.tiff',\n",
       " 'AllData\\\\img_v1\\\\image\\\\IMG00001_29.tiff',\n",
       " 'AllData\\\\img_v1\\\\image\\\\IMG00001_30.tiff',\n",
       " 'AllData\\\\img_v1\\\\image\\\\IMG00001_31.tiff',\n",
       " 'AllData\\\\img_v1\\\\image\\\\IMG00001_32.tiff',\n",
       " 'AllData\\\\img_v3\\\\image\\\\IMG00003_12.tiff',\n",
       " 'AllData\\\\img_v3\\\\image\\\\IMG00003_13.tiff',\n",
       " 'AllData\\\\img_v3\\\\image\\\\IMG00003_14.tiff',\n",
       " 'AllData\\\\img_v3\\\\image\\\\IMG00003_15.tiff',\n",
       " 'AllData\\\\img_v3\\\\image\\\\IMG00003_16.tiff',\n",
       " 'AllData\\\\img_v3\\\\image\\\\IMG00003_17.tiff',\n",
       " 'AllData\\\\img_v3\\\\image\\\\IMG00003_18.tiff',\n",
       " 'AllData\\\\img_v3\\\\image\\\\IMG00003_19.tiff',\n",
       " 'AllData\\\\img_v3\\\\image\\\\IMG00003_20.tiff',\n",
       " 'AllData\\\\img_v3\\\\image\\\\IMG00003_21.tiff',\n",
       " 'AllData\\\\img_v3\\\\image\\\\IMG00003_22.tiff',\n",
       " 'AllData\\\\img_v3\\\\image\\\\IMG00003_23.tiff',\n",
       " 'AllData\\\\img_v3\\\\image\\\\IMG00003_24.tiff',\n",
       " 'AllData\\\\img_v3\\\\image\\\\IMG00003_25.tiff',\n",
       " 'AllData\\\\img_v3\\\\image\\\\IMG00003_26.tiff',\n",
       " 'AllData\\\\img_v3\\\\image\\\\IMG00003_27.tiff',\n",
       " 'AllData\\\\img_v3\\\\image\\\\IMG00003_28.tiff',\n",
       " 'AllData\\\\img_v3\\\\image\\\\IMG00003_29.tiff',\n",
       " 'AllData\\\\img_v3\\\\image\\\\IMG00003_30.tiff',\n",
       " 'AllData\\\\img_v3\\\\image\\\\IMG00003_31.tiff',\n",
       " 'AllData\\\\img_v3\\\\image\\\\IMG00003_32.tiff',\n",
       " 'AllData\\\\img_v3\\\\image\\\\IMG00003_33.tiff',\n",
       " 'AllData\\\\img_v3\\\\image\\\\IMG00003_34.tiff',\n",
       " 'AllData\\\\img_v3\\\\image\\\\IMG00003_35.tiff',\n",
       " 'AllData\\\\img_v3\\\\image\\\\IMG00003_36.tiff',\n",
       " 'AllData\\\\img_v3\\\\image\\\\IMG00003_37.tiff',\n",
       " 'AllData\\\\img_v3\\\\image\\\\IMG00003_38.tiff',\n",
       " 'AllData\\\\img_v3\\\\image\\\\IMG00003_39.tiff',\n",
       " 'AllData\\\\img_v3\\\\image\\\\IMG00003_40.tiff',\n",
       " 'AllData\\\\img_v3\\\\image\\\\IMG00003_41.tiff',\n",
       " 'AllData\\\\img_v3\\\\image\\\\IMG00003_42.tiff',\n",
       " 'AllData\\\\img_v3\\\\image\\\\IMG00003_43.tiff',\n",
       " 'AllData\\\\img_v3\\\\image\\\\IMG00003_44.tiff',\n",
       " 'AllData\\\\img_v3\\\\image\\\\IMG00003_45.tiff',\n",
       " 'AllData\\\\img_v3\\\\image\\\\IMG00003_46.tiff',\n",
       " 'AllData\\\\img_v3\\\\image\\\\IMG00003_47.tiff']"
      ]
     },
     "execution_count": 7,
     "metadata": {},
     "output_type": "execute_result"
    }
   ],
   "source": [
    "a , b = getMultipleImageSegPaths([\"1\",\"3\",\"5\"])\n",
    "a1 ,a2 ,a3 ,a4 = getRandomImageSegSplit(a,b,10)\n",
    "a"
   ]
  },
  {
   "cell_type": "code",
   "execution_count": 8,
   "metadata": {},
   "outputs": [
    {
     "ename": "ValueError",
     "evalue": "Sample larger than population or is negative",
     "output_type": "error",
     "traceback": [
      "\u001b[1;31m---------------------------------------------------------------------------\u001b[0m",
      "\u001b[1;31mValueError\u001b[0m                                Traceback (most recent call last)",
      "\u001b[1;32m<ipython-input-8-d293e47fed0b>\u001b[0m in \u001b[0;36m<module>\u001b[1;34m\u001b[0m\n\u001b[0;32m      1\u001b[0m \u001b[0mc\u001b[0m \u001b[1;33m,\u001b[0m \u001b[0md\u001b[0m \u001b[1;33m=\u001b[0m \u001b[0mgetMultipleImageSegPaths\u001b[0m\u001b[1;33m(\u001b[0m\u001b[1;33m[\u001b[0m\u001b[1;34m\"\"\u001b[0m\u001b[1;33m]\u001b[0m\u001b[1;33m)\u001b[0m\u001b[1;33m\u001b[0m\u001b[1;33m\u001b[0m\u001b[0m\n\u001b[1;32m----> 2\u001b[1;33m \u001b[0mc1\u001b[0m \u001b[1;33m,\u001b[0m \u001b[0mc2\u001b[0m \u001b[1;33m,\u001b[0m\u001b[0mc3\u001b[0m \u001b[1;33m,\u001b[0m\u001b[0mc4\u001b[0m \u001b[1;33m=\u001b[0m \u001b[0mgetRandomImageSegSplit\u001b[0m\u001b[1;33m(\u001b[0m\u001b[0mc\u001b[0m\u001b[1;33m,\u001b[0m\u001b[0md\u001b[0m\u001b[1;33m,\u001b[0m\u001b[1;36m6\u001b[0m\u001b[1;33m)\u001b[0m\u001b[1;33m\u001b[0m\u001b[1;33m\u001b[0m\u001b[0m\n\u001b[0m\u001b[0;32m      3\u001b[0m \u001b[1;33m\u001b[0m\u001b[0m\n\u001b[0;32m      4\u001b[0m \u001b[0mc3\u001b[0m\u001b[1;33m\u001b[0m\u001b[1;33m\u001b[0m\u001b[0m\n",
      "\u001b[1;32mc:\\Users\\Mads Syge Monster PC\\Desktop\\pythonDUmp\\getData.py\u001b[0m in \u001b[0;36mgetRandomImageSegSplit\u001b[1;34m(imagePaths, segPaths, splitSize, seed)\u001b[0m\n\u001b[0;32m     34\u001b[0m \u001b[1;32mdef\u001b[0m \u001b[0mgetRandomImageSegSplit\u001b[0m\u001b[1;33m(\u001b[0m\u001b[0mimagePaths\u001b[0m\u001b[1;33m,\u001b[0m \u001b[0msegPaths\u001b[0m\u001b[1;33m,\u001b[0m \u001b[0msplitSize\u001b[0m\u001b[1;33m,\u001b[0m \u001b[0mseed\u001b[0m\u001b[1;33m=\u001b[0m\u001b[1;36m23\u001b[0m\u001b[1;33m)\u001b[0m\u001b[1;33m:\u001b[0m\u001b[1;33m\u001b[0m\u001b[1;33m\u001b[0m\u001b[0m\n\u001b[0;32m     35\u001b[0m   \u001b[0mrandom\u001b[0m\u001b[1;33m.\u001b[0m\u001b[0mseed\u001b[0m\u001b[1;33m(\u001b[0m\u001b[0mseed\u001b[0m\u001b[1;33m)\u001b[0m\u001b[1;33m\u001b[0m\u001b[1;33m\u001b[0m\u001b[0m\n\u001b[1;32m---> 36\u001b[1;33m   \u001b[0msplit_indexs\u001b[0m \u001b[1;33m=\u001b[0m \u001b[0mrandom\u001b[0m\u001b[1;33m.\u001b[0m\u001b[0msample\u001b[0m\u001b[1;33m(\u001b[0m\u001b[0mrange\u001b[0m\u001b[1;33m(\u001b[0m\u001b[1;36m0\u001b[0m\u001b[1;33m,\u001b[0m \u001b[0mlen\u001b[0m\u001b[1;33m(\u001b[0m\u001b[0mimagePaths\u001b[0m\u001b[1;33m)\u001b[0m\u001b[1;33m)\u001b[0m\u001b[1;33m,\u001b[0m \u001b[0msplitSize\u001b[0m\u001b[1;33m)\u001b[0m\u001b[1;33m\u001b[0m\u001b[1;33m\u001b[0m\u001b[0m\n\u001b[0m\u001b[0;32m     37\u001b[0m   remaining_indexs = [x for x in [i for i in range(\n\u001b[0;32m     38\u001b[0m       len(imagePaths))] if x not in split_indexs]\n",
      "\u001b[1;32mC:\\Program Files\\WindowsApps\\PythonSoftwareFoundation.Python.3.8_3.8.2800.0_x64__qbz5n2kfra8p0\\lib\\random.py\u001b[0m in \u001b[0;36msample\u001b[1;34m(self, population, k)\u001b[0m\n\u001b[0;32m    361\u001b[0m         \u001b[0mn\u001b[0m \u001b[1;33m=\u001b[0m \u001b[0mlen\u001b[0m\u001b[1;33m(\u001b[0m\u001b[0mpopulation\u001b[0m\u001b[1;33m)\u001b[0m\u001b[1;33m\u001b[0m\u001b[1;33m\u001b[0m\u001b[0m\n\u001b[0;32m    362\u001b[0m         \u001b[1;32mif\u001b[0m \u001b[1;32mnot\u001b[0m \u001b[1;36m0\u001b[0m \u001b[1;33m<=\u001b[0m \u001b[0mk\u001b[0m \u001b[1;33m<=\u001b[0m \u001b[0mn\u001b[0m\u001b[1;33m:\u001b[0m\u001b[1;33m\u001b[0m\u001b[1;33m\u001b[0m\u001b[0m\n\u001b[1;32m--> 363\u001b[1;33m             \u001b[1;32mraise\u001b[0m \u001b[0mValueError\u001b[0m\u001b[1;33m(\u001b[0m\u001b[1;34m\"Sample larger than population or is negative\"\u001b[0m\u001b[1;33m)\u001b[0m\u001b[1;33m\u001b[0m\u001b[1;33m\u001b[0m\u001b[0m\n\u001b[0m\u001b[0;32m    364\u001b[0m         \u001b[0mresult\u001b[0m \u001b[1;33m=\u001b[0m \u001b[1;33m[\u001b[0m\u001b[1;32mNone\u001b[0m\u001b[1;33m]\u001b[0m \u001b[1;33m*\u001b[0m \u001b[0mk\u001b[0m\u001b[1;33m\u001b[0m\u001b[1;33m\u001b[0m\u001b[0m\n\u001b[0;32m    365\u001b[0m         \u001b[0msetsize\u001b[0m \u001b[1;33m=\u001b[0m \u001b[1;36m21\u001b[0m        \u001b[1;31m# size of a small set minus size of an empty list\u001b[0m\u001b[1;33m\u001b[0m\u001b[1;33m\u001b[0m\u001b[0m\n",
      "\u001b[1;31mValueError\u001b[0m: Sample larger than population or is negative"
     ]
    }
   ],
   "source": [
    "c , d = getMultipleImageSegPaths([\"\"])\n",
    "c1 , c2 ,c3 ,c4 = getRandomImageSegSplit(c,d,6)\n",
    "\n",
    "c3"
   ]
  },
  {
   "cell_type": "code",
   "execution_count": null,
   "metadata": {},
   "outputs": [],
   "source": [
    "#import shutil\n",
    "#shutil.copyfile('path/to/1.jpg', 'new/path/to/1.jpg')\n",
    "#shutil.copy2('path/to/1.jpg', 'new/path/to/dir')\n"
   ]
  },
  {
   "cell_type": "code",
   "execution_count": null,
   "metadata": {},
   "outputs": [
    {
     "data": {
      "text/plain": [
       "(26, 5, 5)"
      ]
     },
     "execution_count": 2,
     "metadata": {},
     "output_type": "execute_result"
    }
   ],
   "source": [
    "a, b =  getImageSegPaths(\"3\")\n",
    "getSplitSize(a)"
   ]
  },
  {
   "cell_type": "code",
   "execution_count": null,
   "metadata": {},
   "outputs": [],
   "source": [
    "\"\"\"\n",
    "def getSplitSize(version, split_size=[0.70, 0.15, 0.15]):\n",
    "  data, _ = getImageSegPaths(version)\n",
    "  total = len(data)\n",
    "\n",
    "  train = int(total*split_size[0])\n",
    "  val = int(total*split_size[1])\n",
    "  test = int(total*split_size[2])  \n",
    "\n",
    "  remain = total - val - test - train\n",
    "\n",
    "  if (remain == 1):\n",
    "    #add to training\n",
    "    train += 1\n",
    "    remain -= 1\n",
    "  elif (remain == 2):\n",
    "    #add to val and test\n",
    "    val += 1\n",
    "    test += 1\n",
    "    remain -= 2\n",
    "\n",
    "  return train , val , test\n",
    "\"\"\"\n"
   ]
  },
  {
   "cell_type": "code",
   "execution_count": null,
   "metadata": {},
   "outputs": [],
   "source": []
  },
  {
   "cell_type": "code",
   "execution_count": null,
   "metadata": {},
   "outputs": [],
   "source": [
    "copyAllImgSegToTrainValTestFolder()"
   ]
  },
  {
   "cell_type": "code",
   "execution_count": null,
   "metadata": {},
   "outputs": [
    {
     "name": "stdout",
     "output_type": "stream",
     "text": [
      "(['AllData\\\\img_v1\\\\image\\\\train\\\\IMG00001_02.tiff', 'AllData\\\\img_v1\\\\image\\\\train\\\\IMG00001_04.tiff', 'AllData\\\\img_v1\\\\image\\\\train\\\\IMG00001_05.tiff', 'AllData\\\\img_v1\\\\image\\\\train\\\\IMG00001_06.tiff', 'AllData\\\\img_v1\\\\image\\\\train\\\\IMG00001_07.tiff', 'AllData\\\\img_v1\\\\image\\\\train\\\\IMG00001_08.tiff', 'AllData\\\\img_v1\\\\image\\\\train\\\\IMG00001_09.tiff', 'AllData\\\\img_v1\\\\image\\\\train\\\\IMG00001_11.tiff', 'AllData\\\\img_v1\\\\image\\\\train\\\\IMG00001_12.tiff', 'AllData\\\\img_v1\\\\image\\\\train\\\\IMG00001_15.tiff', 'AllData\\\\img_v1\\\\image\\\\train\\\\IMG00001_16.tiff', 'AllData\\\\img_v1\\\\image\\\\train\\\\IMG00001_18.tiff', 'AllData\\\\img_v1\\\\image\\\\train\\\\IMG00001_20.tiff', 'AllData\\\\img_v1\\\\image\\\\train\\\\IMG00001_21.tiff', 'AllData\\\\img_v1\\\\image\\\\train\\\\IMG00001_22.tiff', 'AllData\\\\img_v1\\\\image\\\\train\\\\IMG00001_23.tiff', 'AllData\\\\img_v1\\\\image\\\\train\\\\IMG00001_24.tiff', 'AllData\\\\img_v1\\\\image\\\\train\\\\IMG00001_25.tiff', 'AllData\\\\img_v1\\\\image\\\\train\\\\IMG00001_26.tiff', 'AllData\\\\img_v1\\\\image\\\\train\\\\IMG00001_28.tiff', 'AllData\\\\img_v1\\\\image\\\\train\\\\IMG00001_30.tiff', 'AllData\\\\img_v1\\\\image\\\\train\\\\IMG00001_31.tiff'], ['AllData\\\\img_v1\\\\segment\\\\train\\\\I1_02.tiff', 'AllData\\\\img_v1\\\\segment\\\\train\\\\I1_04.tiff', 'AllData\\\\img_v1\\\\segment\\\\train\\\\I1_05.tiff', 'AllData\\\\img_v1\\\\segment\\\\train\\\\I1_06.tiff', 'AllData\\\\img_v1\\\\segment\\\\train\\\\I1_07.tiff', 'AllData\\\\img_v1\\\\segment\\\\train\\\\I1_08.tiff', 'AllData\\\\img_v1\\\\segment\\\\train\\\\I1_09.tiff', 'AllData\\\\img_v1\\\\segment\\\\train\\\\I1_011.tiff', 'AllData\\\\img_v1\\\\segment\\\\train\\\\I1_012.tiff', 'AllData\\\\img_v1\\\\segment\\\\train\\\\I1_015.tiff', 'AllData\\\\img_v1\\\\segment\\\\train\\\\I1_016.tiff', 'AllData\\\\img_v1\\\\segment\\\\train\\\\I1_018.tiff', 'AllData\\\\img_v1\\\\segment\\\\train\\\\I1_020.tiff', 'AllData\\\\img_v1\\\\segment\\\\train\\\\I1_021.tiff', 'AllData\\\\img_v1\\\\segment\\\\train\\\\I1_022.tiff', 'AllData\\\\img_v1\\\\segment\\\\train\\\\I1_023.tiff', 'AllData\\\\img_v1\\\\segment\\\\train\\\\I1_024.tiff', 'AllData\\\\img_v1\\\\segment\\\\train\\\\I1_025.tiff', 'AllData\\\\img_v1\\\\segment\\\\train\\\\I1_026.tiff', 'AllData\\\\img_v1\\\\segment\\\\train\\\\I1_028.tiff', 'AllData\\\\img_v1\\\\segment\\\\train\\\\I1_030.tiff', 'AllData\\\\img_v1\\\\segment\\\\train\\\\I1_031.tiff'], ['AllData\\\\img_v1\\\\image\\\\val\\\\IMG00001_03.tiff', 'AllData\\\\img_v1\\\\image\\\\val\\\\IMG00001_10.tiff', 'AllData\\\\img_v1\\\\image\\\\val\\\\IMG00001_13.tiff', 'AllData\\\\img_v1\\\\image\\\\val\\\\IMG00001_14.tiff', 'AllData\\\\img_v1\\\\image\\\\val\\\\IMG00001_32.tiff'], ['AllData\\\\img_v1\\\\segment\\\\val\\\\I1_03.tiff', 'AllData\\\\img_v1\\\\segment\\\\val\\\\I1_010.tiff', 'AllData\\\\img_v1\\\\segment\\\\val\\\\I1_013.tiff', 'AllData\\\\img_v1\\\\segment\\\\val\\\\I1_014.tiff', 'AllData\\\\img_v1\\\\segment\\\\val\\\\I1_032.tiff'], ['AllData\\\\img_v1\\\\image\\\\test\\\\IMG00001_01.tiff', 'AllData\\\\img_v1\\\\image\\\\test\\\\IMG00001_17.tiff', 'AllData\\\\img_v1\\\\image\\\\test\\\\IMG00001_19.tiff', 'AllData\\\\img_v1\\\\image\\\\test\\\\IMG00001_27.tiff', 'AllData\\\\img_v1\\\\image\\\\test\\\\IMG00001_29.tiff'], ['AllData\\\\img_v1\\\\segment\\\\test\\\\I1_01.tiff', 'AllData\\\\img_v1\\\\segment\\\\test\\\\I1_017.tiff', 'AllData\\\\img_v1\\\\segment\\\\test\\\\I1_019.tiff', 'AllData\\\\img_v1\\\\segment\\\\test\\\\I1_027.tiff', 'AllData\\\\img_v1\\\\segment\\\\test\\\\I1_029.tiff'])\n"
     ]
    }
   ],
   "source": [
    "print(getImageSegTrainValTest(\"1\"))\n",
    "\n",
    "\n",
    "\n"
   ]
  },
  {
   "cell_type": "code",
   "execution_count": null,
   "metadata": {},
   "outputs": [],
   "source": [
    "copyImgSegToTrainValTestFolder(\"3\")"
   ]
  },
  {
   "cell_type": "code",
   "execution_count": null,
   "metadata": {},
   "outputs": [],
   "source": [
    "import os\n",
    "from glob import glob\n",
    "\n",
    "\n"
   ]
  },
  {
   "cell_type": "code",
   "execution_count": null,
   "metadata": {},
   "outputs": [],
   "source": [
    "#c#reateNewTestValTrainFolders(\"2\")"
   ]
  },
  {
   "cell_type": "code",
   "execution_count": null,
   "metadata": {},
   "outputs": [
    {
     "name": "stdout",
     "output_type": "stream",
     "text": [
      "(['AllData\\\\img_v0\\\\image\\\\IMG00000_01.tiff', 'AllData\\\\img_v0\\\\image\\\\IMG00000_03.tiff', 'AllData\\\\img_v0\\\\image\\\\IMG00000_04.tiff', 'AllData\\\\img_v0\\\\image\\\\IMG00000_05.tiff', 'AllData\\\\img_v0\\\\image\\\\IMG00000_07.tiff', 'AllData\\\\img_v0\\\\image\\\\IMG00000_08.tiff', 'AllData\\\\img_v0\\\\image\\\\IMG00000_10.tiff', 'AllData\\\\img_v0\\\\image\\\\IMG00000_11.tiff', 'AllData\\\\img_v0\\\\image\\\\IMG00000_12.tiff', 'AllData\\\\img_v0\\\\image\\\\IMG00000_14.tiff', 'AllData\\\\img_v0\\\\image\\\\IMG00000_15.tiff', 'AllData\\\\img_v0\\\\image\\\\IMG00000_16.tiff', 'AllData\\\\img_v0\\\\image\\\\IMG00000_17.tiff', 'AllData\\\\img_v0\\\\image\\\\IMG00000_18.tiff', 'AllData\\\\img_v0\\\\image\\\\IMG00000_21.tiff', 'AllData\\\\img_v0\\\\image\\\\IMG00000_22.tiff', 'AllData\\\\img_v0\\\\image\\\\IMG00000_24.tiff', 'AllData\\\\img_v0\\\\image\\\\IMG00000_26.tiff', 'AllData\\\\img_v0\\\\image\\\\IMG00000_27.tiff', 'AllData\\\\img_v0\\\\image\\\\IMG00000_29.tiff', 'AllData\\\\img_v0\\\\image\\\\IMG00000_30.tiff', 'AllData\\\\img_v0\\\\image\\\\IMG00000_31.tiff', 'AllData\\\\img_v0\\\\image\\\\IMG00000_32.tiff', 'AllData\\\\img_v0\\\\image\\\\IMG00000_35.tiff', 'AllData\\\\img_v0\\\\image\\\\IMG00000_36.tiff', 'AllData\\\\img_v0\\\\image\\\\IMG00000_37.tiff', 'AllData\\\\img_v0\\\\image\\\\IMG00000_39.tiff', 'AllData\\\\img_v0\\\\image\\\\IMG00000_40.tiff', 'AllData\\\\img_v0\\\\image\\\\IMG00000_41.tiff', 'AllData\\\\img_v0\\\\image\\\\IMG00000_42.tiff'], ['AllData\\\\img_v0\\\\segment\\\\I0_01.tiff', 'AllData\\\\img_v0\\\\segment\\\\I0_03.tiff', 'AllData\\\\img_v0\\\\segment\\\\I0_04.tiff', 'AllData\\\\img_v0\\\\segment\\\\I0_05.tiff', 'AllData\\\\img_v0\\\\segment\\\\I0_07.tiff', 'AllData\\\\img_v0\\\\segment\\\\I0_08.tiff', 'AllData\\\\img_v0\\\\segment\\\\I0_010.tiff', 'AllData\\\\img_v0\\\\segment\\\\I0_011.tiff', 'AllData\\\\img_v0\\\\segment\\\\I0_012.tiff', 'AllData\\\\img_v0\\\\segment\\\\I0_014.tiff', 'AllData\\\\img_v0\\\\segment\\\\I0_015.tiff', 'AllData\\\\img_v0\\\\segment\\\\I0_016.tiff', 'AllData\\\\img_v0\\\\segment\\\\I0_017.tiff', 'AllData\\\\img_v0\\\\segment\\\\I0_018.tiff', 'AllData\\\\img_v0\\\\segment\\\\I0_021.tiff', 'AllData\\\\img_v0\\\\segment\\\\I0_022.tiff', 'AllData\\\\img_v0\\\\segment\\\\I0_024.tiff', 'AllData\\\\img_v0\\\\segment\\\\I0_026.tiff', 'AllData\\\\img_v0\\\\segment\\\\I0_027.tiff', 'AllData\\\\img_v0\\\\segment\\\\I0_029.tiff', 'AllData\\\\img_v0\\\\segment\\\\I0_030.tiff', 'AllData\\\\img_v0\\\\segment\\\\I0_031.tiff', 'AllData\\\\img_v0\\\\segment\\\\I0_032.tiff', 'AllData\\\\img_v0\\\\segment\\\\I0_035.tiff', 'AllData\\\\img_v0\\\\segment\\\\I0_036.tiff', 'AllData\\\\img_v0\\\\segment\\\\I0_037.tiff', 'AllData\\\\img_v0\\\\segment\\\\I0_039.tiff', 'AllData\\\\img_v0\\\\segment\\\\I0_040.tiff', 'AllData\\\\img_v0\\\\segment\\\\I0_041.tiff', 'AllData\\\\img_v0\\\\segment\\\\I0_042.tiff'], ['AllData\\\\img_v0\\\\image\\\\IMG00000_02.tiff', 'AllData\\\\img_v0\\\\image\\\\IMG00000_28.tiff', 'AllData\\\\img_v0\\\\image\\\\IMG00000_34.tiff', 'AllData\\\\img_v0\\\\image\\\\IMG00000_23.tiff', 'AllData\\\\img_v0\\\\image\\\\IMG00000_09.tiff', 'AllData\\\\img_v0\\\\image\\\\IMG00000_13.tiff'], ['AllData\\\\img_v0\\\\segment\\\\I0_02.tiff', 'AllData\\\\img_v0\\\\segment\\\\I0_028.tiff', 'AllData\\\\img_v0\\\\segment\\\\I0_034.tiff', 'AllData\\\\img_v0\\\\segment\\\\I0_023.tiff', 'AllData\\\\img_v0\\\\segment\\\\I0_09.tiff', 'AllData\\\\img_v0\\\\segment\\\\I0_013.tiff'], ['AllData\\\\img_v0\\\\image\\\\IMG00000_20.tiff', 'AllData\\\\img_v0\\\\image\\\\IMG00000_06.tiff', 'AllData\\\\img_v0\\\\image\\\\IMG00000_19.tiff', 'AllData\\\\img_v0\\\\image\\\\IMG00000_33.tiff', 'AllData\\\\img_v0\\\\image\\\\IMG00000_25.tiff', 'AllData\\\\img_v0\\\\image\\\\IMG00000_38.tiff'], ['AllData\\\\img_v0\\\\segment\\\\I0_020.tiff', 'AllData\\\\img_v0\\\\segment\\\\I0_06.tiff', 'AllData\\\\img_v0\\\\segment\\\\I0_019.tiff', 'AllData\\\\img_v0\\\\segment\\\\I0_033.tiff', 'AllData\\\\img_v0\\\\segment\\\\I0_025.tiff', 'AllData\\\\img_v0\\\\segment\\\\I0_038.tiff'])\n"
     ]
    }
   ],
   "source": [
    "print(getTestValTrainSplit(\"0\"))"
   ]
  }
 ],
 "metadata": {
  "interpreter": {
   "hash": "88946f9aecc9e5e8f630804ce050d3df662dbcba71d8bd1ac2e861f0278b7de2"
  },
  "kernelspec": {
   "display_name": "Python 3.8.10 64-bit (windows store)",
   "language": "python",
   "name": "python3"
  },
  "language_info": {
   "codemirror_mode": {
    "name": "ipython",
    "version": 3
   },
   "file_extension": ".py",
   "mimetype": "text/x-python",
   "name": "python",
   "nbconvert_exporter": "python",
   "pygments_lexer": "ipython3",
   "version": "3.8.10"
  },
  "orig_nbformat": 4
 },
 "nbformat": 4,
 "nbformat_minor": 2
}
