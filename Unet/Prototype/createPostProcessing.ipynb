{
 "cells": [
  {
   "cell_type": "code",
   "execution_count": 1,
   "metadata": {},
   "outputs": [],
   "source": [
    "import cv2\n",
    "import getData\n",
    "import numpy as np\n",
    "import matplotlib.pyplot as plt"
   ]
  },
  {
   "cell_type": "code",
   "execution_count": 2,
   "metadata": {},
   "outputs": [],
   "source": [
    "a, b, aa, bb, aaa, bbb = getData.getTestValTrainSplit(\"0\")\n",
    "images = aaa\n",
    "segs = bbb\n"
   ]
  },
  {
   "cell_type": "code",
   "execution_count": 6,
   "metadata": {},
   "outputs": [],
   "source": [
    "def undesired_objects(image):\n",
    "    image = image.astype('uint8')\n",
    "    nb_components, output, stats, centroids = cv2.connectedComponentsWithStats(\n",
    "        image, connectivity=8)\n",
    "    sizes = stats[:, -1]\n",
    "\n",
    "    print(nb_components)\n",
    "    max_label = 1\n",
    "    max_size = sizes[1]\n",
    "    for i in range(2, nb_components):\n",
    "        if sizes[i] > max_size:\n",
    "            max_label = i\n",
    "            max_size = sizes[i]\n",
    "\n",
    "    img2 = np.zeros(output.shape)\n",
    "    img2[output == max_label] = 255\n",
    "    cv2.imshow(\"Biggest component\", img2)\n",
    "    img3 = np.zeros(output.shape)\n",
    "    img3[output == 4] = 255\n",
    "    cv2.imshow(\"Biggest component2\", img3)\n",
    "    img4 = img3 + img2\n",
    "    cv2.imshow(\"Biggest component3\", img4)\n",
    "    cv2.waitKey()\n"
   ]
  },
  {
   "cell_type": "code",
   "execution_count": 7,
   "metadata": {},
   "outputs": [
    {
     "name": "stdout",
     "output_type": "stream",
     "text": [
      "5\n"
     ]
    }
   ],
   "source": [
    "a = cv2.imread(segs[0],0)\n",
    "cv2.imshow(\"orig\",a)\n",
    "undesired_objects(a)"
   ]
  }
 ],
 "metadata": {
  "interpreter": {
   "hash": "88946f9aecc9e5e8f630804ce050d3df662dbcba71d8bd1ac2e861f0278b7de2"
  },
  "kernelspec": {
   "display_name": "Python 3.8.10 64-bit (windows store)",
   "language": "python",
   "name": "python3"
  },
  "language_info": {
   "codemirror_mode": {
    "name": "ipython",
    "version": 3
   },
   "file_extension": ".py",
   "mimetype": "text/x-python",
   "name": "python",
   "nbconvert_exporter": "python",
   "pygments_lexer": "ipython3",
   "version": "3.8.10"
  },
  "orig_nbformat": 4
 },
 "nbformat": 4,
 "nbformat_minor": 2
}
