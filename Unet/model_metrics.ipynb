{
 "cells": [
  {
   "cell_type": "code",
   "execution_count": 1,
   "metadata": {},
   "outputs": [],
   "source": [
    "import getData\n",
    "import logging\n",
    "import os\n",
    "import sys\n",
    "import tempfile\n",
    "\n",
    "import torch\n",
    "from PIL import Image\n",
    "from torch.utils.data import DataLoader\n",
    "from torch.utils.tensorboard import SummaryWriter\n",
    "import numpy as np\n",
    "import monai\n",
    "from monai.data import create_test_image_2d, list_data_collate, decollate_batch\n",
    "from monai.metrics import DiceMetric\n",
    "from monai.transforms import (\n",
    "    Activations,\n",
    "    AddChanneld,\n",
    "    AsDiscrete,\n",
    "    Compose,\n",
    "    LoadImaged,\n",
    "    RandCropByPosNegLabeld,\n",
    "    RandRotate90d,\n",
    "    RandFlipd,\n",
    "    Rand2DElasticd,\n",
    "    ScaleIntensityd,\n",
    "    EnsureTyped,\n",
    "    EnsureType,\n",
    "    RandGaussianNoised,\n",
    "    KeepLargestConnectedComponent,\n",
    "    FillHoles\n",
    ")\n",
    "from monai.visualize import plot_2d_or_3d_image\n",
    "from monai.networks.nets import UNet"
   ]
  },
  {
   "cell_type": "code",
   "execution_count": 6,
   "metadata": {},
   "outputs": [
    {
     "data": {
      "text/plain": [
       "<All keys matched successfully>"
      ]
     },
     "execution_count": 6,
     "metadata": {},
     "output_type": "execute_result"
    }
   ],
   "source": [
    "# Get Data\n",
    "_, _, val_images, val_segs, test_images, test_segs = getData.getImageSegTrainValTest(\"ALL\")\n",
    "\n",
    "test_files = [{\"img\": img, \"seg\": seg}\n",
    "                for img, seg in zip(test_images, test_segs)]\n",
    "\n",
    "test_transforms = Compose(\n",
    "    [\n",
    "        LoadImaged(keys=[\"img\", \"seg\"]),\n",
    "        AddChanneld(keys=[\"img\", \"seg\"]),\n",
    "        ScaleIntensityd(keys=[\"img\", \"seg\"]),\n",
    "        EnsureTyped(keys=[\"img\", \"seg\"]),\n",
    "    ]\n",
    ")\n",
    "#Setup DataLoader\n",
    "test_ds = monai.data.Dataset(data=test_files, transform=test_transforms)\n",
    "test_loader = DataLoader(test_ds, batch_size=1,\n",
    "                        num_workers=4, collate_fn=list_data_collate)\n",
    "dice_metric = DiceMetric(include_background=False,\n",
    "                          reduction=\"mean\", get_not_nans=False)\n",
    "\n",
    "\n",
    "\n",
    "post_trans = Compose([EnsureType(), Activations(\n",
    "        sigmoid=True), AsDiscrete(threshold=0.5)]) #,FillHoles(connectivity = 2, applied_labels = [1]),KeepLargestConnectedComponent(applied_labels = [1], independent = True, connectivity = 2)\n",
    "\n",
    "device = torch.device(\"cuda\" if torch.cuda.is_available() else \"cpu\")\n",
    "model = UNet(\n",
    "    spatial_dims=2,\n",
    "    in_channels=1,\n",
    "    out_channels=1,\n",
    "    channels=(16, 32, 64, 128, 256),\n",
    "    strides=(2, 2, 2, 2),\n",
    "    num_res_units=2,\n",
    ").to(device)\n",
    "\n",
    "model.load_state_dict(torch.load(\n",
    "    \"ALL_4l_rotFlip_1000epochs.pth\"))\n",
    "\n",
    "#print(model)"
   ]
  },
  {
   "cell_type": "code",
   "execution_count": 7,
   "metadata": {},
   "outputs": [
    {
     "name": "stdout",
     "output_type": "stream",
     "text": [
      "Dice score: 0.9157990217208862\n"
     ]
    }
   ],
   "source": [
    "#Evaluation loop\n",
    "FP = 0\n",
    "FN = 0\n",
    "TP = 0\n",
    "TN = 0\n",
    "dice_metric.reset()\n",
    "model.eval()\n",
    "\n",
    "with torch.no_grad():\n",
    "    i = 0\n",
    "    for test_data in test_loader:\n",
    "        test_images, test_labels = test_data[\"img\"].to(\n",
    "            device), test_data[\"seg\"].to(device)\n",
    "        test_outputs = model(test_images)\n",
    "        test_outputs = [post_trans(i) for i in decollate_batch(test_outputs)]\n",
    "        test_labels = decollate_batch(test_labels)\n",
    "        # compute metric for current iteration\n",
    "        dice_metric(y_pred=test_outputs, y=test_labels)\n",
    "\n",
    "        test_outputs = test_outputs[0].cpu().detach().numpy()\n",
    "        test_labels = test_labels[0].cpu().detach().numpy()\n",
    "        FP += len(np.where(test_outputs - test_labels == -1)[0])\n",
    "        FN += len(np.where(test_outputs - test_labels == 1)[0])\n",
    "        TP += len(np.where(test_outputs + test_labels == 2)[0])\n",
    "        TN += len(np.where(test_outputs + test_labels == 0)[0])\n",
    "        \n",
    "    # aggregate the final mean dice result\n",
    "    print(\"Dice score:\", dice_metric.aggregate().item())\n",
    "\n",
    "    # reset the status\n",
    "    dice_metric.reset()"
   ]
  },
  {
   "cell_type": "code",
   "execution_count": 8,
   "metadata": {},
   "outputs": [
    {
     "name": "stdout",
     "output_type": "stream",
     "text": [
      "0.0029694718447397864\n",
      "0.005044662447918676\n",
      "0.04823305518450291\n",
      "0.9437528105228387\n",
      "Accuracy:  0.9919858657073415\n",
      "Precision:  0.9420053654179242\n",
      "Recall:  0.9053138409058124\n"
     ]
    }
   ],
   "source": [
    "total = FP + FN + TP + TN\n",
    "print(FP/total)\n",
    "print(FN/total)\n",
    "print(TP/total)\n",
    "print(TN/total)\n",
    "accuracy = (TP + TN)/(FP+FN+TP+TN) \n",
    "precision = TP/(TP+FP)\n",
    "recall = TP/(TP+FN)\n",
    "print(\"Accuracy: \", accuracy)\n",
    "print(\"Precision: \", precision)\n",
    "print(\"Recall: \", recall)"
   ]
  },
  {
   "cell_type": "code",
   "execution_count": 9,
   "metadata": {},
   "outputs": [
    {
     "data": {
      "image/png": "[encoded data removed]",
      "text/plain": [
       "<Figure size 432x432 with 2 Axes>"
      ]
     },
     "metadata": {
      "needs_background": "light"
     },
     "output_type": "display_data"
    }
   ],
   "source": [
    "import matplotlib.pyplot as plt\n",
    "import seaborn as sns\n",
    "cmat = [[TP, FP], [FN, TN]]\n",
    "\n",
    "plt.figure(figsize = (6,6))\n",
    "x_labels = [\"Positive\", \"Negative\"]\n",
    "y_labels = [\"Positive\", \"Negative\"]\n",
    "sns.heatmap(cmat/np.sum(cmat), cmap=\"Reds\", annot=True, fmt = '.2%', square=1,   linewidth=2.,\n",
    "  xticklabels = x_labels, yticklabels = y_labels)\n",
    "plt.xlabel(\"True Class\")\n",
    "plt.ylabel(\"Predicted Class\")\n",
    "plt.show()"
   ]
  },
  {
   "cell_type": "code",
   "execution_count": 13,
   "metadata": {},
   "outputs": [
    {
     "name": "stdout",
     "output_type": "stream",
     "text": [
      "MONAI version: 0.8.0\n",
      "Numpy version: 1.19.3\n",
      "Pytorch version: 1.8.2+cu111\n",
      "MONAI flags: HAS_EXT = False, USE_COMPILED = False\n",
      "MONAI rev id: 714d00dffe6653e21260160666c4c201ab66511b\n",
      "\n",
      "Optional dependencies:\n",
      "Pytorch Ignite version: 0.4.6\n",
      "Nibabel version: 3.2.2\n",
      "scikit-image version: 0.19.1\n",
      "Pillow version: 9.0.1\n",
      "Tensorboard version: 2.5.0\n",
      "gdown version: 4.2.1\n",
      "TorchVision version: 0.9.2+cu111\n",
      "tqdm version: 4.58.0\n",
      "lmdb version: 1.3.0\n",
      "psutil version: 5.8.0\n",
      "pandas version: 1.1.4\n",
      "einops version: 0.4.1\n",
      "transformers version: NOT INSTALLED or UNKNOWN VERSION.\n",
      "mlflow version: NOT INSTALLED or UNKNOWN VERSION.\n",
      "\n",
      "For details about installing the optional dependencies, please visit:\n",
      "    https://docs.monai.io/en/latest/installation.html#installing-the-recommended-dependencies\n",
      "\n",
      "file written: c:\\Users\\EmilR\\Documents\\Datalogi\\bachelor\\temp\\output\\0\\0_seg.png.\n",
      "file written: c:\\Users\\EmilR\\Documents\\Datalogi\\bachelor\\temp\\output\\1\\1_seg.png.\n",
      "file written: c:\\Users\\EmilR\\Documents\\Datalogi\\bachelor\\temp\\output\\2\\2_seg.png.\n",
      "file written: c:\\Users\\EmilR\\Documents\\Datalogi\\bachelor\\temp\\output\\3\\3_seg.png.\n",
      "file written: c:\\Users\\EmilR\\Documents\\Datalogi\\bachelor\\temp\\output\\4\\4_seg.png.\n",
      "file written: c:\\Users\\EmilR\\Documents\\Datalogi\\bachelor\\temp\\output\\5\\5_seg.png.\n",
      "evaluation metric: 0.9457882046699524\n"
     ]
    }
   ],
   "source": [
    "# Copyright 2020 MONAI Consortium\n",
    "# Licensed under the Apache License, Version 2.0 (the \"License\");\n",
    "# you may not use this file except in compliance with the License.\n",
    "# You may obtain a copy of the License at\n",
    "#     http://www.apache.org/licenses/LICENSE-2.0\n",
    "# Unless required by applicable law or agreed to in writing, software\n",
    "# distributed under the License is distributed on an \"AS IS\" BASIS,\n",
    "# WITHOUT WARRANTIES OR CONDITIONS OF ANY KIND, either express or implied.\n",
    "# See the License for the specific language governing permissions and\n",
    "# limitations under the License.\n",
    "\n",
    "\n",
    "def main(tempdir):\n",
    "    monai.config.print_config()\n",
    "    logging.basicConfig(stream=sys.stdout, level=logging.INFO)\n",
    "\n",
    "    _, _, val_images, val_segs, test_images, test_segs = getData.getImageSegTrainValTest(\"ALL\")\n",
    "\n",
    "    val_files = [{\"img\": img, \"seg\": seg} for img, seg in zip(val_images, val_segs)]\n",
    "\n",
    "    # define transforms for image and segmentation\n",
    "    val_transforms = Compose(\n",
    "        [\n",
    "            LoadImaged(keys=[\"img\", \"seg\"]),\n",
    "            AddChanneld(keys=[\"img\", \"seg\"]),\n",
    "            ScaleIntensityd(keys=[\"img\", \"seg\"]),\n",
    "            EnsureTyped(keys=[\"img\", \"seg\"]),\n",
    "        ]\n",
    "    )\n",
    "    # setup dataset and dataloaders\n",
    "    val_ds = monai.data.Dataset(data=val_files, transform=val_transforms)\n",
    "    val_loader = DataLoader(val_ds, batch_size=1,\n",
    "                            num_workers=4, collate_fn=list_data_collate)\n",
    "    dice_metric = DiceMetric(include_background=False,\n",
    "                             reduction=\"mean\", get_not_nans=False)\n",
    "\n",
    "    post_trans = Compose([EnsureType(), Activations(\n",
    "        sigmoid=True), AsDiscrete(threshold=0.5)])\n",
    "    device = torch.device(\"cuda\" if torch.cuda.is_available() else \"cpu\")\n",
    "    model = UNet(\n",
    "        spatial_dims=2,\n",
    "        in_channels=1,\n",
    "        out_channels=1,\n",
    "        channels=(16, 32, 64, 128, 256),\n",
    "        strides=(2, 2, 2, 2),\n",
    "        num_res_units=2,\n",
    "    ).to(device)\n",
    "\n",
    "    model.load_state_dict(torch.load(\n",
    "        \"ALL_4l_rotFlip_1000epochs.pth\"))\n",
    "\n",
    "    #calculate dice\n",
    "    model.eval()\n",
    "    with torch.no_grad():\n",
    "        for val_data in val_loader:\n",
    "            val_images, val_labels = val_data[\"img\"].to(\n",
    "                device), val_data[\"seg\"].to(device)\n",
    "            val_output = model(val_images)\n",
    "            val_outputs = [post_trans(i) for i in decollate_batch(val_output)]\n",
    "            val_labels = decollate_batch(val_labels)\n",
    "            # compute metric for current iteration\n",
    "            dice_metric(y_pred=val_outputs, y=val_labels)\n",
    "        # aggregate the final mean dice result\n",
    "        print(\"evaluation metric:\", dice_metric.aggregate().item())\n",
    "        # reset the status\n",
    "        dice_metric.reset()\n",
    "\n",
    "\n",
    "if __name__ == \"__main__\":\n",
    "    with tempfile.TemporaryDirectory() as tempdir:\n",
    "        main(tempdir)\n"
   ]
  }
 ],
 "metadata": {
  "interpreter": {
   "hash": "f8665132f1068c6d656335a3a93d4e1e9cc43466a542cc440a9c028e42f97746"
  },
  "kernelspec": {
   "display_name": "Python 3.9.0 64-bit",
   "language": "python",
   "name": "python3"
  },
  "language_info": {
   "codemirror_mode": {
    "name": "ipython",
    "version": 3
   },
   "file_extension": ".py",
   "mimetype": "text/x-python",
   "name": "python",
   "nbconvert_exporter": "python",
   "pygments_lexer": "ipython3",
   "version": "3.9.0"
  },
  "orig_nbformat": 4
 },
 "nbformat": 4,
 "nbformat_minor": 2
}
