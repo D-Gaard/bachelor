{
 "cells": [
  {
   "cell_type": "code",
   "execution_count": 14,
   "metadata": {},
   "outputs": [],
   "source": [
    "from trainValTestGreyscale import getData\n",
    "import logging\n",
    "import os\n",
    "import sys\n",
    "import tempfile\n",
    "from glob import glob\n",
    "from natsort import natsorted\n",
    "import random\n",
    "import torch\n",
    "from PIL import Image\n",
    "from torch.utils.data import DataLoader\n",
    "from torch.utils.tensorboard import SummaryWriter\n",
    "import numpy as np\n",
    "import monai\n",
    "from monai.data import create_test_image_2d, list_data_collate, decollate_batch\n",
    "from monai.inferers import sliding_window_inference\n",
    "from monai.metrics import DiceMetric\n",
    "from monai.transforms import (\n",
    "    Activations,\n",
    "    AddChanneld,\n",
    "    AsDiscrete,\n",
    "    Compose,\n",
    "    LoadImaged,\n",
    "    RandCropByPosNegLabeld,\n",
    "    RandRotate90d,\n",
    "    RandFlipd,\n",
    "    Rand2DElasticd,\n",
    "    ScaleIntensityd,\n",
    "    EnsureTyped,\n",
    "    EnsureType,\n",
    "    RandGaussianNoised\n",
    ")\n",
    "from monai.visualize import plot_2d_or_3d_image\n",
    "from monai.transforms import Activations, AddChanneld, AsDiscrete, Compose, LoadImaged, SaveImage, ScaleIntensityd, EnsureTyped, EnsureType, KeepLargestConnectedComponent, FillHoles\n",
    "from monai.networks.nets import UNet\n",
    "import warnings\n",
    "from typing import Sequence, Union\n",
    "\n",
    "import torch\n",
    "\n",
    "from monai.metrics.utils import do_metric_reduction, ignore_background\n",
    "from monai.utils import MetricReduction, ensure_tuple\n",
    "from monai.metrics import confusion_matrix\n",
    "from monai.metrics import CumulativeIterationMetric"
   ]
  },
  {
   "cell_type": "code",
   "execution_count": 15,
   "metadata": {},
   "outputs": [],
   "source": [
    "train_transforms = Compose(\n",
    "    [\n",
    "        LoadImaged(keys=[\"img\", \"seg\"]),\n",
    "        AddChanneld(keys=[\"img\", \"seg\"]),\n",
    "        ScaleIntensityd(keys=[\"img\", \"seg\"]),\n",
    "        RandFlipd(keys=[\"img\", \"seg\"], prob=1, spatial_axis=0),\n",
    "        EnsureTyped(keys=[\"img\", \"seg\"]),  \n",
    "    ]\n",
    ")"
   ]
  },
  {
   "cell_type": "code",
   "execution_count": 16,
   "metadata": {},
   "outputs": [
    {
     "data": {
      "image/png": "[encoded data removed]",
      "text/plain": [
       "<Figure size 432x288 with 1 Axes>"
      ]
     },
     "metadata": {
      "needs_background": "light"
     },
     "output_type": "display_data"
    }
   ],
   "source": [
    "# Get Data\n",
    "import matplotlib.pyplot as plt\n",
    "_, _, val_images, val_segs, test_images, test_segs = getData.getImageSegTrainValTest(\"ALL\")\n",
    "\n",
    "test_files = [{\"img\": img, \"seg\": seg}\n",
    "                for img, seg in zip(test_images, test_segs)]\n",
    "\n",
    "test_ds = monai.data.Dataset(data=test_files, transform=train_transforms)\n",
    "test_loader = DataLoader(test_ds, batch_size=1,\n",
    "                        num_workers=4, collate_fn=list_data_collate)\n",
    "\n",
    "device = torch.device(\"cuda\" if torch.cuda.is_available() else \"cpu\")\n",
    "#threshold = 0.5\n",
    "test_iter = iter(test_loader)\n",
    "for i, data in enumerate(test_iter):\n",
    "  img, label = data[\"img\"].to(\n",
    "                device), data[\"seg\"].to(device)\n",
    "  val_outputs = label[0][0].cpu()\n",
    "  plt.figure()\n",
    "  plt.imshow((val_outputs), cmap = \"gray\")\n",
    "  break"
   ]
  }
 ],
 "metadata": {
  "interpreter": {
   "hash": "f8665132f1068c6d656335a3a93d4e1e9cc43466a542cc440a9c028e42f97746"
  },
  "kernelspec": {
   "display_name": "Python 3.9.0 64-bit",
   "language": "python",
   "name": "python3"
  },
  "language_info": {
   "codemirror_mode": {
    "name": "ipython",
    "version": 3
   },
   "file_extension": ".py",
   "mimetype": "text/x-python",
   "name": "python",
   "nbconvert_exporter": "python",
   "pygments_lexer": "ipython3",
   "version": "3.9.0"
  },
  "orig_nbformat": 4
 },
 "nbformat": 4,
 "nbformat_minor": 2
}
