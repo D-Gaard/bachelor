{
 "cells": [
  {
   "cell_type": "code",
   "execution_count": 2,
   "metadata": {},
   "outputs": [],
   "source": [
    "import lineRenderWorldSetup as LR\n",
    "import matplotlib.pyplot as plt\n",
    "from mpl_toolkits.mplot3d import Axes3D\n",
    "import numpy as np\n",
    "import pyvista as pv\n",
    "from mayavi import mlab\n",
    "from natsort import natsorted\n",
    "import os\n",
    "from glob import glob\n",
    "import _3dTo2dSetup as D3\n"
   ]
  },
  {
   "cell_type": "code",
   "execution_count": 4,
   "metadata": {},
   "outputs": [
    {
     "name": "stdout",
     "output_type": "stream",
     "text": [
      "['3dTo2d\\\\0_0_angle.png', '3dTo2d\\\\87_27_angle.png', '3dTo2d\\\\87_-27_angle.png', '3dTo2d\\\\-43_13_angle.png', '3dTo2d\\\\-75_-22_angle.png', '3dTo2d\\\\-87_27_angle.png']\n"
     ]
    }
   ],
   "source": [
    "img_p = r\"3dTo2d\"\n",
    "imgs = natsorted(glob(os.path.join(img_p, \"*angle.png\")))\n",
    "\n",
    "print(imgs)"
   ]
  },
  {
   "cell_type": "code",
   "execution_count": null,
   "metadata": {},
   "outputs": [],
   "source": [
    "box_dim = LR.BOX_DIM\n",
    "line_coords0 = LR.createCoordsForImage(imgs[0])\n",
    "line_coords1 = LR.createCoordsForImage(imgs[1])\n",
    "line_coords2 = LR.createCoordsForImage(imgs[2])\n",
    "line_coords3 = LR.createCoordsForImage(imgs[3])\n",
    "line_coords4 = LR.createCoordsForImage(imgs[4])\n",
    "line_coords5 = LR.createCoordsForImage(imgs[5])\n",
    "#line_coords6 = LR.createCoordsForImage(imgs[6])\n",
    "\n",
    "world_coords0 = LR.performBresenham3D(\n",
    "    line_coords0, LR.DETECTOR_TO_PATIENT, LR.SRC_TO_PATIENT, box_dim)\n",
    "print(\"w\")\n",
    "world_coords1 = LR.performBresenham3D(\n",
    "    line_coords1, LR.DETECTOR_TO_PATIENT, LR.SRC_TO_PATIENT, box_dim)\n",
    "print(\"w\")\n",
    "world_coords2 = LR.performBresenham3D(\n",
    "    line_coords2, LR.DETECTOR_TO_PATIENT, LR.SRC_TO_PATIENT, box_dim)\n",
    "print(\"w\")\n",
    "world_coords3 = LR.performBresenham3D(\n",
    "    line_coords3, LR.DETECTOR_TO_PATIENT, LR.SRC_TO_PATIENT, box_dim)\n",
    "print(\"w\")\n",
    "world_coords4 = LR.performBresenham3D(\n",
    "    line_coords4, LR.DETECTOR_TO_PATIENT, LR.SRC_TO_PATIENT, box_dim)\n",
    "print(\"w\")\n",
    "world_coords5 = LR.performBresenham3D(\n",
    "    line_coords5, LR.DETECTOR_TO_PATIENT, LR.SRC_TO_PATIENT, box_dim)\n",
    "print(\"w\")\n",
    "#world_coords6 = LR.performBresenham3D(line_coords6,LR.DETECTOR_TO_PATIENT,LR.SRC_TO_PATIENT,box_dim)\n",
    "print(\"w done\")\n",
    "\n",
    "print(\"points\")\n",
    "box0 = LR.savePointsWithinSquare(world_coords0, box_dim)\n",
    "box1 = LR.savePointsWithinSquare(world_coords1, box_dim)\n",
    "box2 = LR.savePointsWithinSquare(world_coords2, box_dim)\n",
    "box3 = LR.savePointsWithinSquare(world_coords3, box_dim)\n",
    "box4 = LR.savePointsWithinSquare(world_coords4, box_dim)\n",
    "box5 = LR.savePointsWithinSquare(world_coords5, box_dim)\n",
    "#box6 = LR.savePointsWithinSquare(world_coords6,box_dim)\n",
    "print(\"points done\")"
   ]
  },
  {
   "cell_type": "code",
   "execution_count": null,
   "metadata": {},
   "outputs": [],
   "source": [
    "box_rot0 = D3.rotatePrimSecond(box0,0,0) \n",
    "box_rot0 = np.where(box_rot0 > 0.5, 1, 0)\n",
    "\n",
    "box_rot2 = D3.rotatePrimSecond(box1, 11, 20)\n",
    "box_rot2 = np.where(box_rot2 > 0.5, 1, 0)\n",
    "\n",
    "box_rot3 = D3.rotatePrimSecond(box2, -31, -0.1)\n",
    "box_rot3 = np.where(box_rot3 > 0.5, 1, 0)\n",
    "\n",
    "box_rot4 = D3.rotatePrimSecond(box3, -21.5, -24.8)\n",
    "box_rot4 = np.where(box_rot4 > 0.5, 1, 0)\n",
    "\n",
    "box_rot5 = D3.rotatePrimSecond(box4, -24.5, 27.3)\n",
    "box_rot5 = np.where(box_rot5 > 0.5, 1, 0)\n",
    "\n",
    "box_rot6 = D3.rotatePrimSecond(box5, 0.1, 36.7)\n",
    "box_rot6 = np.where(box_rot6 > 0.5, 1, 0)\n",
    "\n",
    "#box_rot7 = D3.rotatePrimSecond(box6, 49.5, 1.3)\n",
    "#box_rot7 = np.where(box_rot7 > 0.5, 1, 0)"
   ]
  },
  {
   "cell_type": "code",
   "execution_count": null,
   "metadata": {},
   "outputs": [],
   "source": [
    "#add boxes 2gether\n",
    "total_box = box_rot0 + box_rot2 + box_rot3 + box_rot4 + box_rot5 + box_rot6# + box_rot7\n",
    "total_box = np.where(total_box > 3, 1, 0)\n"
   ]
  },
  {
   "cell_type": "code",
   "execution_count": null,
   "metadata": {},
   "outputs": [],
   "source": [
    "xc, yc, zc = LR.boxToWorldCorrds(box_rot0, box_dim)\n",
    "xc2, yc2, zc2 = LR.boxToWorldCorrds(box_rot2, box_dim)\n",
    "xc3, yc3, zc3 = LR.boxToWorldCorrds(box_rot3, box_dim)\n",
    "xc4, yc4, zc4 = LR.boxToWorldCorrds(box_rot4, box_dim)\n",
    "xc5, yc5, zc5 = LR.boxToWorldCorrds(box_rot5, box_dim)\n",
    "xc6, yc6, zc6 = LR.boxToWorldCorrds(box_rot6, box_dim)\n",
    "#xc7, yc7, zc7 = LR.boxToWorldCorrds(box_rot7, box_dim)\n",
    "tx, ty, tz = LR.boxToWorldCorrds(total_box, box_dim)\n"
   ]
  },
  {
   "cell_type": "code",
   "execution_count": 4,
   "metadata": {},
   "outputs": [],
   "source": [
    "bx = box_dim-1\n",
    "frame_x = np.array([0,0,0,0,bx,bx,bx,bx]) -(bx/2)\n",
    "frame_y = np.array([0,0,bx,bx,0,0,bx,bx]) -(bx/2)\n",
    "frame_z = np.array([0,bx,0,bx,0,bx,0,bx]) -(bx/2)"
   ]
  },
  {
   "cell_type": "code",
   "execution_count": null,
   "metadata": {},
   "outputs": [],
   "source": [
    "#total\n",
    "mlab.points3d(tx, ty, tz,\n",
    "              mode=\"cube\", color=(1, 0, 0), scale_factor=1, opacity=1)\n",
    "\n",
    "#other angles\n",
    "\n",
    "#mlab.points3d(xc, yc, zc,\n",
    "#                  mode=\"cube\", color=(1, 0, 0), scale_factor=1,opacity=1)\n",
    "#mlab.points3d(xc2, yc2, zc2,\n",
    "#              mode=\"cube\", color=(1, 0, 1), scale_factor=1, opacity=1)\n",
    "#mlab.points3d(xc3, yc3, zc3,\n",
    "#              mode=\"cube\", color=(1, 1, 0), scale_factor=1, opacity=1)\n",
    "#mlab.points3d(xc4, yc4, zc4,\n",
    "#              mode=\"cube\", color=(1, 0.5, 0), scale_factor=1, opacity=1)\n",
    "#mlab.points3d(xc5, yc5, zc5,\n",
    "#              mode=\"cube\", color=(1, 0, 0.5), scale_factor=1, opacity=1)\n",
    "#mlab.points3d(xc6, yc6, zc6,\n",
    "#              mode=\"cube\", color=(0, 1, 1), scale_factor=1, opacity=1)\n",
    "#mlab.points3d(xc7, yc7, zc7,\n",
    "#              mode=\"cube\", color=(0, 1, 0), scale_factor=1, opacity=1)\n",
    "              \n",
    "mlab.points3d(frame_x,frame_y,frame_z,\n",
    "              mode=\"cube\", color=(0, 1, 0), scale_factor=1, opacity=0)\n",
    "mlab.outline()\n",
    "\n",
    "mlab.show()\n"
   ]
  }
 ],
 "metadata": {
  "interpreter": {
   "hash": "0168595519c989d7f67b82b29d7f10b1cf9acc10b5dfc45f1935b31ca602370e"
  },
  "kernelspec": {
   "display_name": "Python 3.8.10 64-bit (windows store)",
   "language": "python",
   "name": "python3"
  },
  "language_info": {
   "codemirror_mode": {
    "name": "ipython",
    "version": 3
   },
   "file_extension": ".py",
   "mimetype": "text/x-python",
   "name": "python",
   "nbconvert_exporter": "python",
   "pygments_lexer": "ipython3",
   "version": "3.8.10"
  },
  "orig_nbformat": 4
 },
 "nbformat": 4,
 "nbformat_minor": 2
}
