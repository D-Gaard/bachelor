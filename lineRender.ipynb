{
 "cells": [
  {
   "cell_type": "code",
   "execution_count": 1,
   "metadata": {},
   "outputs": [],
   "source": [
    "import lineRenderWorldSetup as LR\n",
    "import matplotlib.pyplot as plt\n",
    "from mpl_toolkits.mplot3d import Axes3D\n",
    "import numpy as np\n",
    "\n"
   ]
  },
  {
   "cell_type": "code",
   "execution_count": 2,
   "metadata": {},
   "outputs": [
    {
     "name": "stdout",
     "output_type": "stream",
     "text": [
      "445\n",
      "7845\n",
      "[(-222, 10, 0), (-221, 10, 0), (-220, 10, 0), (-219, 10, 0), (-218, 10, 0), (-217, 10, 0), (-216, 11, 0), (-215, 11, 0), (-214, 11, 0), (-213, 11, 0), (-212, 11, 0), (-211, 11, 0), (-210, 11, 0), (-209, 11, 0), (-208, 11, 0), (-207, 11, 0), (-206, 11, 0), (-205, 11, 0), (-204, 11, 0), (-203, 11, 0), (-202, 11, 0), (-201, 11, 0), (-200, 11, 0), (-199, 11, 0), (-198, 11, 0), (-197, 11, 0), (-196, 11, 0), (-195, 11, 0), (-194, 11, 0), (-193, 12, 0), (-192, 12, 0), (-191, 12, 0), (-190, 12, 0), (-189, 12, 0), (-188, 12, 0), (-187, 12, 0), (-186, 12, 0), (-185, 12, 0), (-184, 12, 0), (-183, 12, 0), (-182, 12, 0), (-181, 12, 0), (-180, 12, 0), (-179, 12, 0), (-178, 12, 0), (-177, 12, 0), (-176, 12, 0), (-175, 12, 0), (-174, 12, 0), (-173, 12, 0), (-172, 12, 0), (-171, 12, 0), (-170, 13, 0), (-169, 13, 0), (-168, 13, 0), (-167, 13, 0), (-166, 13, 0), (-165, 13, 0), (-164, 13, 0), (-163, 13, 0), (-162, 13, 0), (-161, 13, 0), (-160, 13, 0), (-159, 13, 0), (-158, 13, 0), (-157, 13, 0), (-156, 13, 0), (-155, 13, 0), (-154, 13, 0), (-153, 13, 0), (-152, 13, 0), (-151, 13, 0), (-150, 13, 0), (-149, 13, 0), (-148, 13, 0), (-147, 13, 0), (-146, 14, 0), (-145, 14, 0), (-144, 14, 0), (-143, 14, 0), (-142, 14, 0), (-141, 14, 0), (-140, 14, 0), (-139, 14, 0), (-138, 14, 0), (-137, 14, 0), (-136, 14, 0), (-135, 14, 0), (-134, 14, 0), (-133, 14, 0), (-132, 14, 0), (-131, 14, 0), (-130, 14, 0), (-129, 14, 0), (-128, 14, 0), (-127, 14, 0), (-126, 14, 0), (-125, 14, 0), (-124, 14, 0), (-123, 15, 0)]\n",
      "[[0. 0. 0. ... 0. 0. 0.]\n",
      " [0. 0. 0. ... 0. 0. 0.]\n",
      " [0. 0. 0. ... 0. 0. 0.]\n",
      " ...\n",
      " [0. 0. 0. ... 0. 0. 0.]\n",
      " [0. 0. 0. ... 0. 0. 0.]\n",
      " [0. 0. 0. ... 0. 0. 0.]]\n"
     ]
    }
   ],
   "source": [
    "radius = 50\n",
    "line_coords = LR.createTestCoordsForCircle(radius)\n",
    "world_coords = LR.performBresenham3D(line_coords,LR.DETECTOR_TO_PATIENT,LR.SRC_TO_PATIENT,LR.BOX_DIM)\n",
    "box = LR.savePointsWithinSquare(world_coords,LR.BOX_DIM)\n",
    "\n",
    "print(LR.BOX_DIM)\n",
    "print(len(line_coords))\n",
    "print(world_coords[:100])\n",
    "print(box[222])"
   ]
  },
  {
   "cell_type": "code",
   "execution_count": 3,
   "metadata": {},
   "outputs": [],
   "source": [
    "#print(world_coords[100000:100100])"
   ]
  },
  {
   "cell_type": "code",
   "execution_count": 4,
   "metadata": {},
   "outputs": [],
   "source": [
    "%matplotlib widget\n",
    "\n",
    "# Create axis\n",
    "axes = [box.shape[0], box.shape[1], box.shape[2]]\n",
    "\n",
    "# Create Data\n",
    "data = box  # np.ones(axes, dtype=np.bool)\n",
    "\n",
    "# Controll Tranperency\n",
    "alpha = 0.9\n",
    "\n",
    "# Control colour\n",
    "colors = np.empty(axes + [4], dtype=np.float32)\n",
    "\n",
    "colors[:] = [1, 0, 0, alpha]  # red\n",
    "\n",
    "# Plot figure\n",
    "fig = plt.figure()\n",
    "ax = fig.add_subplot(111, projection='3d')\n",
    "\n",
    "# Voxels is used to customizations of the\n",
    "# sizes, positions and colors.\n",
    "ax.voxels(data, facecolors=colors)\n",
    "\n",
    "\n",
    "plt.ion\n",
    "plt.show()\n"
   ]
  }
 ],
 "metadata": {
  "interpreter": {
   "hash": "0168595519c989d7f67b82b29d7f10b1cf9acc10b5dfc45f1935b31ca602370e"
  },
  "kernelspec": {
   "display_name": "Python 3.8.10 64-bit (windows store)",
   "language": "python",
   "name": "python3"
  },
  "language_info": {
   "codemirror_mode": {
    "name": "ipython",
    "version": 3
   },
   "file_extension": ".py",
   "mimetype": "text/x-python",
   "name": "python",
   "nbconvert_exporter": "python",
   "pygments_lexer": "ipython3",
   "version": "3.8.10"
  },
  "orig_nbformat": 4
 },
 "nbformat": 4,
 "nbformat_minor": 2
}
