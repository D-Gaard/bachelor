{
 "cells": [
  {
   "cell_type": "code",
   "execution_count": 2,
   "metadata": {},
   "outputs": [],
   "source": [
    "import lineRenderWorldSetup as LR\n",
    "import matplotlib.pyplot as plt\n",
    "from mpl_toolkits.mplot3d import Axes3D\n",
    "import numpy as np\n",
    "\n"
   ]
  },
  {
   "cell_type": "code",
   "execution_count": 5,
   "metadata": {},
   "outputs": [
    {
     "name": "stdout",
     "output_type": "stream",
     "text": [
      "445\n",
      "7845\n",
      "[(-222, 10, 0), (-221, 10, 0), (-220, 10, 0), (-219, 10, 0), (-218, 10, 0), (-217, 10, 0), (-216, 11, 0), (-215, 11, 0), (-214, 11, 0), (-213, 11, 0), (-212, 11, 0), (-211, 11, 0), (-210, 11, 0), (-209, 11, 0), (-208, 11, 0), (-207, 11, 0), (-206, 11, 0), (-205, 11, 0), (-204, 11, 0), (-203, 11, 0), (-202, 11, 0), (-201, 11, 0), (-200, 11, 0), (-199, 11, 0), (-198, 11, 0), (-197, 11, 0), (-196, 11, 0), (-195, 11, 0), (-194, 11, 0), (-193, 12, 0), (-192, 12, 0), (-191, 12, 0), (-190, 12, 0), (-189, 12, 0), (-188, 12, 0), (-187, 12, 0), (-186, 12, 0), (-185, 12, 0), (-184, 12, 0), (-183, 12, 0), (-182, 12, 0), (-181, 12, 0), (-180, 12, 0), (-179, 12, 0), (-178, 12, 0), (-177, 12, 0), (-176, 12, 0), (-175, 12, 0), (-174, 12, 0), (-173, 12, 0), (-172, 12, 0), (-171, 12, 0), (-170, 13, 0), (-169, 13, 0), (-168, 13, 0), (-167, 13, 0), (-166, 13, 0), (-165, 13, 0), (-164, 13, 0), (-163, 13, 0), (-162, 13, 0), (-161, 13, 0), (-160, 13, 0), (-159, 13, 0), (-158, 13, 0), (-157, 13, 0), (-156, 13, 0), (-155, 13, 0), (-154, 13, 0), (-153, 13, 0), (-152, 13, 0), (-151, 13, 0), (-150, 13, 0), (-149, 13, 0), (-148, 13, 0), (-147, 13, 0), (-146, 14, 0), (-145, 14, 0), (-144, 14, 0), (-143, 14, 0), (-142, 14, 0), (-141, 14, 0), (-140, 14, 0), (-139, 14, 0), (-138, 14, 0), (-137, 14, 0), (-136, 14, 0), (-135, 14, 0), (-134, 14, 0), (-133, 14, 0), (-132, 14, 0), (-131, 14, 0), (-130, 14, 0), (-129, 14, 0), (-128, 14, 0), (-127, 14, 0), (-126, 14, 0), (-125, 14, 0), (-124, 14, 0), (-123, 15, 0)]\n"
     ]
    },
    {
     "ename": "AttributeError",
     "evalue": "'NoneType' object has no attribute 'type'",
     "output_type": "error",
     "traceback": [
      "\u001b[1;31m---------------------------------------------------------------------------\u001b[0m",
      "\u001b[1;31mAttributeError\u001b[0m                            Traceback (most recent call last)",
      "\u001b[1;32m<ipython-input-5-d67a9af18104>\u001b[0m in \u001b[0;36m<module>\u001b[1;34m\u001b[0m\n\u001b[0;32m      7\u001b[0m \u001b[0mprint\u001b[0m\u001b[1;33m(\u001b[0m\u001b[0mlen\u001b[0m\u001b[1;33m(\u001b[0m\u001b[0mline_coords\u001b[0m\u001b[1;33m)\u001b[0m\u001b[1;33m)\u001b[0m\u001b[1;33m\u001b[0m\u001b[1;33m\u001b[0m\u001b[0m\n\u001b[0;32m      8\u001b[0m \u001b[0mprint\u001b[0m\u001b[1;33m(\u001b[0m\u001b[0mworld_coords\u001b[0m\u001b[1;33m[\u001b[0m\u001b[1;33m:\u001b[0m\u001b[1;36m100\u001b[0m\u001b[1;33m]\u001b[0m\u001b[1;33m)\u001b[0m\u001b[1;33m\u001b[0m\u001b[1;33m\u001b[0m\u001b[0m\n\u001b[1;32m----> 9\u001b[1;33m \u001b[0mprint\u001b[0m\u001b[1;33m(\u001b[0m\u001b[0mbox\u001b[0m\u001b[1;33m.\u001b[0m\u001b[0mtype\u001b[0m\u001b[1;33m)\u001b[0m\u001b[1;33m\u001b[0m\u001b[1;33m\u001b[0m\u001b[0m\n\u001b[0m",
      "\u001b[1;31mAttributeError\u001b[0m: 'NoneType' object has no attribute 'type'"
     ]
    }
   ],
   "source": [
    "radius = 50\n",
    "line_coords = LR.createTestCoordsForCircle(radius)\n",
    "world_coords = LR.performBresenham3D(line_coords,LR.DETECTOR_TO_PATIENT,LR.SRC_TO_PATIENT,LR.BOX_DIM)\n",
    "box = LR.savePointsWithinSquare(world_coords,LR.BOX_DIM)\n",
    "\n",
    "print(LR.BOX_DIM)\n",
    "print(len(line_coords))\n",
    "print(world_coords[:100])\n",
    "print(box.type)"
   ]
  },
  {
   "cell_type": "code",
   "execution_count": null,
   "metadata": {},
   "outputs": [
    {
     "name": "stdout",
     "output_type": "stream",
     "text": [
      "[(98, 21, 7), (99, 21, 7), (100, 21, 7), (101, 21, 7), (102, 21, 7), (103, 21, 7), (104, 21, 7), (105, 21, 7), (106, 21, 7), (107, 21, 7), (108, 21, 7), (109, 21, 7), (110, 21, 7), (111, 21, 7), (112, 21, 7), (113, 21, 7), (114, 21, 7), (115, 21, 7), (116, 21, 7), (117, 21, 7), (118, 21, 7), (119, 21, 7), (120, 21, 7), (121, 21, 7), (122, 22, 7), (123, 22, 7), (124, 22, 7), (125, 22, 7), (126, 22, 7), (127, 22, 7), (128, 22, 7), (129, 22, 7), (130, 22, 7), (131, 22, 7), (132, 22, 7), (133, 22, 7), (134, 22, 7), (135, 22, 7), (136, 22, 7), (137, 22, 7), (138, 22, 7), (139, 22, 7), (140, 22, 7), (141, 22, 7), (142, 22, 7), (143, 22, 7), (144, 22, 7), (145, 22, 7), (146, 22, 7), (147, 22, 7), (148, 22, 7), (149, 23, 7), (150, 23, 7), (151, 23, 7), (152, 23, 7), (153, 23, 7), (154, 23, 7), (155, 23, 7), (156, 23, 7), (157, 23, 7), (158, 23, 7), (159, 23, 7), (160, 23, 7), (161, 23, 7), (162, 23, 7), (163, 23, 7), (164, 23, 8), (165, 23, 8), (166, 23, 8), (167, 23, 8), (168, 23, 8), (169, 23, 8), (170, 23, 8), (171, 23, 8), (172, 23, 8), (173, 23, 8), (174, 23, 8), (175, 23, 8), (176, 24, 8), (177, 24, 8), (178, 24, 8), (179, 24, 8), (180, 24, 8), (181, 24, 8), (182, 24, 8), (183, 24, 8), (184, 24, 8), (185, 24, 8), (186, 24, 8), (187, 24, 8), (188, 24, 8), (189, 24, 8), (190, 24, 8), (191, 24, 8), (192, 24, 8), (193, 24, 8), (194, 24, 8), (195, 24, 8), (196, 24, 8), (197, 24, 8)]\n"
     ]
    }
   ],
   "source": [
    "#print(world_coords[100000:100100])"
   ]
  },
  {
   "cell_type": "code",
   "execution_count": 4,
   "metadata": {},
   "outputs": [
    {
     "ename": "AttributeError",
     "evalue": "'NoneType' object has no attribute 'shape'",
     "output_type": "error",
     "traceback": [
      "\u001b[1;31m---------------------------------------------------------------------------\u001b[0m",
      "\u001b[1;31mAttributeError\u001b[0m                            Traceback (most recent call last)",
      "\u001b[1;32m<ipython-input-4-2aec80dda024>\u001b[0m in \u001b[0;36m<module>\u001b[1;34m\u001b[0m\n\u001b[0;32m      2\u001b[0m \u001b[1;33m\u001b[0m\u001b[0m\n\u001b[0;32m      3\u001b[0m \u001b[1;31m# Create axis\u001b[0m\u001b[1;33m\u001b[0m\u001b[1;33m\u001b[0m\u001b[1;33m\u001b[0m\u001b[0m\n\u001b[1;32m----> 4\u001b[1;33m \u001b[0maxes\u001b[0m \u001b[1;33m=\u001b[0m \u001b[1;33m[\u001b[0m\u001b[0mbox\u001b[0m\u001b[1;33m.\u001b[0m\u001b[0mshape\u001b[0m\u001b[1;33m[\u001b[0m\u001b[1;36m0\u001b[0m\u001b[1;33m]\u001b[0m\u001b[1;33m,\u001b[0m \u001b[0mbox\u001b[0m\u001b[1;33m.\u001b[0m\u001b[0mshape\u001b[0m\u001b[1;33m[\u001b[0m\u001b[1;36m1\u001b[0m\u001b[1;33m]\u001b[0m\u001b[1;33m,\u001b[0m \u001b[0mbox\u001b[0m\u001b[1;33m.\u001b[0m\u001b[0mshape\u001b[0m\u001b[1;33m[\u001b[0m\u001b[1;36m2\u001b[0m\u001b[1;33m]\u001b[0m\u001b[1;33m]\u001b[0m\u001b[1;33m\u001b[0m\u001b[1;33m\u001b[0m\u001b[0m\n\u001b[0m\u001b[0;32m      5\u001b[0m \u001b[1;33m\u001b[0m\u001b[0m\n\u001b[0;32m      6\u001b[0m \u001b[1;31m# Create Data\u001b[0m\u001b[1;33m\u001b[0m\u001b[1;33m\u001b[0m\u001b[1;33m\u001b[0m\u001b[0m\n",
      "\u001b[1;31mAttributeError\u001b[0m: 'NoneType' object has no attribute 'shape'"
     ]
    }
   ],
   "source": [
    "%matplotlib widget\n",
    "\n",
    "# Create axis\n",
    "axes = [box.shape[0], box.shape[1], box.shape[2]]\n",
    "\n",
    "# Create Data\n",
    "data = box  # np.ones(axes, dtype=np.bool)\n",
    "\n",
    "# Controll Tranperency\n",
    "alpha = 0.9\n",
    "\n",
    "# Control colour\n",
    "colors = np.empty(axes + [4], dtype=np.float32)\n",
    "\n",
    "colors[:] = [1, 0, 0, alpha]  # red\n",
    "\n",
    "# Plot figure\n",
    "fig = plt.figure()\n",
    "ax = fig.add_subplot(111, projection='3d')\n",
    "\n",
    "# Voxels is used to customizations of the\n",
    "# sizes, positions and colors.\n",
    "ax.voxels(data, facecolors=colors)\n",
    "\n",
    "\n",
    "plt.ion\n",
    "plt.show()\n"
   ]
  }
 ],
 "metadata": {
  "interpreter": {
   "hash": "0168595519c989d7f67b82b29d7f10b1cf9acc10b5dfc45f1935b31ca602370e"
  },
  "kernelspec": {
   "display_name": "Python 3.8.10 64-bit (windows store)",
   "language": "python",
   "name": "python3"
  },
  "language_info": {
   "codemirror_mode": {
    "name": "ipython",
    "version": 3
   },
   "file_extension": ".py",
   "mimetype": "text/x-python",
   "name": "python",
   "nbconvert_exporter": "python",
   "pygments_lexer": "ipython3",
   "version": "3.8.10"
  },
  "orig_nbformat": 4
 },
 "nbformat": 4,
 "nbformat_minor": 2
}
