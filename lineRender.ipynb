{
 "cells": [
  {
   "cell_type": "code",
   "execution_count": 61,
   "metadata": {},
   "outputs": [],
   "source": [
    "import lineRenderWorldSetup as LR\n",
    "import matplotlib.pyplot as plt\n",
    "from mpl_toolkits.mplot3d import Axes3D\n",
    "import numpy as np\n",
    "import pyvista as pv\n",
    "from mayavi import mlab"
   ]
  },
  {
   "cell_type": "code",
   "execution_count": 62,
   "metadata": {},
   "outputs": [],
   "source": [
    "radius = 50\n",
    "box_dim = 101\n",
    "line_coords = LR.createTestCoordsForCircle(radius)\n",
    "world_coords = LR.performBresenham3D(line_coords,LR.DETECTOR_TO_PATIENT,LR.SRC_TO_PATIENT,box_dim)\n",
    "box = LR.savePointsWithinSquare(world_coords,box_dim)\n",
    "\n",
    "box_rot = LR.rotatePrimSecond(box,30.7,0.7)\n",
    "box_rot = np.where(box_rot > 0.5, 1, 0)\n",
    "\n",
    "box_rot2 = LR.rotatePrimSecond(box, 11, 20)\n",
    "box_rot2 = np.where(box_rot2 > 0.5, 1, 0)\n",
    "\n",
    "box_rot3 = LR.rotatePrimSecond(box, -31, -0.1)\n",
    "box_rot3 = np.where(box_rot3 > 0.5, 1, 0)\n",
    "\n",
    "box_rot4 = LR.rotatePrimSecond(box, -21.5, -24.8)\n",
    "box_rot4 = np.where(box_rot4 > 0.5, 1, 0)\n",
    "\n",
    "box_rot5 = LR.rotatePrimSecond(box, -24.5, 27.3)\n",
    "box_rot5 = np.where(box_rot5 > 0.5, 1, 0)\n",
    "\n",
    "#box_rot6 = LR.rotatePrimSecond(box, 0.1, 36.7)\n",
    "box_rot6 = LR.rotatePrimSecond(box, 90, 0)\n",
    "box_rot6 = np.where(box_rot6 > 0.5, 1, 0)\n",
    "\n",
    "#box_rot7 = LR.rotatePrimSecond(box, 49.5, 1.3)\n",
    "box_rot7 = LR.rotatePrimSecond(box, 90, 90)\n",
    "box_rot7 = np.where(box_rot7 > 0.5, 1, 0)\n",
    "\n",
    "xc, yc , zc = LR.boxToWorldCorrds(box_rot,box_dim)\n",
    "#print(LR.BOX_DIM)\n",
    "#print(len(line_coords))\n",
    "#print(world_coords[:100])\n",
    "#print(box[50])\n"
   ]
  },
  {
   "cell_type": "code",
   "execution_count": 63,
   "metadata": {},
   "outputs": [],
   "source": [
    "box2 = box_rot + box\n",
    "box2 = np.where(box2 == 2,1,0)\n",
    "\n",
    "box3 = box_rot2 + box2\n",
    "box3 = np.where(box3 == 2, 1, 0)\n",
    "\n",
    "box4 = box_rot3 + box3\n",
    "box4 = np.where(box4 == 2, 1, 0)\n",
    "\n",
    "box5 = box_rot4 + box4\n",
    "box5 = np.where(box5 == 2, 1, 0)\n",
    "\n",
    "box6 = box_rot5 + box5\n",
    "box6 = np.where(box6 == 2, 1, 0)\n",
    "\n",
    "box7 = box_rot6 + box6\n",
    "box7 = np.where(box7 == 2, 1, 0)\n",
    "\n",
    "box8 = box_rot7 + box7\n",
    "box8 = np.where(box8 == 2, 1, 0)\n",
    "\n",
    "xc, yc, zc = LR.boxToWorldCorrds(box_rot, box_dim)\n",
    "xc2, yc2, zc2 = LR.boxToWorldCorrds(box_rot2, box_dim)\n",
    "xc3, yc3, zc3 = LR.boxToWorldCorrds(box_rot3, box_dim)\n",
    "xc4, yc4, zc4 = LR.boxToWorldCorrds(box_rot4, box_dim)\n",
    "xc5, yc5, zc5 = LR.boxToWorldCorrds(box_rot5, box_dim)\n",
    "xc6, yc6, zc6 = LR.boxToWorldCorrds(box_rot6, box_dim)\n",
    "xc7, yc7, zc7 = LR.boxToWorldCorrds(box_rot7, box_dim)\n",
    "xc8, yc8, zc8 = LR.boxToWorldCorrds(box8, box_dim)\n",
    "\n"
   ]
  },
  {
   "cell_type": "code",
   "execution_count": 64,
   "metadata": {},
   "outputs": [],
   "source": [
    "mlab.points3d(xc8, yc8, zc8,\n",
    "                  mode=\"cube\", color=(1, 1, 1), scale_factor=1,opacity=0.5)\n",
    "mlab.points3d(xc, yc, zc,\n",
    "                  mode=\"cube\", color=(1, 0, 0), scale_factor=1,opacity=0.01)\n",
    "mlab.points3d(xc2, yc2, zc2,\n",
    "              mode=\"cube\", color=(1, 0, 1), scale_factor=1, opacity=0.01)\n",
    "mlab.points3d(xc3, yc3, zc3,\n",
    "              mode=\"cube\", color=(1, 1, 0), scale_factor=1, opacity=0.01)\n",
    "mlab.points3d(xc4, yc4, zc4,\n",
    "              mode=\"cube\", color=(1, 0.5, 0), scale_factor=1, opacity=0.01)\n",
    "mlab.points3d(xc5, yc5, zc5,\n",
    "              mode=\"cube\", color=(1, 0, 0.5), scale_factor=1, opacity=0.01)\n",
    "mlab.points3d(xc6, yc6, zc6,\n",
    "              mode=\"cube\", color=(0, 1, 1), scale_factor=1, opacity=0.01)\n",
    "mlab.points3d(xc7, yc7, zc7,\n",
    "              mode=\"cube\", color=(0, 1, 0), scale_factor=1, opacity=0.01)\n",
    "\n",
    "mlab.show()\n"
   ]
  }
 ],
 "metadata": {
  "interpreter": {
   "hash": "0168595519c989d7f67b82b29d7f10b1cf9acc10b5dfc45f1935b31ca602370e"
  },
  "kernelspec": {
   "display_name": "Python 3.8.10 64-bit (windows store)",
   "language": "python",
   "name": "python3"
  },
  "language_info": {
   "codemirror_mode": {
    "name": "ipython",
    "version": 3
   },
   "file_extension": ".py",
   "mimetype": "text/x-python",
   "name": "python",
   "nbconvert_exporter": "python",
   "pygments_lexer": "ipython3",
   "version": "3.8.10"
  },
  "orig_nbformat": 4
 },
 "nbformat": 4,
 "nbformat_minor": 2
}
