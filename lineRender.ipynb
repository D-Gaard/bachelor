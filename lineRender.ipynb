{
 "cells": [
  {
   "cell_type": "code",
   "execution_count": 34,
   "metadata": {},
   "outputs": [],
   "source": [
    "import lineRenderWorldSetup as LR\n",
    "import matplotlib.pyplot as plt\n",
    "from mpl_toolkits.mplot3d import Axes3D\n",
    "import numpy as np\n",
    "import pyvista as pv\n",
    "from mayavi import mlab"
   ]
  },
  {
   "cell_type": "code",
   "execution_count": 35,
   "metadata": {},
   "outputs": [],
   "source": [
    "radius = 50\n",
    "box_dim = 101\n",
    "line_coords = LR.createTestCoordsForCircle(radius)\n",
    "world_coords = LR.performBresenham3D(line_coords,LR.DETECTOR_TO_PATIENT,LR.SRC_TO_PATIENT,box_dim)\n",
    "box = LR.savePointsWithinSquare(world_coords,box_dim)\n",
    "\n",
    "box_rot = LR.rotatePrimSecond(box,30.7,0.7)\n",
    "box_rot = np.where(box_rot > 0.5, 1, 0)\n",
    "\n",
    "box_rot2 = LR.rotatePrimSecond(box, 11, 20)\n",
    "box_rot2 = np.where(box_rot2 > 0.5, 1, 0)\n",
    "\n",
    "box_rot3 = LR.rotatePrimSecond(box, -31, -0.1)\n",
    "box_rot3 = np.where(box_rot3 > 0.5, 1, 0)\n",
    "\n",
    "box_rot4 = LR.rotatePrimSecond(box, -21.5, -24.8)\n",
    "box_rot4 = np.where(box_rot4 > 0.5, 1, 0)\n",
    "\n",
    "box_rot5 = LR.rotatePrimSecond(box, -24.5, 27.3)\n",
    "box_rot5 = np.where(box_rot5 > 0.5, 1, 0)\n",
    "\n",
    "box_rot6 = LR.rotatePrimSecond(box, 0.1, 36.7)\n",
    "box_rot6 = np.where(box_rot6 > 0.5, 1, 0)\n",
    "\n",
    "box_rot7 = LR.rotatePrimSecond(box, 49.5, 1.3)\n",
    "box_rot7 = np.where(box_rot7 > 0.5, 1, 0)\n",
    "\n",
    "xc, yc , zc = LR.boxToWorldCorrds(box_rot,box_dim)\n",
    "#print(LR.BOX_DIM)\n",
    "#print(len(line_coords))\n",
    "#print(world_coords[:100])\n",
    "#print(box[50])\n"
   ]
  },
  {
   "cell_type": "code",
   "execution_count": 40,
   "metadata": {},
   "outputs": [],
   "source": [
    "box2 = box_rot + box\n",
    "box2 = np.where(box2 == 2,1,0)\n",
    "\n",
    "box3 = box_rot2 + box2\n",
    "box3 = np.where(box3 == 2, 1, 0)\n",
    "\n",
    "box4 = box_rot3 + box3\n",
    "box4 = np.where(box4 == 2, 1, 0)\n",
    "\n",
    "box5 = box_rot4 + box4\n",
    "box5 = np.where(box5 == 2, 1, 0)\n",
    "\n",
    "box6 = box_rot5 + box5\n",
    "box6 = np.where(box6 == 2, 1, 0)\n",
    "\n",
    "box7 = box_rot6 + box6\n",
    "box7 = np.where(box7 == 2, 1, 0)\n",
    "\n",
    "box8 = box_rot7 + box7\n",
    "box8 = np.where(box8 == 2, 1, 0)\n",
    "\n",
    "\n",
    "xc, yc, zc = LR.boxToWorldCorrds(box8, box_dim)\n"
   ]
  },
  {
   "cell_type": "code",
   "execution_count": 41,
   "metadata": {},
   "outputs": [],
   "source": [
    "s = mlab.points3d(xc, yc, zc,\n",
    "                  mode=\"cube\", color=(0, 1, 0), scale_factor=1)\n",
    "mlab.show()\n"
   ]
  }
 ],
 "metadata": {
  "interpreter": {
   "hash": "0168595519c989d7f67b82b29d7f10b1cf9acc10b5dfc45f1935b31ca602370e"
  },
  "kernelspec": {
   "display_name": "Python 3.8.10 64-bit (windows store)",
   "language": "python",
   "name": "python3"
  },
  "language_info": {
   "codemirror_mode": {
    "name": "ipython",
    "version": 3
   },
   "file_extension": ".py",
   "mimetype": "text/x-python",
   "name": "python",
   "nbconvert_exporter": "python",
   "pygments_lexer": "ipython3",
   "version": "3.8.10"
  },
  "orig_nbformat": 4
 },
 "nbformat": 4,
 "nbformat_minor": 2
}
