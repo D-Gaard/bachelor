{
 "cells": [
  {
   "cell_type": "code",
   "execution_count": 14,
   "metadata": {},
   "outputs": [],
   "source": [
    "import lineRenderWorldSetup as LR\n",
    "import cv2\n",
    "import numpy as np\n",
    "from mayavi import mlab\n",
    "import matplotlib.pyplot as plt\n",
    "from glob import glob\n",
    "from natsort import natsorted\n",
    "import os\n",
    "import _3dTo2dSetup as D3"
   ]
  },
  {
   "cell_type": "code",
   "execution_count": 16,
   "metadata": {},
   "outputs": [
    {
     "name": "stdout",
     "output_type": "stream",
     "text": [
      "['data\\\\segment\\\\I0_021.tiff', 'data\\\\segment\\\\I1_016.tiff', 'data\\\\segment\\\\I3_023.tiff', 'data\\\\segment\\\\I4_021.tiff', 'data\\\\segment\\\\I6_031.tiff', 'data\\\\segment\\\\I7_023.tiff', 'data\\\\segment\\\\I8_021.tiff']\n"
     ]
    }
   ],
   "source": [
    "#path to image folder and load 3d model\n",
    "path = r\"data\\segment\"\n",
    "img_paths = natsorted(glob(os.path.join(path, \"*.tiff\"))) #.png\n",
    "dim = 735\n",
    "box_dim = LR.BOX_DIM\n",
    "flip = True #False\n",
    "#load 3D model\n",
    "path_real = r\"solid_400001-segmentation-solid_400001-label.nrrd\"\n",
    "real_box = D3.get3dFigure(box_dim, path_real)\n",
    "\n",
    "angles = LR.ANGLES\n",
    "print(img_paths)"
   ]
  },
  {
   "cell_type": "code",
   "execution_count": 17,
   "metadata": {},
   "outputs": [],
   "source": [
    "prim_rots = []\n",
    "secd_rots = []\n",
    "imgs = []\n",
    "\n",
    "for i in range(len(angles)):\n",
    "  p = img_paths[i]\n",
    "  img = cv2.imread(p, 0)\n",
    "  f = os.path.basename(p)\n",
    "  imgs.append(img)\n",
    "\n",
    "  prim, secd = angles[i]\n",
    "  prim_rots.append(prim)\n",
    "  secd_rots.append(secd)\n"
   ]
  },
  {
   "cell_type": "code",
   "execution_count": 18,
   "metadata": {},
   "outputs": [
    {
     "name": "stdout",
     "output_type": "stream",
     "text": [
      "produced box\n",
      "produced box\n",
      "produced box\n",
      "produced box\n",
      "produced box\n",
      "produced box\n",
      "produced box\n"
     ]
    }
   ],
   "source": [
    "#create back-projection for each image\n",
    "boxes = []\n",
    "\n",
    "for i in imgs:\n",
    "  line_coords = LR.createCoordsForLoadedImageFrom3d(i, flip, dim)\n",
    "  world_coords = LR.performBresenham3D(\n",
    "      line_coords, LR.DETECTOR_TO_PATIENT, LR.SRC_TO_PATIENT, box_dim)\n",
    "  box = LR.savePointsWithinSquare(world_coords, box_dim)\n",
    "  boxes.append(box)\n",
    "  print(\"produced box\")\n"
   ]
  },
  {
   "cell_type": "code",
   "execution_count": 19,
   "metadata": {},
   "outputs": [
    {
     "name": "stdout",
     "output_type": "stream",
     "text": [
      "Rotated box  0\n",
      "Rotated box  1\n",
      "Rotated box  2\n",
      "Rotated box  3\n",
      "Rotated box  4\n",
      "Rotated box  5\n",
      "Rotated box  6\n"
     ]
    }
   ],
   "source": [
    "#add rotation to each box \n",
    "for i in range(len(boxes)):\n",
    "  box_rot = LR.rotatePrimSecond(boxes[i], prim_rots[i], secd_rots[i])\n",
    "  box_rot = np.where(box_rot > 0.5, 1, 0)\n",
    "  boxes[i] = box_rot \n",
    "  print(\"Rotated box \", i)"
   ]
  },
  {
   "cell_type": "code",
   "execution_count": 12,
   "metadata": {},
   "outputs": [],
   "source": [
    "# Save box projections for each image as numpy arrays\n",
    "for i in range(len(boxes)):\n",
    "  p = img_paths[i]\n",
    "  f = os.path.basename(p)\n",
    "  angle = str(prim_rots[i]) + \"_\" + str(secd_rots[i]) \n",
    "  np.save(r\"model_uncertainty\\docAnglesSeg\\S\" + angle, boxes[i])"
   ]
  }
 ],
 "metadata": {
  "interpreter": {
   "hash": "f8665132f1068c6d656335a3a93d4e1e9cc43466a542cc440a9c028e42f97746"
  },
  "kernelspec": {
   "display_name": "Python 3.9.0 64-bit",
   "language": "python",
   "name": "python3"
  },
  "language_info": {
   "codemirror_mode": {
    "name": "ipython",
    "version": 3
   },
   "file_extension": ".py",
   "mimetype": "text/x-python",
   "name": "python",
   "nbconvert_exporter": "python",
   "pygments_lexer": "ipython3",
   "version": "3.9.0"
  },
  "orig_nbformat": 4
 },
 "nbformat": 4,
 "nbformat_minor": 2
}
