{
 "cells": [
  {
   "cell_type": "code",
   "execution_count": 1,
   "metadata": {},
   "outputs": [],
   "source": [
    "import lineRenderWorldSetup as LR\n",
    "import cv2\n",
    "import numpy as np\n",
    "from mayavi import mlab\n",
    "import matplotlib.pyplot as plt\n"
   ]
  },
  {
   "cell_type": "code",
   "execution_count": 2,
   "metadata": {},
   "outputs": [],
   "source": [
    "#select image and translational offset\n",
    "path = r\"3dTo2d\\totalUncertancy\\2_+00_+00_angle.png\"\n",
    "img = cv2.imread(path, 0)\n",
    "dim, _ = img.shape[:2]\n",
    "box_dim = LR.BOX_DIM\n",
    "offset = 3\n",
    "T_pospos = np.float32([[1,0,offset],[0,1,offset]])\n",
    "T_posneg = np.float32([[1, 0, offset],[0, 1, -offset]])\n",
    "T_negpos = np.float32([[1, 0, -offset],[0, 1, offset]])\n",
    "T_negneg = np.float32([[1, 0, -offset],[0, 1, -offset]])\n",
    "T_posnot = np.float32([[1, 0, offset], [0, 1, 0]])\n",
    "T_negnot = np.float32([[1, 0, -offset], [0, 1, 0]])\n",
    "T_notpos = np.float32([[1, 0, 0], [0, 1, offset]])\n",
    "T_notneg = np.float32([[1, 0, 0], [0, 1, -offset]])\n",
    "prim_rot = 0\n",
    "secd_rot = 0\n"
   ]
  },
  {
   "cell_type": "code",
   "execution_count": 3,
   "metadata": {},
   "outputs": [
    {
     "data": {
      "text/plain": [
       "'plt.figure(figsize=(20,10))\\nplt.subplot(2,5,1)\\nplt.imshow(img, cmap=\"gray\")\\nplt.title(\"Original\")\\n\\nplt.subplot(2, 5, 2)\\nplt.imshow(img_pp, cmap=\"gray\")\\nplt.title(\"PosPos\")\\n\\nplt.subplot(2, 5, 3)\\nplt.imshow(img_pn, cmap=\"gray\")\\nplt.title(\"PosNeg\")\\n\\nplt.subplot(2, 5, 4)\\nplt.imshow(img_np, cmap=\"gray\")\\nplt.title(\"NegPos\")\\n\\nplt.subplot(2, 5, 5)\\nplt.imshow(img_nn,cmap=\"gray\")\\nplt.title(\"NegNeg\")\\n\\nplt.subplot(2, 5, 6)\\nplt.imshow(img_pN, cmap=\"gray\")\\nplt.title(\"PosNot\")\\n\\nplt.subplot(2, 5, 7)\\nplt.imshow(img_nN, cmap=\"gray\")\\nplt.title(\"NegNot\")\\n\\nplt.subplot(2, 5, 8)\\nplt.imshow(img_Np, cmap=\"gray\")\\nplt.title(\"NotPos\")\\n\\nplt.subplot(2, 5, 9)\\nplt.imshow(img_Nn, cmap=\"gray\")\\nplt.title(\"NotNeg\")\\n\\nplt.show()'"
      ]
     },
     "execution_count": 3,
     "metadata": {},
     "output_type": "execute_result"
    }
   ],
   "source": [
    "#translate image\n",
    "#n-> negative N->nothing\n",
    "img_pp = cv2.warpAffine(img, T_pospos, (dim, dim))\n",
    "img_pn = cv2.warpAffine(img, T_posneg, (dim, dim))\n",
    "img_np = cv2.warpAffine(img, T_negpos, (dim, dim))\n",
    "img_nn = cv2.warpAffine(img, T_negneg, (dim, dim))\n",
    "img_pN = cv2.warpAffine(img, T_posnot, (dim, dim))\n",
    "img_nN = cv2.warpAffine(img, T_negnot, (dim, dim))\n",
    "img_Np = cv2.warpAffine(img, T_notpos, (dim, dim))\n",
    "img_Nn = cv2.warpAffine(img, T_notneg, (dim, dim))\n",
    "\n",
    "\"\"\"plt.figure(figsize=(20,10))\n",
    "plt.subplot(2,5,1)\n",
    "plt.imshow(img, cmap=\"gray\")\n",
    "plt.title(\"Original\")\n",
    "\n",
    "plt.subplot(2, 5, 2)\n",
    "plt.imshow(img_pp, cmap=\"gray\")\n",
    "plt.title(\"PosPos\")\n",
    "\n",
    "plt.subplot(2, 5, 3)\n",
    "plt.imshow(img_pn, cmap=\"gray\")\n",
    "plt.title(\"PosNeg\")\n",
    "\n",
    "plt.subplot(2, 5, 4)\n",
    "plt.imshow(img_np, cmap=\"gray\")\n",
    "plt.title(\"NegPos\")\n",
    "\n",
    "plt.subplot(2, 5, 5)\n",
    "plt.imshow(img_nn,cmap=\"gray\")\n",
    "plt.title(\"NegNeg\")\n",
    "\n",
    "plt.subplot(2, 5, 6)\n",
    "plt.imshow(img_pN, cmap=\"gray\")\n",
    "plt.title(\"PosNot\")\n",
    "\n",
    "plt.subplot(2, 5, 7)\n",
    "plt.imshow(img_nN, cmap=\"gray\")\n",
    "plt.title(\"NegNot\")\n",
    "\n",
    "plt.subplot(2, 5, 8)\n",
    "plt.imshow(img_Np, cmap=\"gray\")\n",
    "plt.title(\"NotPos\")\n",
    "\n",
    "plt.subplot(2, 5, 9)\n",
    "plt.imshow(img_Nn, cmap=\"gray\")\n",
    "plt.title(\"NotNeg\")\n",
    "\n",
    "plt.show()\"\"\"\n"
   ]
  },
  {
   "cell_type": "code",
   "execution_count": 4,
   "metadata": {},
   "outputs": [
    {
     "name": "stdout",
     "output_type": "stream",
     "text": [
      "produced box\n",
      "produced box\n",
      "produced box\n",
      "produced box\n",
      "produced box\n",
      "produced box\n",
      "produced box\n",
      "produced box\n",
      "produced box\n"
     ]
    }
   ],
   "source": [
    "#create back-projection for each image\n",
    "imgs = [img, img_pp, img_pn, img_np, img_nn,img_pN,img_nN,img_Np,img_Nn]\n",
    "boxes = []\n",
    "flip = False\n",
    "\n",
    "for i in imgs:\n",
    "  line_coords = LR.createCoordsForLoadedImageFrom3d(i,flip,dim)\n",
    "  world_coords = LR.performBresenham3D(line_coords, LR.DETECTOR_TO_PATIENT, LR.SRC_TO_PATIENT, box_dim)\n",
    "  box = LR.savePointsWithinSquare(world_coords, box_dim)\n",
    "  boxes.append(box)\n",
    "  print(\"produced box\")\n"
   ]
  },
  {
   "cell_type": "code",
   "execution_count": 5,
   "metadata": {},
   "outputs": [
    {
     "name": "stdout",
     "output_type": "stream",
     "text": [
      "9\n"
     ]
    }
   ],
   "source": [
    "print(len(boxes))"
   ]
  },
  {
   "cell_type": "code",
   "execution_count": 6,
   "metadata": {},
   "outputs": [
    {
     "data": {
      "text/plain": [
       "'for i in range(len(boxes)):\\n  box_rot = LR.rotatePrimSecond(boxes[i],prim_rot,secd_rot)\\n  box_rot = np.where(box_rot>0.5,1,0)\\n  boxes[i] = box_rot\\n  print(\"Rotated box \", i)'"
      ]
     },
     "execution_count": 6,
     "metadata": {},
     "output_type": "execute_result"
    }
   ],
   "source": [
    "#add rotation to each box if wanted:\n",
    "\"\"\"for i in range(len(boxes)):\n",
    "  box_rot = LR.rotatePrimSecond(boxes[i],prim_rot,secd_rot)\n",
    "  box_rot = np.where(box_rot>0.5,1,0)\n",
    "  boxes[i] = box_rot\n",
    "  print(\"Rotated box \", i)\"\"\""
   ]
  },
  {
   "cell_type": "code",
   "execution_count": 7,
   "metadata": {},
   "outputs": [],
   "source": [
    "# Save box projections for each image as numpy arrays\n",
    "name = \"_-00_-00_\"\n",
    "imgs_name = [\"img\", \"img_pp\", \"img_pn\", \"img_np\",\n",
    "             \"img_nn\", \"img_px\", \"img_nx\", \"img_xp\", \"img_xn\"] #numpy cannot saves name in lowercase\n",
    "\n",
    "for i in range(len(boxes)):\n",
    "  np.save(r\"model_uncertainty\\translated\\offset_3\\T\" + name +\n",
    "          str(offset) + \"_\" + imgs_name[i], boxes[i])\n"
   ]
  },
  {
   "cell_type": "code",
   "execution_count": null,
   "metadata": {},
   "outputs": [],
   "source": [
    "#render box(es)\n",
    "#x, y, z = LR.boxToWorldCorrds(boxes[0], box_dim)\n",
    "\n"
   ]
  },
  {
   "cell_type": "code",
   "execution_count": null,
   "metadata": {},
   "outputs": [],
   "source": [
    "#mlab.points3d(x, y, z,\n",
    "#              mode=\"cube\", color=(1, 0, 0.5), scale_factor=1, opacity=1)\n",
    "#mlab.show()\n"
   ]
  }
 ],
 "metadata": {
  "interpreter": {
   "hash": "f8665132f1068c6d656335a3a93d4e1e9cc43466a542cc440a9c028e42f97746"
  },
  "kernelspec": {
   "display_name": "Python 3.9.0 64-bit",
   "language": "python",
   "name": "python3"
  },
  "language_info": {
   "codemirror_mode": {
    "name": "ipython",
    "version": 3
   },
   "file_extension": ".py",
   "mimetype": "text/x-python",
   "name": "python",
   "nbconvert_exporter": "python",
   "pygments_lexer": "ipython3",
   "version": "3.9.0"
  },
  "orig_nbformat": 4
 },
 "nbformat": 4,
 "nbformat_minor": 2
}
