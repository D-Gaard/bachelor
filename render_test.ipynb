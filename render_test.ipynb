{
 "cells": [
  {
   "cell_type": "code",
   "execution_count": 1,
   "metadata": {},
   "outputs": [],
   "source": [
    "import plotly\n",
    "import numpy as np\n",
    "from scipy import ndimage\n",
    "import plotly.graph_objects as go\n",
    "import plotly.express as px\n",
    "import pandas as pd\n",
    "import matplotlib.pyplot as plt\n",
    "import k3d"
   ]
  },
  {
   "cell_type": "code",
   "execution_count": 2,
   "metadata": {},
   "outputs": [],
   "source": [
    "from scipy.spatial.transform import Rotation as R\n",
    "from numpy.linalg import norm\n"
   ]
  },
  {
   "cell_type": "code",
   "execution_count": 3,
   "metadata": {},
   "outputs": [],
   "source": [
    "primaryAngle = 30.7\n",
    "secondaryAngle = 0.7\n",
    "distanceSD = 1167 #distance from sorce to detector in mm\n",
    "distanceSP = 705"
   ]
  },
  {
   "cell_type": "code",
   "execution_count": 4,
   "metadata": {},
   "outputs": [],
   "source": [
    "import math as m\n",
    "\n",
    "\n",
    "def Rx(theta):\n",
    "  return np.matrix([[1, 0, 0],\n",
    "                    [0, m.cos(theta), -m.sin(theta)],\n",
    "                    [0, m.sin(theta), m.cos(theta)]])\n",
    "\n",
    "\n",
    "def Ry(theta):\n",
    "  return np.matrix([[m.cos(theta), 0, m.sin(theta)],\n",
    "                    [0, 1, 0],\n",
    "                    [-m.sin(theta), 0, m.cos(theta)]])\n",
    "\n",
    "\n",
    "def Rz(theta):\n",
    "  return np.matrix([[m.cos(theta), -m.sin(theta), 0],\n",
    "                    [m.sin(theta), m.cos(theta), 0],\n",
    "                    [0, 0, 1]])\n"
   ]
  },
  {
   "cell_type": "code",
   "execution_count": 5,
   "metadata": {},
   "outputs": [
    {
     "name": "stderr",
     "output_type": "stream",
     "text": [
      "C:\\Users\\Mads Syge Monster PC\\AppData\\Local\\Packages\\PythonSoftwareFoundation.Python.3.8_qbz5n2kfra8p0\\LocalCache\\local-packages\\Python38\\site-packages\\traittypes\\traittypes.py:97: UserWarning: Given trait value dtype \"float64\" does not match required type \"float32\". A coerced copy has been created.\n",
      "  warnings.warn(\n"
     ]
    },
    {
     "data": {
      "application/vnd.jupyter.widget-view+json": {
       "model_id": "e4191c1f0d0445cfbd92985c612e9c2f",
       "version_major": 2,
       "version_minor": 0
      },
      "text/plain": [
       "Output()"
      ]
     },
     "metadata": {},
     "output_type": "display_data"
    }
   ],
   "source": [
    "vek = [[0,0,0],[0,0,distanceSD]]\n",
    "points = [[0,0,0],[0,0,distanceSP],[0,0,distanceSD]]\n",
    "square = [[-100, 100, distanceSD],\n",
    "          [-100, -100, distanceSD], [100, -100, distanceSD], [100, 100, distanceSD], [-100, 100, distanceSD]]\n",
    "plot = k3d.plot(name='test')\n",
    "\n",
    "vek_rot = vek * Rx(2) \n",
    "vek_rot2 = vek_rot * Ry(1)\n",
    "points_rot = points * Rx(2)\n",
    "points_rot2 = points_rot * Ry(1)\n",
    "square_rot = square * Rx(2)\n",
    "square_rot2 = square_rot * Ry(1)\n",
    "\n",
    "\n",
    "plt_line = k3d.line(vek, shader='mesh', width=2)\n",
    "plt_square = k3d.line(square, shader='mesh', width=2)\n",
    "plt_points = k3d.points(positions=points, point_size=20)\n",
    "\n",
    "plt_line_rot = k3d.line(vek_rot, shader='mesh', width=2)\n",
    "plt_square_rot = k3d.line(square_rot, shader='mesh', width=2)\n",
    "plt_points_rot = k3d.points(positions=points_rot, point_size=20)\n",
    "\n",
    "plt_line_rot2 = k3d.line(vek_rot2, shader='mesh', width=2)\n",
    "plt_square_rot2 = k3d.line(square_rot2, shader='mesh', width=2)\n",
    "plt_points_rot2 = k3d.points(positions=points_rot2, point_size=20)\n",
    "\n",
    "plot += plt_line\n",
    "plot += plt_points\n",
    "plot += plt_square\n",
    "\n",
    "plot += plt_line_rot\n",
    "plot += plt_points_rot\n",
    "plot += plt_square_rot\n",
    "\n",
    "plot += plt_line_rot2\n",
    "plot += plt_points_rot2\n",
    "plot += plt_square_rot2\n",
    "\n",
    "\n",
    "plt_points.shader = '3d'\n",
    "plot.display()\n"
   ]
  },
  {
   "cell_type": "code",
   "execution_count": 6,
   "metadata": {},
   "outputs": [
    {
     "data": {
      "text/plain": [
       "matrix([[   0.        ,    0.        ,    0.        ],\n",
       "        [ -12.25912018,  595.8035852 , 1003.37271332]])"
      ]
     },
     "execution_count": 6,
     "metadata": {},
     "output_type": "execute_result"
    }
   ],
   "source": [
    "ang1 = [30.7,11,-31,-21.5,-24.5,0.1,49.5]\n",
    "ang2 = [0.7,20,-0.1,-24.8,27.3,36.7,1.3]\n",
    "\n",
    "vek * Rx(m.radians(ang1[0])) * Ry(m.radians(ang2[0]))\n"
   ]
  },
  {
   "cell_type": "code",
   "execution_count": 7,
   "metadata": {},
   "outputs": [
    {
     "data": {
      "application/vnd.jupyter.widget-view+json": {
       "model_id": "ebf47cafca194d39a53d59914f3d52e3",
       "version_major": 2,
       "version_minor": 0
      },
      "text/plain": [
       "Output()"
      ]
     },
     "metadata": {},
     "output_type": "display_data"
    }
   ],
   "source": [
    "plot = k3d.plot(name='Angle showcase')\n",
    "vek = [[0,0,0],[0,0,distanceSD]]\n",
    "points = [[0,0,0],[0,0,distanceSP],[0,0,distanceSD]]\n",
    "square = [[-100, 100, distanceSD],\n",
    "          [-100, -100, distanceSD], [100, -100, distanceSD], [100, 100, distanceSD], [-100, 100, distanceSD]]\n",
    "\n",
    "\n",
    "plt_line = k3d.line(vek, shader='mesh', width=2 , color=0xff0000)\n",
    "plt_square = k3d.line(square, shader='mesh', width=2, color=0xff0000)\n",
    "plt_points = k3d.points(positions=points, point_size=20, color=0xff0000)\n",
    "\n",
    "for i in range(len(ang1)):\n",
    "  vek_rot = vek * Rx(m.radians(ang1[i])) * Ry(m.radians(ang2[i]))\n",
    "  points_rot = (points * Rx(m.radians(ang1[i]))) * Ry(m.radians(ang2[i]))\n",
    "  square_rot = (square_rot * Rx(m.radians(ang1[i]))) * Ry(m.radians(ang2[i]))\n",
    "\n",
    "  plt_line_rot = k3d.line(vek_rot, shader='mesh', width=2)\n",
    "  plt_square_rot = k3d.line(square_rot, shader='mesh', width=2)\n",
    "  plt_points_rot = k3d.points(positions=points_rot, point_size=20)\n",
    "\n",
    "  plot += plt_line_rot\n",
    "  plot += plt_points_rot\n",
    "  plot += plt_square_rot\n",
    "\n",
    "plot += plt_line\n",
    "plot += plt_points\n",
    "plot += plt_square\n",
    "\n",
    "\n",
    "\n",
    "plt_points.shader = '3d'\n",
    "plot.display()\n"
   ]
  },
  {
   "cell_type": "code",
   "execution_count": 8,
   "metadata": {},
   "outputs": [
    {
     "data": {
      "application/vnd.jupyter.widget-view+json": {
       "model_id": "3ab5ece24e1f4970bd638dd248159e8e",
       "version_major": 2,
       "version_minor": 0
      },
      "text/plain": [
       "Output()"
      ]
     },
     "metadata": {},
     "output_type": "display_data"
    }
   ],
   "source": [
    "plot = k3d.plot(name='Angle showcase')\n",
    "vek = [[0, 0, 0], [0, 0, distanceSD]]\n",
    "points = [[0, 0, 0], [0, 0, distanceSP], [0, 0, distanceSD]]\n",
    "square = [[-100, 100, distanceSD],\n",
    "          [-100, -100, distanceSD], [100, -100, distanceSD], [100, 100, distanceSD], [-100, 100, distanceSD]]\n",
    "\n",
    "\n",
    "plt_line = k3d.line(vek, shader='mesh', width=2, color=0xff0000)\n",
    "plt_square = k3d.line(square, shader='mesh', width=2, color=0xff0000)\n",
    "plt_points = k3d.points(positions=points, point_size=20, color=0xff0000)\n",
    "\n",
    "for i in range(len(ang1)):\n",
    "  vek_rot = vek * Rx(m.radians(ang1[i])) * Rz(m.radians(ang2[i]))\n",
    "  points_rot = points * Rx(m.radians(ang1[i])) * Rz(m.radians(ang2[i]))\n",
    "  square_rot = square_rot * Rx(m.radians(ang1[i])) * Rz(m.radians(ang2[i]))\n",
    "\n",
    "  plt_line_rot = k3d.line(vek_rot, shader='mesh', width=2)\n",
    "  plt_square_rot = k3d.line(square_rot, shader='mesh', width=2)\n",
    "  plt_points_rot = k3d.points(positions=points_rot, point_size=20)\n",
    "\n",
    "  plot += plt_line_rot\n",
    "  plot += plt_points_rot\n",
    "  plot += plt_square_rot\n",
    "\n",
    "plot += plt_line\n",
    "plot += plt_points\n",
    "plot += plt_square\n",
    "\n",
    "\n",
    "plt_points.shader = '3d'\n",
    "plot.display()\n"
   ]
  },
  {
   "cell_type": "code",
   "execution_count": 9,
   "metadata": {},
   "outputs": [
    {
     "data": {
      "application/vnd.jupyter.widget-view+json": {
       "model_id": "28d377b612264a97aa119c35e4e955d6",
       "version_major": 2,
       "version_minor": 0
      },
      "text/plain": [
       "Output()"
      ]
     },
     "metadata": {},
     "output_type": "display_data"
    }
   ],
   "source": [
    "plot = k3d.plot(name='Angle showcase')\n",
    "vek = [[0, 0, 0], [0, 0, distanceSD]]\n",
    "points = [[0, 0, 0], [0, 0, distanceSP], [0, 0, distanceSD]]\n",
    "square = [[-100, 100, distanceSD],\n",
    "          [-100, -100, distanceSD], [100, -100, distanceSD], [100, 100, distanceSD], [-100, 100, distanceSD]]\n",
    "\n",
    "\n",
    "plt_line = k3d.line(vek, shader='mesh', width=2, color=0xff0000)\n",
    "plt_square = k3d.line(square, shader='mesh', width=2, color=0xff0000)\n",
    "plt_points = k3d.points(positions=points, point_size=20, color=0xff0000)\n",
    "\n",
    "for i in range(len(ang1)):\n",
    "  vek_rot = vek * Ry(m.radians(ang1[i])) * Rx(m.radians(ang2[i]))\n",
    "  points_rot = points * Rx(m.radians(ang1[i])) * Ry(m.radians(ang2[i]))\n",
    "  square_rot = square_rot * Rx(m.radians(ang1[i])) * Ry(m.radians(ang2[i]))\n",
    "\n",
    "  plt_line_rot = k3d.line(vek_rot, shader='mesh', width=2)\n",
    "  plt_square_rot = k3d.line(square_rot, shader='mesh', width=2)\n",
    "  plt_points_rot = k3d.points(positions=points_rot, point_size=20)\n",
    "\n",
    "  plot += plt_line_rot\n",
    "  plot += plt_points_rot\n",
    "  plot += plt_square_rot\n",
    "\n",
    "plot += plt_line\n",
    "plot += plt_points\n",
    "plot += plt_square\n",
    "\n",
    "\n",
    "plt_points.shader = '3d'\n",
    "plot.display()\n"
   ]
  },
  {
   "cell_type": "code",
   "execution_count": 10,
   "metadata": {},
   "outputs": [],
   "source": [
    "\n",
    "\n",
    "## Generate nicely looking random 3D-field\n",
    "#np.random.seed(0)\n",
    "#l = 30\n",
    "#X, Y, Z = np.mgrid[:l, :l, :l]\n",
    "#vol = np.zeros((l, l, l))\n",
    "#pts = (l * np.random.rand(3, 15)).astype(np.int)\n",
    "#vol[tuple(indices for indices in pts)] = 1\n",
    "#vol = ndimage.gaussian_filter(vol, 4)\n",
    "#vol /= vol.max()\n",
    "\n",
    "#fig = go.Figure(data=go.Volume(\n",
    "#    x=X.flatten(), y=Y.flatten(), z=Z.flatten(),\n",
    "#    value=vol.flatten(),\n",
    "#   isomin=0.2,\n",
    "#    isomax=0.7,\n",
    "#    opacity=0.1,\n",
    "#    surface_count=25,\n",
    "#))\n",
    "#fig.update_layout(scene_xaxis_showticklabels=False,\n",
    "#                  scene_yaxis_showticklabels=False,\n",
    "#                  scene_zaxis_showticklabels=False)\n",
    "#fig.show()\n"
   ]
  }
 ],
 "metadata": {
  "interpreter": {
   "hash": "0168595519c989d7f67b82b29d7f10b1cf9acc10b5dfc45f1935b31ca602370e"
  },
  "kernelspec": {
   "display_name": "Python 3.8.10 64-bit (windows store)",
   "language": "python",
   "name": "python3"
  },
  "language_info": {
   "codemirror_mode": {
    "name": "ipython",
    "version": 3
   },
   "file_extension": ".py",
   "mimetype": "text/x-python",
   "name": "python",
   "nbconvert_exporter": "python",
   "pygments_lexer": "ipython3",
   "version": "3.8.10"
  },
  "orig_nbformat": 4
 },
 "nbformat": 4,
 "nbformat_minor": 2
}
