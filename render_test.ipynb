{
 "cells": [
  {
   "cell_type": "code",
   "execution_count": 1,
   "metadata": {},
   "outputs": [],
   "source": [
    "import plotly\n",
    "import numpy as np\n",
    "from scipy import ndimage\n",
    "import plotly.graph_objects as go\n",
    "import plotly.express as px\n",
    "import pandas as pd\n",
    "import matplotlib.pyplot as plt\n",
    "import k3d"
   ]
  },
  {
   "cell_type": "code",
   "execution_count": 2,
   "metadata": {},
   "outputs": [],
   "source": [
    "from scipy.spatial.transform import Rotation as R\n",
    "from numpy.linalg import norm\n"
   ]
  },
  {
   "cell_type": "code",
   "execution_count": 3,
   "metadata": {},
   "outputs": [],
   "source": [
    "primaryAngle = 30.7\n",
    "secondaryAngle = 0.7\n",
    "distanceSD = 1167 #distance from sorce to detector in mm\n",
    "distanceSP = 705"
   ]
  },
  {
   "cell_type": "code",
   "execution_count": 4,
   "metadata": {},
   "outputs": [],
   "source": [
    "import math as m\n",
    "\n",
    "\n",
    "def Rx(theta):\n",
    "  return np.matrix([[1, 0, 0],\n",
    "                    [0, m.cos(theta), -m.sin(theta)],\n",
    "                    [0, m.sin(theta), m.cos(theta)]])\n",
    "\n",
    "\n",
    "def Ry(theta):\n",
    "  return np.matrix([[m.cos(theta), 0, m.sin(theta)],\n",
    "                    [0, 1, 0],\n",
    "                    [-m.sin(theta), 0, m.cos(theta)]])\n",
    "\n",
    "\n",
    "def Rz(theta):\n",
    "  return np.matrix([[m.cos(theta), -m.sin(theta), 0],\n",
    "                    [m.sin(theta), m.cos(theta), 0],\n",
    "                    [0, 0, 1]])\n"
   ]
  },
  {
   "cell_type": "code",
   "execution_count": 5,
   "metadata": {},
   "outputs": [
    {
     "name": "stderr",
     "output_type": "stream",
     "text": [
      "C:\\Users\\EmilR\\AppData\\Local\\Programs\\Python\\Python39\\lib\\site-packages\\traittypes\\traittypes.py:97: UserWarning: Given trait value dtype \"float64\" does not match required type \"float32\". A coerced copy has been created.\n",
      "  warnings.warn(\n"
     ]
    },
    {
     "data": {
      "application/vnd.jupyter.widget-view+json": {
       "model_id": "8a1025b8c35d45e5812d0400277ae77b",
       "version_major": 2,
       "version_minor": 0
      },
      "text/plain": [
       "Output()"
      ]
     },
     "metadata": {},
     "output_type": "display_data"
    }
   ],
   "source": [
    "vek = [[0,0,0],[0,0,distanceSD]]\n",
    "points = [[0,0,0],[0,0,distanceSP],[0,0,distanceSD]]\n",
    "square = [[-100, 100, distanceSD],\n",
    "          [-100, -100, distanceSD], [100, -100, distanceSD], [100, 100, distanceSD], [-100, 100, distanceSD]]\n",
    "plot = k3d.plot(name='test')\n",
    "\n",
    "vek_rot = vek * Rx(2) \n",
    "vek_rot2 = vek_rot * Ry(1)\n",
    "points_rot = points * Rx(2)\n",
    "points_rot2 = points_rot * Ry(1)\n",
    "square_rot = square * Rx(2)\n",
    "square_rot2 = square_rot * Ry(1)\n",
    "\n",
    "\n",
    "plt_line = k3d.line(vek, shader='mesh', width=2)\n",
    "plt_square = k3d.line(square, shader='mesh', width=2)\n",
    "plt_points = k3d.points(positions=points, point_size=20)\n",
    "\n",
    "plt_line_rot = k3d.line(vek_rot, shader='mesh', width=2)\n",
    "plt_square_rot = k3d.line(square_rot, shader='mesh', width=2)\n",
    "plt_points_rot = k3d.points(positions=points_rot, point_size=20)\n",
    "\n",
    "plt_line_rot2 = k3d.line(vek_rot2, shader='mesh', width=2)\n",
    "plt_square_rot2 = k3d.line(square_rot2, shader='mesh', width=2)\n",
    "plt_points_rot2 = k3d.points(positions=points_rot2, point_size=20)\n",
    "\n",
    "plot += plt_line\n",
    "plot += plt_points\n",
    "plot += plt_square\n",
    "\n",
    "plot += plt_line_rot\n",
    "plot += plt_points_rot\n",
    "plot += plt_square_rot\n",
    "\n",
    "plot += plt_line_rot2\n",
    "plot += plt_points_rot2\n",
    "plot += plt_square_rot2\n",
    "\n",
    "\n",
    "plt_points.shader = '3d'\n",
    "plot.display()\n"
   ]
  },
  {
   "cell_type": "code",
   "execution_count": 6,
   "metadata": {},
   "outputs": [
    {
     "data": {
      "text/plain": [
       "matrix([[   0.        ,    0.        ,    0.        ],\n",
       "        [ -12.25912018,  595.8035852 , 1003.37271332]])"
      ]
     },
     "execution_count": 6,
     "metadata": {},
     "output_type": "execute_result"
    }
   ],
   "source": [
    "ang1 = [30.7,11,-31,-21.5,-24.5,0.1,49.5]\n",
    "ang2 = [0.7,20,-0.1,-24.8,27.3,36.7,1.3]\n",
    "\n",
    "vek * Rx(m.radians(ang1[0])) * Ry(m.radians(ang2[0]))\n"
   ]
  },
  {
   "cell_type": "code",
   "execution_count": 7,
   "metadata": {},
   "outputs": [
    {
     "data": {
      "application/vnd.jupyter.widget-view+json": {
       "model_id": "1860264c712248b587814060e0e87189",
       "version_major": 2,
       "version_minor": 0
      },
      "text/plain": [
       "Output()"
      ]
     },
     "metadata": {},
     "output_type": "display_data"
    }
   ],
   "source": [
    "plot = k3d.plot(name='Angle showcase')\n",
    "vek = [[0,0,0],[0,0,distanceSD]]\n",
    "points = [[0,0,0],[0,0,distanceSP],[0,0,distanceSD]]\n",
    "square = [[-100, 100, distanceSD],\n",
    "          [-100, -100, distanceSD], [100, -100, distanceSD], [100, 100, distanceSD], [-100, 100, distanceSD]]\n",
    "\n",
    "\n",
    "plt_line = k3d.line(vek, shader='mesh', width=2 , color=0xff0000)\n",
    "plt_square = k3d.line(square, shader='mesh', width=2, color=0xff0000)\n",
    "plt_points = k3d.points(positions=points, point_size=20, color=0xff0000)\n",
    "\n",
    "for i in range(len(ang1)):\n",
    "  vek_rot = vek * Rx(m.radians(ang1[i])) * Ry(m.radians(ang2[i]))\n",
    "  points_rot = (points * Rx(m.radians(ang1[i]))) * Ry(m.radians(ang2[i]))\n",
    "  square_rot = (square_rot * Rx(m.radians(ang1[i]))) * Ry(m.radians(ang2[i]))\n",
    "\n",
    "  plt_line_rot = k3d.line(vek_rot, shader='mesh', width=2)\n",
    "  plt_square_rot = k3d.line(square_rot, shader='mesh', width=2)\n",
    "  plt_points_rot = k3d.points(positions=points_rot, point_size=20)\n",
    "\n",
    "  plot += plt_line_rot\n",
    "  plot += plt_points_rot\n",
    "  plot += plt_square_rot\n",
    "\n",
    "plot += plt_line\n",
    "plot += plt_points\n",
    "plot += plt_square\n",
    "\n",
    "\n",
    "\n",
    "plt_points.shader = '3d'\n",
    "plot.display()\n"
   ]
  },
  {
   "cell_type": "code",
   "execution_count": 8,
   "metadata": {},
   "outputs": [
    {
     "data": {
      "application/vnd.jupyter.widget-view+json": {
       "model_id": "12540e1398694238868aa395c81cdf00",
       "version_major": 2,
       "version_minor": 0
      },
      "text/plain": [
       "Output()"
      ]
     },
     "metadata": {},
     "output_type": "display_data"
    }
   ],
   "source": [
    "plot = k3d.plot(name='Angle showcase')\n",
    "vek = [[0, 0, 0], [0, 0, distanceSD]]\n",
    "points = [[0, 0, 0], [0, 0, distanceSP], [0, 0, distanceSD]]\n",
    "square = [[-100, 100, distanceSD],\n",
    "          [-100, -100, distanceSD], [100, -100, distanceSD], [100, 100, distanceSD], [-100, 100, distanceSD]]\n",
    "\n",
    "\n",
    "plt_line = k3d.line(vek, shader='mesh', width=2, color=0xff0000)\n",
    "plt_square = k3d.line(square, shader='mesh', width=2, color=0xff0000)\n",
    "plt_points = k3d.points(positions=points, point_size=20, color=0xff0000)\n",
    "\n",
    "for i in range(len(ang1)):\n",
    "  vek_rot = vek * Rx(m.radians(ang1[i])) * Rz(m.radians(ang2[i]))\n",
    "  points_rot = points * Rx(m.radians(ang1[i])) * Rz(m.radians(ang2[i]))\n",
    "  square_rot = square_rot * Rx(m.radians(ang1[i])) * Rz(m.radians(ang2[i]))\n",
    "\n",
    "  plt_line_rot = k3d.line(vek_rot, shader='mesh', width=2)\n",
    "  plt_square_rot = k3d.line(square_rot, shader='mesh', width=2)\n",
    "  plt_points_rot = k3d.points(positions=points_rot, point_size=20)\n",
    "\n",
    "  plot += plt_line_rot\n",
    "  plot += plt_points_rot\n",
    "  plot += plt_square_rot\n",
    "\n",
    "plot += plt_line\n",
    "plot += plt_points\n",
    "plot += plt_square\n",
    "\n",
    "\n",
    "plt_points.shader = '3d'\n",
    "plot.display()\n"
   ]
  },
  {
   "cell_type": "code",
   "execution_count": 9,
   "metadata": {},
   "outputs": [
    {
     "data": {
      "application/vnd.jupyter.widget-view+json": {
       "model_id": "fed182bf2cc144918ec2d49e10322e5f",
       "version_major": 2,
       "version_minor": 0
      },
      "text/plain": [
       "Output()"
      ]
     },
     "metadata": {},
     "output_type": "display_data"
    }
   ],
   "source": [
    "plot = k3d.plot(name='Angle showcase')\n",
    "vek = [[0, 0, 0], [0, 0, distanceSD]]\n",
    "points = [[0, 0, 0], [0, 0, distanceSP], [0, 0, distanceSD]]\n",
    "square = [[-100, 100, distanceSD],\n",
    "          [-100, -100, distanceSD], [100, -100, distanceSD], [100, 100, distanceSD], [-100, 100, distanceSD]]\n",
    "\n",
    "\n",
    "plt_line = k3d.line(vek, shader='mesh', width=2, color=0xff0000)\n",
    "plt_square = k3d.line(square, shader='mesh', width=2, color=0xff0000)\n",
    "plt_points = k3d.points(positions=points, point_size=20, color=0xff0000)\n",
    "\n",
    "for i in range(len(ang1)):\n",
    "  vek_rot = vek * Ry(m.radians(ang1[i])) * Rx(m.radians(ang2[i]))\n",
    "  points_rot = points * Rx(m.radians(ang1[i])) * Ry(m.radians(ang2[i]))\n",
    "  square_rot = square_rot * Rx(m.radians(ang1[i])) * Ry(m.radians(ang2[i]))\n",
    "\n",
    "  plt_line_rot = k3d.line(vek_rot, shader='mesh', width=2)\n",
    "  plt_square_rot = k3d.line(square_rot, shader='mesh', width=2)\n",
    "  plt_points_rot = k3d.points(positions=points_rot, point_size=20)\n",
    "\n",
    "  plot += plt_line_rot\n",
    "  plot += plt_points_rot\n",
    "  plot += plt_square_rot\n",
    "\n",
    "plot += plt_line\n",
    "plot += plt_points\n",
    "plot += plt_square\n",
    "\n",
    "\n",
    "plt_points.shader = '3d'\n",
    "plot.display()\n"
   ]
  },
  {
   "cell_type": "code",
   "execution_count": 10,
   "metadata": {},
   "outputs": [],
   "source": [
    "\n",
    "\n",
    "## Generate nicely looking random 3D-field\n",
    "#np.random.seed(0)\n",
    "#l = 30\n",
    "#X, Y, Z = np.mgrid[:l, :l, :l]\n",
    "#vol = np.zeros((l, l, l))\n",
    "#pts = (l * np.random.rand(3, 15)).astype(np.int)\n",
    "#vol[tuple(indices for indices in pts)] = 1\n",
    "#vol = ndimage.gaussian_filter(vol, 4)\n",
    "#vol /= vol.max()\n",
    "\n",
    "#fig = go.Figure(data=go.Volume(\n",
    "#    x=X.flatten(), y=Y.flatten(), z=Z.flatten(),\n",
    "#    value=vol.flatten(),\n",
    "#   isomin=0.2,\n",
    "#    isomax=0.7,\n",
    "#    opacity=0.1,\n",
    "#    surface_count=25,\n",
    "#))\n",
    "#fig.update_layout(scene_xaxis_showticklabels=False,\n",
    "#                  scene_yaxis_showticklabels=False,\n",
    "#                  scene_zaxis_showticklabels=False)\n",
    "#fig.show()\n"
   ]
  }
 ],
 "metadata": {
  "interpreter": {
   "hash": "88946f9aecc9e5e8f630804ce050d3df662dbcba71d8bd1ac2e861f0278b7de2"
  },
  "kernelspec": {
   "display_name": "Python 3.8.10 64-bit (windows store)",
   "language": "python",
   "name": "python3"
  },
  "language_info": {
   "codemirror_mode": {
    "name": "ipython",
    "version": 3
   },
   "file_extension": ".py",
   "mimetype": "text/x-python",
   "name": "python",
   "nbconvert_exporter": "python",
   "pygments_lexer": "ipython3",
   "version": "3.9.0"
  },
  "orig_nbformat": 4
 },
 "nbformat": 4,
 "nbformat_minor": 2
}
