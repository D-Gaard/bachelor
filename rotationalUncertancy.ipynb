{
 "cells": [
  {
   "cell_type": "code",
   "execution_count": 11,
   "metadata": {},
   "outputs": [],
   "source": [
    "import lineRenderWorldSetup as LR\n",
    "import cv2\n",
    "import numpy as np\n",
    "from mayavi import mlab\n",
    "import matplotlib.pyplot as plt"
   ]
  },
  {
   "cell_type": "code",
   "execution_count": 12,
   "metadata": {},
   "outputs": [],
   "source": [
    "#select image and rotational offset\n",
    "path = r\"3dTo2d\\orthogonal_view_first.png\"\n",
    "img = cv2.imread(path, 0)\n",
    "dim, _ = img.shape[:2]\n",
    "box_dim = LR.BOX_DIM\n",
    "offset = 5\n",
    "prim_rot = 0\n",
    "secd_rot = 0\n"
   ]
  },
  {
   "cell_type": "code",
   "execution_count": 13,
   "metadata": {},
   "outputs": [],
   "source": [
    "#create back-projection for image\n",
    "def createBox(img):\n",
    "  line_coords = LR.createCoordsForLoadedImageFrom3d(img, True, dim)\n",
    "  world_coords = LR.performBresenham3D(line_coords, LR.DETECTOR_TO_PATIENT, LR.SRC_TO_PATIENT, box_dim)\n",
    "  box = LR.savePointsWithinSquare(world_coords, box_dim)\n",
    "  box_rot = LR.rotatePrimSecond(box, prim_rot, secd_rot)\n",
    "  box_rot = np.where(box_rot > 0.5, 1, 0)\n",
    "  return box , box_rot\n",
    "\n",
    "box , box_rot = createBox(img)\n"
   ]
  },
  {
   "cell_type": "code",
   "execution_count": 14,
   "metadata": {},
   "outputs": [
    {
     "name": "stdout",
     "output_type": "stream",
     "text": [
      "rotated 5 0\n",
      "rotated -5 0\n",
      "rotated 0 5\n",
      "rotated 0 -5\n"
     ]
    }
   ],
   "source": [
    "#create slightly rotated boxes\n",
    "rotations = [(offset, 0), (-offset, 0),\n",
    "             (0, offset), (0, -offset), \n",
    "             (offset, offset), (-offset, offset),\n",
    "             (offset, -offset), (-offset, -offset)]\n",
    "\n",
    "boxes_rot = [box_rot]\n",
    "for i in rotations:\n",
    "  temp_rot = LR.rotatePrimSecond(box_rot, i[0], i[1])\n",
    "  temp_rot = np.where(temp_rot>0.5,1,0)\n",
    "  boxes_rot.append(temp_rot)\n",
    "  print(\"rotated\", i[0],i[1])\n"
   ]
  },
  {
   "cell_type": "code",
   "execution_count": 16,
   "metadata": {},
   "outputs": [
    {
     "name": "stdout",
     "output_type": "stream",
     "text": [
      "[1.         0.77077268 0.77131635 0.77675186 0.77692726]\n"
     ]
    }
   ],
   "source": [
    "#find uncertancy\n",
    "uncertainty = []\n",
    "\n",
    "#loop all translated boxes and calculate overlap\n",
    "box_img = boxes_rot[0]\n",
    "for b in boxes_rot:\n",
    "  box_sum = box_img + b\n",
    "  box_sum = np.where(box_sum == 2, 1, 0)  # save overlap\n",
    "  uncertainty.append(np.sum(box_sum))\n",
    "\n",
    "print(uncertainty/np.sum(box_img))\n"
   ]
  },
  {
   "cell_type": "code",
   "execution_count": null,
   "metadata": {},
   "outputs": [],
   "source": [
    "#render box(es)\n",
    "x, y, z = LR.boxToWorldCorrds(boxes_rot[0], box_dim)\n"
   ]
  },
  {
   "cell_type": "code",
   "execution_count": null,
   "metadata": {},
   "outputs": [],
   "source": [
    "mlab.points3d(x, y, z,\n",
    "              mode=\"cube\", color=(1, 0, 0.5), scale_factor=1, opacity=1)\n",
    "mlab.show()\n"
   ]
  }
 ],
 "metadata": {
  "interpreter": {
   "hash": "0168595519c989d7f67b82b29d7f10b1cf9acc10b5dfc45f1935b31ca602370e"
  },
  "kernelspec": {
   "display_name": "Python 3.8.10 64-bit (windows store)",
   "language": "python",
   "name": "python3"
  },
  "language_info": {
   "codemirror_mode": {
    "name": "ipython",
    "version": 3
   },
   "file_extension": ".py",
   "mimetype": "text/x-python",
   "name": "python",
   "nbconvert_exporter": "python",
   "pygments_lexer": "ipython3",
   "version": "3.8.10"
  },
  "orig_nbformat": 4
 },
 "nbformat": 4,
 "nbformat_minor": 2
}
