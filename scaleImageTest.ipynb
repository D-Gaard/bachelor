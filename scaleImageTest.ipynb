{
 "cells": [
  {
   "cell_type": "code",
   "execution_count": 69,
   "metadata": {},
   "outputs": [],
   "source": [
    "import matplotlib.pyplot as plt\n",
    "import numpy as np\n",
    "from scipy.ndimage import zoom\n",
    "import cv2"
   ]
  },
  {
   "cell_type": "code",
   "execution_count": 70,
   "metadata": {},
   "outputs": [],
   "source": [
    "p4 = r\"data\\segment\\I0_021.tiff\"  # r\"data\\segment\\I4_021.tiff\"\n",
    "\n",
    "# r\"3dTo2d\\sizeCompare\\-21.5_-24.8_comp.png\"\n",
    "d4 = r\"3dTo2d\\sizeCompare\\30_7_0_7_comp.png\"\n"
   ]
  },
  {
   "cell_type": "code",
   "execution_count": 71,
   "metadata": {},
   "outputs": [],
   "source": [
    "ip4 = cv2.imread(p4,0)\n",
    "id4 = cv2.imread(d4, 0)\n",
    "\n",
    "id4z = zoom(id4,1.4)\n",
    "id4z = id4z[1:,1:]"
   ]
  },
  {
   "cell_type": "code",
   "execution_count": 72,
   "metadata": {},
   "outputs": [
    {
     "data": {
      "text/plain": [
       "(1028, 1028)"
      ]
     },
     "execution_count": 72,
     "metadata": {},
     "output_type": "execute_result"
    }
   ],
   "source": [
    "id4z.shape"
   ]
  },
  {
   "cell_type": "code",
   "execution_count": 73,
   "metadata": {},
   "outputs": [],
   "source": [
    "d = 735\n",
    "dh=int((735-1) / 2)\n",
    "\n",
    "d2 = id4z.shape[0] \n",
    "d2h = int((d2-1) / 2)\n",
    "\n",
    "df = d2h - dh \n",
    "\n",
    "id4z_crop = np.zeros([d,d])\n",
    "id4z_crop = id4z[d2-d:d2+d, d2-d:d2+d]\n"
   ]
  },
  {
   "cell_type": "code",
   "execution_count": 74,
   "metadata": {},
   "outputs": [
    {
     "name": "stdout",
     "output_type": "stream",
     "text": [
      "367 513\n"
     ]
    }
   ],
   "source": [
    "print(dh, d2h)"
   ]
  },
  {
   "cell_type": "code",
   "execution_count": 75,
   "metadata": {},
   "outputs": [
    {
     "data": {
      "text/plain": [
       "(735, 735)"
      ]
     },
     "execution_count": 75,
     "metadata": {},
     "output_type": "execute_result"
    }
   ],
   "source": [
    "id4z_crop.shape"
   ]
  },
  {
   "cell_type": "code",
   "execution_count": 76,
   "metadata": {},
   "outputs": [],
   "source": [
    "def center_crop(img, dim):\n",
    "\t\"\"\"Returns center cropped image\n",
    "\tArgs:\n",
    "\timg: image to be center cropped\n",
    "\tdim: dimensions (width, height) to be cropped\n",
    "\t\"\"\"\n",
    "\twidth, height = img.shape[1], img.shape[0]\n",
    "\n",
    "\t# process crop width and height for max available dimension\n",
    "\tcrop_width = dim[0] if dim[0] < img.shape[1] else img.shape[1]\n",
    "\tcrop_height = dim[1] if dim[1] < img.shape[0] else img.shape[0]\n",
    "\tmid_x, mid_y = int(width/2), int(height/2)\n",
    "\tcw2, ch2 = int(crop_width/2), int(crop_height/2)\n",
    "\tcrop_img = img[mid_y-ch2:mid_y+ch2, mid_x-cw2:mid_x+cw2]\n",
    "\treturn crop_img\n"
   ]
  },
  {
   "cell_type": "code",
   "execution_count": 77,
   "metadata": {},
   "outputs": [
    {
     "data": {
      "text/plain": [
       "-1"
      ]
     },
     "execution_count": 77,
     "metadata": {},
     "output_type": "execute_result"
    }
   ],
   "source": [
    "cv2.imshow(\"normal\",ip4)\n",
    "cv2.imshow(\"our\", id4)\n",
    "cv2.imshow(\"zoom\", center_crop(id4z,(735,735)))\n",
    "cv2.waitKey(0)\n"
   ]
  }
 ],
 "metadata": {
  "interpreter": {
   "hash": "0168595519c989d7f67b82b29d7f10b1cf9acc10b5dfc45f1935b31ca602370e"
  },
  "kernelspec": {
   "display_name": "Python 3.8.10 64-bit (windows store)",
   "language": "python",
   "name": "python3"
  },
  "language_info": {
   "codemirror_mode": {
    "name": "ipython",
    "version": 3
   },
   "file_extension": ".py",
   "mimetype": "text/x-python",
   "name": "python",
   "nbconvert_exporter": "python",
   "pygments_lexer": "ipython3",
   "version": "3.8.10"
  },
  "orig_nbformat": 4
 },
 "nbformat": 4,
 "nbformat_minor": 2
}
