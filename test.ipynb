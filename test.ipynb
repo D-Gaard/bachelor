{
 "cells": [
  {
   "cell_type": "code",
   "execution_count": null,
   "metadata": {},
   "outputs": [],
   "source": [
    "from __future__ import division\n",
    " \n",
    "import numpy as np\n",
    "from os import mkdir\n",
    "from os.path import join, isdir\n",
    "from imageio import get_writer\n",
    " \n",
    "import astra\n",
    " \n",
    "# Configuration.\n",
    "distance_source_origin = 300  # [mm]\n",
    "distance_origin_detector = 100  # [mm]\n",
    "detector_pixel_size = 1.05  # [mm]\n",
    "detector_rows = 200  # Vertical size of detector [pixels].\n",
    "detector_cols = 200  # Horizontal size of detector [pixels].\n",
    "num_of_projections = 180\n",
    "angles = np.linspace(0, 2 * np.pi, num=num_of_projections, endpoint=False)\n",
    "output_dir = 'dataset'\n",
    " \n",
    "# Create phantom.\n",
    "vol_geom = astra.creators.create_vol_geom(detector_cols, detector_cols,\n",
    "                                          detector_rows)\n",
    "phantom = np.zeros((detector_rows, detector_cols, detector_cols))\n",
    "hb = 110  # Height of beam [pixels].\n",
    "wb = 40   # Width of beam [pixels].\n",
    "hc = 100  # Height of cavity in beam [pixels].\n",
    "wc = 30   # Width of cavity in beam [pixels].\n",
    "phantom[detector_rows // 2 - hb // 2 : detector_rows // 2 + hb // 2,\n",
    "        detector_cols // 2 - wb // 2 : detector_cols // 2 + wb // 2,\n",
    "        detector_cols // 2 - wb // 2 : detector_cols // 2 + wb // 2] = 1\n",
    "phantom[detector_rows // 2 - hc // 2 : detector_rows // 2 + hc // 2,\n",
    "        detector_cols // 2 - wc // 2 : detector_cols // 2 + wc // 2,\n",
    "        detector_cols // 2 - wc // 2 : detector_cols // 2 + wc // 2] = 0\n",
    "phantom[detector_rows // 2 - 5 :       detector_rows // 2 + 5,\n",
    "        detector_cols // 2 + wc // 2 : detector_cols // 2 + wb // 2,\n",
    "        detector_cols // 2 - 5 :       detector_cols // 2 + 5] = 0\n",
    "phantom_id = astra.data3d.create('-vol', vol_geom, data=phantom)\n",
    " \n",
    "# Create projections. With increasing angles, the projection are such that the\n",
    "# object is rotated clockwise. Slice zero is at the top of the object. The\n",
    "# projection from angle zero looks upwards from the bottom of the slice.\n",
    "proj_geom = \\\n",
    "  astra.create_proj_geom('cone', 1, 1, detector_rows, detector_cols, angles,\n",
    "                         (distance_source_origin + distance_origin_detector) /\n",
    "                         detector_pixel_size, 0)\n",
    "projections_id, projections = \\\n",
    "  astra.creators.create_sino3d_gpu(phantom_id, proj_geom, vol_geom)\n",
    "projections /= np.max(projections)\n",
    " \n",
    "# Apply Poisson noise.\n",
    "projections = np.random.poisson(projections * 10000) / 10000\n",
    "projections[projections > 1.1] = 1.1\n",
    "projections /= 1.1\n",
    " \n",
    "# Save projections.\n",
    "if not isdir(output_dir):\n",
    "    mkdir(output_dir)\n",
    "projections = np.round(projections * 65535).astype(np.uint16)\n",
    "for i in range(num_of_projections):\n",
    "    projection = projections[:, i, :]\n",
    "    with get_writer(join(output_dir, 'proj%04d.tif' %i)) as writer:\n",
    "        writer.append_data(projection, {'compress': 9})\n",
    " \n",
    "# Cleanup.\n",
    "astra.data3d.delete(projections_id)\n",
    "astra.data3d.delete(phantom_id)"
   ]
  },
  {
   "cell_type": "code",
   "execution_count": 4,
   "metadata": {},
   "outputs": [
    {
     "ename": "ModuleNotFoundError",
     "evalue": "No module named 'astra'",
     "output_type": "error",
     "traceback": [
      "\u001b[1;31m---------------------------------------------------------------------------\u001b[0m",
      "\u001b[1;31mModuleNotFoundError\u001b[0m                       Traceback (most recent call last)",
      "\u001b[1;32m<ipython-input-4-45775fcd15e3>\u001b[0m in \u001b[0;36m<module>\u001b[1;34m\u001b[0m\n\u001b[1;32m----> 1\u001b[1;33m \u001b[1;32mimport\u001b[0m \u001b[0mastra\u001b[0m\u001b[1;33m\u001b[0m\u001b[1;33m\u001b[0m\u001b[0m\n\u001b[0m",
      "\u001b[1;31mModuleNotFoundError\u001b[0m: No module named 'astra'"
     ]
    }
   ],
   "source": [
    "import astra"
   ]
  }
 ],
 "metadata": {
  "interpreter": {
   "hash": "2909089d24f63c848e17735be4a298cfec838d7d011297909472ab8868b5174e"
  },
  "kernelspec": {
   "display_name": "Python 3.9.0 64-bit",
   "language": "python",
   "name": "python3"
  },
  "language_info": {
   "codemirror_mode": {
    "name": "ipython",
    "version": 3
   },
   "file_extension": ".py",
   "mimetype": "text/x-python",
   "name": "python",
   "nbconvert_exporter": "python",
   "pygments_lexer": "ipython3",
   "version": "3.9.0"
  },
  "orig_nbformat": 4
 },
 "nbformat": 4,
 "nbformat_minor": 2
}
