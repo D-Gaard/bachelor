{
 "cells": [
  {
   "cell_type": "code",
   "execution_count": 2,
   "metadata": {},
   "outputs": [],
   "source": [
    "import numpy as np\n",
    "import nrrd\n",
    "import matplotlib.pyplot as plt\n",
    "from mayavi import mlab\n",
    "import lineRenderWorldSetup as LR\n"
   ]
  },
  {
   "cell_type": "code",
   "execution_count": 3,
   "metadata": {},
   "outputs": [
    {
     "name": "stdout",
     "output_type": "stream",
     "text": [
      "(267, 216, 269)\n",
      "OrderedDict([('type', 'short'), ('dimension', 3), ('space', 'left-posterior-superior'), ('sizes', array([267, 216, 269])), ('space directions', array([[-0.0485169,  0.       ,  0.       ],\n",
      "       [ 0.       , -0.0485169,  0.       ],\n",
      "       [ 0.       ,  0.       ,  0.0485169]])), ('kinds', ['domain', 'domain', 'domain']), ('endian', 'little'), ('encoding', 'gzip'), ('space origin', array([  2.97647413,  25.157904  , -22.8058742 ]))])\n"
     ]
    }
   ],
   "source": [
    "filename = r\"3dTo2d\\solid_400001.nrrd\"\n",
    "readdata, header = nrrd.read(filename)\n",
    "print(readdata.shape)\n",
    "print(header)\n",
    "d = readdata\n"
   ]
  },
  {
   "cell_type": "code",
   "execution_count": 23,
   "metadata": {},
   "outputs": [
    {
     "name": "stdout",
     "output_type": "stream",
     "text": [
      "133.0\n",
      "108.0\n",
      "134.0\n",
      "267\n"
     ]
    }
   ],
   "source": [
    "print((267-1) /2)\n",
    "print((216) / 2)\n",
    "print((269-1) / 2)\n",
    "\n",
    "print(d.shape[0])"
   ]
  },
  {
   "cell_type": "code",
   "execution_count": 18,
   "metadata": {},
   "outputs": [],
   "source": [
    "#center in bigger array\n",
    "new_size = 401\n",
    "half_size = int((new_size - 1) / 2)\n",
    "xc, yc, zc = half_size , half_size , half_size\n",
    "\n",
    "d_big = np.zeros([new_size,new_size,new_size])\n",
    "d_big[xc-133:yc+134, yc-108:yc+108, zc-134:zc+135] =  d\n"
   ]
  },
  {
   "cell_type": "code",
   "execution_count": 19,
   "metadata": {},
   "outputs": [],
   "source": [
    "#get coords\n",
    "box_dim = new_size\n",
    "d_big= np.where(d_big > 0, 1, 0)\n",
    "x, y, z = LR.boxToWorldCorrds(d_big, box_dim)\n"
   ]
  },
  {
   "cell_type": "code",
   "execution_count": 20,
   "metadata": {},
   "outputs": [],
   "source": [
    "#draw outline\n",
    "n = int((new_size-1) / 2)\n",
    "frame_x = np.array([-n, -n, -n, -n, n, n, n, n])\n",
    "frame_y = np.array([-n, -n, n, n, -n, -n, n, n])\n",
    "frame_z = np.array([-n, n, -n, n, -n, n, -n, n])\n"
   ]
  },
  {
   "cell_type": "code",
   "execution_count": 21,
   "metadata": {},
   "outputs": [],
   "source": [
    "mlab.points3d(x, y, z,\n",
    "              mode=\"cube\", color=(0, 1, 0), scale_factor=1, opacity=1.0)\n",
    "mlab.points3d(frame_x, frame_y, frame_z,\n",
    "              mode=\"cube\", color=(0, 1, 0), scale_factor=1, opacity=0)\n",
    "mlab.outline()\n",
    "mlab.show()\n"
   ]
  }
 ],
 "metadata": {
  "interpreter": {
   "hash": "0168595519c989d7f67b82b29d7f10b1cf9acc10b5dfc45f1935b31ca602370e"
  },
  "kernelspec": {
   "display_name": "Python 3.8.10 64-bit (windows store)",
   "language": "python",
   "name": "python3"
  },
  "language_info": {
   "codemirror_mode": {
    "name": "ipython",
    "version": 3
   },
   "file_extension": ".py",
   "mimetype": "text/x-python",
   "name": "python",
   "nbconvert_exporter": "python",
   "pygments_lexer": "ipython3",
   "version": "3.8.10"
  },
  "orig_nbformat": 4
 },
 "nbformat": 4,
 "nbformat_minor": 2
}
