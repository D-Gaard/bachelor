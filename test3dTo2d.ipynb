{
 "cells": [
  {
   "cell_type": "code",
   "execution_count": 59,
   "metadata": {},
   "outputs": [],
   "source": [
    "import _3dTo2dSetup as D3\n",
    "import numpy as np\n",
    "from lineRenderAlgo import Bresenham3D\n",
    "import math\n",
    "import cv2"
   ]
  },
  {
   "cell_type": "code",
   "execution_count": 60,
   "metadata": {},
   "outputs": [],
   "source": [
    "SRC_TO_DETECTOR = 1167\n",
    "SRC_TO_PATIENT = 705\n",
    "DETECTOR_TO_PATIENT = SRC_TO_DETECTOR - SRC_TO_PATIENT\n",
    "# used to determine box dimensions for projections\n",
    "#MAG_FACTOR = SRC_TO_DETECTOR/SRC_TO_PATIENT\n",
    "IMAGE_DIM = 735  # scale image dim down 1 to get centered image (since uneven)\n",
    "#BOX_DIM = math.ceil(IMAGE_DIM/MAG_FACTOR)  # ~ 445\n",
    "HALF_IMAGE_DIM = int((IMAGE_DIM - 1) / 2)\n"
   ]
  },
  {
   "cell_type": "code",
   "execution_count": 61,
   "metadata": {},
   "outputs": [],
   "source": [
    "#steps 2 day\n",
    "\n",
    "# 1 - create points 2 loop through and an image coresponding to said points\n",
    "# 2 - preform bresenham between image and \"forsviningspunkt\"\n",
    "# 3 - check if any points along said line are colored then color image repeat 2\n",
    "# 4 - save image in folder to be used later\n"
   ]
  },
  {
   "cell_type": "code",
   "execution_count": 62,
   "metadata": {},
   "outputs": [],
   "source": [
    "#create image with corrds\n",
    "img_coords = np.empty([IMAGE_DIM,IMAGE_DIM],dtype=object)\n",
    "\n",
    "for x in range(IMAGE_DIM):\n",
    "  for y in range(IMAGE_DIM):\n",
    "    img_coords[x,y] = (HALF_IMAGE_DIM-x, HALF_IMAGE_DIM-y)\n",
    "\n"
   ]
  },
  {
   "cell_type": "code",
   "execution_count": 63,
   "metadata": {},
   "outputs": [],
   "source": [
    "path = r\"3dTo2d\\solid_400001.nrrd\"\n",
    "box = D3.get3dFigure(445,path)\n",
    "box = D3.rotatePrimSecond(box,-87,27)\n",
    "box = np.where(box > 0.5, 1, 0)\n",
    "#sel_angles = [(-87,27),(-75,-22),(0,0),(87,-27),(87,27),(-43,13),(-43,-11),(43,-13),(43,13)]\n"
   ]
  },
  {
   "cell_type": "code",
   "execution_count": 64,
   "metadata": {},
   "outputs": [
    {
     "data": {
      "text/plain": [
       "(445, 445, 445)"
      ]
     },
     "execution_count": 64,
     "metadata": {},
     "output_type": "execute_result"
    }
   ],
   "source": [
    "box.shape\n",
    "#box2 = np.ones([445, 445,445])\n",
    "##box2.shape"
   ]
  },
  {
   "cell_type": "code",
   "execution_count": 65,
   "metadata": {},
   "outputs": [
    {
     "name": "stdout",
     "output_type": "stream",
     "text": [
      "done with; 95\r"
     ]
    }
   ],
   "source": [
    "#preform bresenham -> locate box -> check if points in box are colored\n",
    "d_to_p, s_to_p, box_dim = DETECTOR_TO_PATIENT,SRC_TO_PATIENT,445\n",
    "\n",
    "#box = np.ones([box_dim, box_dim,box_dim])\n",
    "img = np.zeros([IMAGE_DIM,IMAGE_DIM])\n",
    "\n",
    "box_dim_half = int((box_dim - 1) / 2)\n",
    "\n",
    "#loop all image coords\n",
    "for x in range(IMAGE_DIM):#-IMAGE_DIM+3):\n",
    "  for y in range(IMAGE_DIM):#-IMAGE_DIM+3):\n",
    "    #create line of points\n",
    "    points = Bresenham3D(-d_to_p, 0, 0, s_to_p,img_coords[x, y][0], img_coords[x, y][1])\n",
    "    #get points within box\n",
    "    points_in_box = D3.getPointsInBox(points,box_dim)\n",
    "    #check if any points in box are colord/a figure\n",
    "    #print(points)\n",
    "    #print(\"-.-----\")\n",
    "    #print(points_in_box)\n",
    "    #print(\"-.-----\")\n",
    "    for i in points_in_box:\n",
    "      #convert real coord to box coord\n",
    "      xb = i[0] + box_dim_half\n",
    "      yb = i[1] + box_dim_half\n",
    "      zb = i[2] + box_dim_half\n",
    "\n",
    "      #print(xb,yb,zb)\n",
    "      if (box[xb,yb,zb] == 1):\n",
    "        #if point found just go next\n",
    "        img[x,y] = int(1)\n",
    "        #print(\"placed\")\n",
    "        break\n",
    "  print(\"done with;\", x, end=\"\\r\")\n",
    "\n",
    "    \n"
   ]
  },
  {
   "cell_type": "code",
   "execution_count": null,
   "metadata": {},
   "outputs": [
    {
     "data": {
      "image/png": "[encoded data removed]",
      "text/plain": [
       "<Figure size 432x288 with 1 Axes>"
      ]
     },
     "metadata": {
      "needs_background": "light"
     },
     "output_type": "display_data"
    }
   ],
   "source": [
    "import matplotlib.pyplot as plt\n",
    "\n",
    "#plt.imshow(box[100],cmap=\"gray\")\n",
    "plt.imshow(img,cmap=\"gray\")\n",
    "plt.show()"
   ]
  },
  {
   "cell_type": "code",
   "execution_count": null,
   "metadata": {},
   "outputs": [
    {
     "data": {
      "text/plain": [
       "True"
      ]
     },
     "execution_count": 58,
     "metadata": {},
     "output_type": "execute_result"
    }
   ],
   "source": [
    "img = np.rot90(img, k = 3)\n",
    "cv2.imwrite(\"3dTo2d/orthogonal_view.png\",(np.where(img == 1,255,0)))"
   ]
  }
 ],
 "metadata": {
  "interpreter": {
   "hash": "f8665132f1068c6d656335a3a93d4e1e9cc43466a542cc440a9c028e42f97746"
  },
  "kernelspec": {
   "display_name": "Python 3.9.0 64-bit",
   "language": "python",
   "name": "python3"
  },
  "language_info": {
   "codemirror_mode": {
    "name": "ipython",
    "version": 3
   },
   "file_extension": ".py",
   "mimetype": "text/x-python",
   "name": "python",
   "nbconvert_exporter": "python",
   "pygments_lexer": "ipython3",
   "version": "3.9.0"
  },
  "orig_nbformat": 4
 },
 "nbformat": 4,
 "nbformat_minor": 2
}
