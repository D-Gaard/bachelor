{
 "cells": [
  {
   "cell_type": "code",
   "execution_count": 2,
   "metadata": {},
   "outputs": [],
   "source": [
    "import _3dTo2dSetup\n",
    "import numpy as np\n",
    "import lineRenderAlgo\n",
    "import math"
   ]
  },
  {
   "cell_type": "code",
   "execution_count": null,
   "metadata": {},
   "outputs": [],
   "source": [
    "SRC_TO_DETECTOR = 1167\n",
    "SRC_TO_PATIENT = 705\n",
    "DETECTOR_TO_PATIENT = SRC_TO_DETECTOR - SRC_TO_PATIENT\n",
    "# used to determine box dimensions for projections\n",
    "MAG_FACTOR = SRC_TO_DETECTOR/SRC_TO_PATIENT\n",
    "IMAGE_DIM = 736  # scale image dim down 1 to get centered image (since uneven)\n",
    "BOX_DIM = math.ceil(IMAGE_DIM/MAG_FACTOR)  # ~ 445\n"
   ]
  }
 ],
 "metadata": {
  "interpreter": {
   "hash": "0168595519c989d7f67b82b29d7f10b1cf9acc10b5dfc45f1935b31ca602370e"
  },
  "kernelspec": {
   "display_name": "Python 3.8.10 64-bit (windows store)",
   "language": "python",
   "name": "python3"
  },
  "language_info": {
   "codemirror_mode": {
    "name": "ipython",
    "version": 3
   },
   "file_extension": ".py",
   "mimetype": "text/x-python",
   "name": "python",
   "nbconvert_exporter": "python",
   "pygments_lexer": "ipython3",
   "version": "3.8.10"
  },
  "orig_nbformat": 4
 },
 "nbformat": 4,
 "nbformat_minor": 2
}
