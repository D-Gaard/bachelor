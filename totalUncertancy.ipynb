{
 "cells": [
  {
   "cell_type": "code",
   "execution_count": 3,
   "metadata": {},
   "outputs": [],
   "source": [
    "import lineRenderWorldSetup as LR\n",
    "import cv2\n",
    "import numpy as np\n",
    "from mayavi import mlab\n",
    "import matplotlib.pyplot as plt\n",
    "from glob import glob\n",
    "from natsort import natsorted\n",
    "import os\n",
    "import _3dTo2dSetup as D3\n"
   ]
  },
  {
   "cell_type": "code",
   "execution_count": 4,
   "metadata": {},
   "outputs": [
    {
     "name": "stdout",
     "output_type": "stream",
     "text": [
      "['3dTo2d\\\\totalUncertancy\\\\0_+00_+00_angle.png', '3dTo2d\\\\totalUncertancy\\\\1_-87_+27_angle.png', '3dTo2d\\\\totalUncertancy\\\\2_-75_-22_angle.png', '3dTo2d\\\\totalUncertancy\\\\3_+87_-27_angle.png', '3dTo2d\\\\totalUncertancy\\\\4_+87_+27_angle.png', '3dTo2d\\\\totalUncertancy\\\\5_-43_+13_angle.png', '3dTo2d\\\\totalUncertancy\\\\6_-43_-11_angle.png', '3dTo2d\\\\totalUncertancy\\\\7_+43_-13_angle.png', '3dTo2d\\\\totalUncertancy\\\\8_+43_+13_angle.png']\n"
     ]
    }
   ],
   "source": [
    "#path to image folder and load 3d model\n",
    "path = r\"3dTo2d\\totalUncertancy\"\n",
    "img_paths = natsorted(glob(os.path.join(path, \"*.png\")))\n",
    "dim = 735\n",
    "box_dim = LR.BOX_DIM\n",
    "flip = True\n",
    "#load 3D model\n",
    "path_real = r\"solid_400001-segmentation-solid_400001-label.nrrd\"\n",
    "real_box = D3.get3dFigure(box_dim, path_real)\n",
    "\n",
    "print(img_paths)\n"
   ]
  },
  {
   "cell_type": "code",
   "execution_count": 5,
   "metadata": {},
   "outputs": [],
   "source": [
    "#read all images and angles\n",
    "#format -> x_(+/-)**_(+/-)**_angle.png\n",
    "prim_rots = []\n",
    "secd_rots = []\n",
    "imgs = []\n",
    "\n",
    "for p in img_paths:\n",
    "  img = cv2.imread(p, 0)\n",
    "  f = os.path.basename(p)\n",
    "  prim_a = int(f[2:5])\n",
    "  secd_a = int(f[6:9])\n",
    "  prim_rots.append(prim_a)\n",
    "  secd_rots.append(secd_a)\n",
    "  imgs.append(img)\n",
    "  \n"
   ]
  },
  {
   "cell_type": "code",
   "execution_count": 6,
   "metadata": {},
   "outputs": [
    {
     "ename": "KeyboardInterrupt",
     "evalue": "",
     "output_type": "error",
     "traceback": [
      "\u001b[1;31m---------------------------------------------------------------------------\u001b[0m",
      "\u001b[1;31mKeyboardInterrupt\u001b[0m                         Traceback (most recent call last)",
      "\u001b[1;32m<ipython-input-6-fa5215e938cd>\u001b[0m in \u001b[0;36m<module>\u001b[1;34m\u001b[0m\n\u001b[0;32m      4\u001b[0m \u001b[1;32mfor\u001b[0m \u001b[0mi\u001b[0m \u001b[1;32min\u001b[0m \u001b[0mimgs\u001b[0m\u001b[1;33m:\u001b[0m\u001b[1;33m\u001b[0m\u001b[1;33m\u001b[0m\u001b[0m\n\u001b[0;32m      5\u001b[0m   \u001b[0mline_coords\u001b[0m \u001b[1;33m=\u001b[0m \u001b[0mLR\u001b[0m\u001b[1;33m.\u001b[0m\u001b[0mcreateCoordsForLoadedImageFrom3d\u001b[0m\u001b[1;33m(\u001b[0m\u001b[0mi\u001b[0m\u001b[1;33m,\u001b[0m \u001b[0mflip\u001b[0m\u001b[1;33m,\u001b[0m \u001b[0mdim\u001b[0m\u001b[1;33m)\u001b[0m\u001b[1;33m\u001b[0m\u001b[1;33m\u001b[0m\u001b[0m\n\u001b[1;32m----> 6\u001b[1;33m   world_coords = LR.performBresenham3D(\n\u001b[0m\u001b[0;32m      7\u001b[0m       line_coords, LR.DETECTOR_TO_PATIENT, LR.SRC_TO_PATIENT, box_dim)\n\u001b[0;32m      8\u001b[0m   \u001b[0mbox\u001b[0m \u001b[1;33m=\u001b[0m \u001b[0mLR\u001b[0m\u001b[1;33m.\u001b[0m\u001b[0msavePointsWithinSquare\u001b[0m\u001b[1;33m(\u001b[0m\u001b[0mworld_coords\u001b[0m\u001b[1;33m,\u001b[0m \u001b[0mbox_dim\u001b[0m\u001b[1;33m)\u001b[0m\u001b[1;33m\u001b[0m\u001b[1;33m\u001b[0m\u001b[0m\n",
      "\u001b[1;32mc:\\Users\\EmilR\\Documents\\GitHub\\bachelor\\lineRenderWorldSetup.py\u001b[0m in \u001b[0;36mperformBresenham3D\u001b[1;34m(lines, detector_to_patient, src_to_patient, box_dim)\u001b[0m\n\u001b[0;32m     75\u001b[0m     \u001b[0mxyz_max\u001b[0m \u001b[1;33m=\u001b[0m \u001b[1;33m(\u001b[0m\u001b[0mbox_dim\u001b[0m \u001b[1;33m-\u001b[0m \u001b[1;36m1\u001b[0m\u001b[1;33m)\u001b[0m \u001b[1;33m/\u001b[0m \u001b[1;36m2\u001b[0m\u001b[1;33m\u001b[0m\u001b[1;33m\u001b[0m\u001b[0m\n\u001b[0;32m     76\u001b[0m     \u001b[1;32mfor\u001b[0m \u001b[0mi\u001b[0m\u001b[1;33m,\u001b[0m \u001b[0mdata\u001b[0m \u001b[1;32min\u001b[0m \u001b[0menumerate\u001b[0m\u001b[1;33m(\u001b[0m\u001b[0mall_lineboxes\u001b[0m\u001b[1;33m)\u001b[0m\u001b[1;33m:\u001b[0m\u001b[1;33m\u001b[0m\u001b[1;33m\u001b[0m\u001b[0m\n\u001b[1;32m---> 77\u001b[1;33m       \u001b[0mx\u001b[0m \u001b[1;33m=\u001b[0m \u001b[0mdata\u001b[0m\u001b[1;33m[\u001b[0m\u001b[1;36m0\u001b[0m\u001b[1;33m]\u001b[0m\u001b[1;33m\u001b[0m\u001b[1;33m\u001b[0m\u001b[0m\n\u001b[0m\u001b[0;32m     78\u001b[0m       \u001b[0my\u001b[0m \u001b[1;33m=\u001b[0m \u001b[0mdata\u001b[0m\u001b[1;33m[\u001b[0m\u001b[1;36m1\u001b[0m\u001b[1;33m]\u001b[0m\u001b[1;33m\u001b[0m\u001b[1;33m\u001b[0m\u001b[0m\n\u001b[0;32m     79\u001b[0m       \u001b[0mz\u001b[0m \u001b[1;33m=\u001b[0m \u001b[0mdata\u001b[0m\u001b[1;33m[\u001b[0m\u001b[1;36m2\u001b[0m\u001b[1;33m]\u001b[0m\u001b[1;33m\u001b[0m\u001b[1;33m\u001b[0m\u001b[0m\n",
      "\u001b[1;31mKeyboardInterrupt\u001b[0m: "
     ]
    }
   ],
   "source": [
    "#create back-projection for each image\n",
    "boxes = []\n",
    "\n",
    "for i in imgs:\n",
    "  line_coords = LR.createCoordsForLoadedImageFrom3d(i, flip, dim)\n",
    "  world_coords = LR.performBresenham3D(\n",
    "      line_coords, LR.DETECTOR_TO_PATIENT, LR.SRC_TO_PATIENT, box_dim)\n",
    "  box = LR.savePointsWithinSquare(world_coords, box_dim)\n",
    "  boxes.append(box)\n",
    "  print(\"produced box\")\n"
   ]
  },
  {
   "cell_type": "code",
   "execution_count": null,
   "metadata": {},
   "outputs": [
    {
     "name": "stdout",
     "output_type": "stream",
     "text": [
      "Rotated box  0\n",
      "Rotated box  1\n",
      "Rotated box  2\n",
      "Rotated box  3\n"
     ]
    }
   ],
   "source": [
    "#add rotation to each box \n",
    "for i in range(len(boxes)):\n",
    "  box_rot = LR.rotatePrimSecond(boxes[i], prim_rots[i], secd_rots[i])\n",
    "  box_rot = np.where(box_rot > 0.5, 1, 0)\n",
    "  boxes[i] = box_rot \n",
    "  print(\"Rotated box \", i)\n"
   ]
  },
  {
   "cell_type": "code",
   "execution_count": null,
   "metadata": {},
   "outputs": [],
   "source": [
    "# Save box projections for each image as numpy arrays\n",
    "for i in range(len(boxes)):\n",
    "  p = img_paths[i]\n",
    "  f = os.path.basename(p)\n",
    "  angle = f[2:9]\n",
    "  np.save(\"model_uncertainty\\normal\" + angle, boxes[i])"
   ]
  },
  {
   "cell_type": "code",
   "execution_count": null,
   "metadata": {},
   "outputs": [
    {
     "name": "stdout",
     "output_type": "stream",
     "text": [
      "box done\n",
      "box done\n",
      "box done\n",
      "box done\n",
      "[0.78410943 0.21617513 0.18978334 0.17683843]\n"
     ]
    }
   ],
   "source": [
    "\"\"\"#find uncertancy\n",
    "uncertainty = []\n",
    "prev_box_sum = boxes[0]\n",
    "for b in boxes:\n",
    "  #add box to previous box\n",
    "  box_overlap= prev_box_sum + b\n",
    "  box_overlap = np.where(box_overlap == 2, 1, 0)  # save overlap\n",
    "  prev_box_sum = box_overlap\n",
    "\n",
    "  #find overlap with original\n",
    "  box_sum = box_overlap + real_box\n",
    "  box_sum = np.where(box_sum == 2, 1, 0)  # save overlap\n",
    "  uncertainty.append(np.sum(box_sum))\n",
    "  print(\"box done\")\n",
    "\n",
    "print(uncertainty/np.sum(real_box))\"\"\"\n"
   ]
  },
  {
   "cell_type": "code",
   "execution_count": null,
   "metadata": {},
   "outputs": [],
   "source": [
    "comb_box = boxes[0]\n",
    "comb_box = np.where(comb_box == 1, 1, 0)\n",
    "  "
   ]
  },
  {
   "cell_type": "code",
   "execution_count": null,
   "metadata": {},
   "outputs": [],
   "source": [
    "bx = box_dim-1\n",
    "frame_x = np.array([0,0,0,0,bx,bx,bx,bx]) -(bx/2)\n",
    "frame_y = np.array([0,0,bx,bx,0,0,bx,bx]) -(bx/2)\n",
    "frame_z = np.array([0,bx,0,bx,0,bx,0,bx]) -(bx/2)"
   ]
  },
  {
   "cell_type": "code",
   "execution_count": null,
   "metadata": {},
   "outputs": [],
   "source": [
    "#render box(es)\n",
    "\"\"\"x, y, z = LR.boxToWorldCorrds(comb_box, box_dim)\"\"\"\n"
   ]
  },
  {
   "cell_type": "code",
   "execution_count": null,
   "metadata": {},
   "outputs": [
    {
     "ename": "",
     "evalue": "",
     "output_type": "error",
     "traceback": [
      "\u001b[1;31mCanceled future for execute_request message before replies were done"
     ]
    },
    {
     "ename": "",
     "evalue": "",
     "output_type": "error",
     "traceback": [
      "\u001b[1;31mThe Kernel crashed while executing code in the the current cell or a previous cell. Please review the code in the cell(s) to identify a possible cause of the failure. Click <a href='https://aka.ms/vscodeJupyterKernelCrash'>here</a> for more info. View Jupyter <a href='command:jupyter.viewOutput'>log</a> for further details."
     ]
    }
   ],
   "source": [
    "\"\"\"mlab.points3d(x, y, z,\n",
    "              mode=\"cube\", color=(1, 0, 0.5), scale_factor=1, opacity=1)\n",
    "mlab.points3d(frame_x, frame_y, frame_z,\n",
    "              mode=\"cube\", color=(1, 0, 0.5), scale_factor=1, opacity=0)\n",
    "mlab.outline()\n",
    "\n",
    "mlab.show()\"\"\"\n"
   ]
  }
 ],
 "metadata": {
  "interpreter": {
   "hash": "f8665132f1068c6d656335a3a93d4e1e9cc43466a542cc440a9c028e42f97746"
  },
  "kernelspec": {
   "display_name": "Python 3.9.0 64-bit",
   "language": "python",
   "name": "python3"
  },
  "language_info": {
   "codemirror_mode": {
    "name": "ipython",
    "version": 3
   },
   "file_extension": ".py",
   "mimetype": "text/x-python",
   "name": "python",
   "nbconvert_exporter": "python",
   "pygments_lexer": "ipython3",
   "version": "3.9.0"
  },
  "orig_nbformat": 4
 },
 "nbformat": 4,
 "nbformat_minor": 2
}
