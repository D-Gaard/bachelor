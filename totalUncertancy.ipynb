{
 "cells": [
  {
   "cell_type": "code",
   "execution_count": 13,
   "metadata": {},
   "outputs": [],
   "source": [
    "import lineRenderWorldSetup as LR\n",
    "import cv2\n",
    "import numpy as np\n",
    "from mayavi import mlab\n",
    "import matplotlib.pyplot as plt\n",
    "from glob import glob\n",
    "from natsort import natsorted\n",
    "import os\n",
    "import _3dTo2dSetup as D3\n"
   ]
  },
  {
   "cell_type": "code",
   "execution_count": 14,
   "metadata": {},
   "outputs": [],
   "source": [
    "#path to image folder and load 3d model\n",
    "path = r\"3dTo2d\\totalUncertancy\"\n",
    "img_paths = natsorted(glob(os.path.join(path, \"*.png\")))\n",
    "dim = 735\n",
    "box_dim = LR.BOX_DIM\n",
    "flip = True\n",
    "\n",
    "path_real = r\"solid_400001-segmentation-solid_400001-label.nrrd\"\n",
    "real_box = D3.get3dFigure(box_dim, path_real)\n"
   ]
  },
  {
   "cell_type": "code",
   "execution_count": 12,
   "metadata": {},
   "outputs": [],
   "source": [
    "#read all images and angles\n",
    "#format -> x_(+/-)**_(+/-)**_angle.png\n",
    "prim_rots = []\n",
    "secd_rots = []\n",
    "imgs = []\n",
    "\n",
    "for p in img_paths:\n",
    "  img = cv2.imread(p, 0)\n",
    "  f = os.path.basename(p)\n",
    "  prim_a = int(f[2:5])\n",
    "  secd_a = int(f[6:9])\n",
    "  prim_rots.append(prim_a)\n",
    "  secd_rots.append(secd_a)\n",
    "  imgs.append(img)\n",
    "  \n"
   ]
  },
  {
   "cell_type": "code",
   "execution_count": null,
   "metadata": {},
   "outputs": [],
   "source": [
    "#create back-projection for each image\n",
    "boxes = []\n",
    "\n",
    "for i in imgs:\n",
    "  line_coords = LR.createCoordsForLoadedImageFrom3d(i, flip, dim)\n",
    "  world_coords = LR.performBresenham3D(\n",
    "      line_coords, LR.DETECTOR_TO_PATIENT, LR.SRC_TO_PATIENT, box_dim)\n",
    "  box = LR.savePointsWithinSquare(world_coords, box_dim)\n",
    "  boxes.append(box)\n",
    "  print(\"produced box\")\n"
   ]
  },
  {
   "cell_type": "code",
   "execution_count": null,
   "metadata": {},
   "outputs": [],
   "source": [
    "#add rotation to each box \n",
    "for i in range(len(boxes)):\n",
    "  box_rot = LR.rotatePrimSecond(boxes[i], prim_rots[i], secd_rots[i])\n",
    "  box_rot = np.where(box_rot > 0.5, 1, 0)\n",
    "  boxes[i] = box_rot\n",
    "  print(\"Rotated box \", i)\n"
   ]
  },
  {
   "cell_type": "code",
   "execution_count": null,
   "metadata": {},
   "outputs": [],
   "source": [
    "#find uncertancy\n",
    "uncertainty = []\n",
    "prev_box_sum = boxes[0]\n",
    "for b in boxes:\n",
    "  #add box to previous box\n",
    "  box_overlap= prev_box_sum + b\n",
    "  box_overlap = np.where(box_overlap == 2, 1, 0)  # save overlap\n",
    "  prev_box_sum = box_overlap\n",
    "\n",
    "  #find overlap with original\n",
    "  box_sum = box_overlap + real_box\n",
    "  box_sum = np.where(box_sum == 2, 1, 0)  # save overlap\n",
    "  uncertainty.append(np.sum(box_sum))\n",
    "  print(\"box done\")\n",
    "\n",
    "print(uncertainty/np.sum(real_box))\n"
   ]
  },
  {
   "cell_type": "code",
   "execution_count": null,
   "metadata": {},
   "outputs": [],
   "source": [
    "#render box(es)\n",
    "x, y, z = LR.boxToWorldCorrds(real_box, box_dim)\n"
   ]
  },
  {
   "cell_type": "code",
   "execution_count": null,
   "metadata": {},
   "outputs": [],
   "source": [
    "mlab.points3d(x, y, z,\n",
    "              mode=\"cube\", color=(1, 0, 0.5), scale_factor=1, opacity=1)\n",
    "mlab.show()\n"
   ]
  }
 ],
 "metadata": {
  "interpreter": {
   "hash": "0168595519c989d7f67b82b29d7f10b1cf9acc10b5dfc45f1935b31ca602370e"
  },
  "kernelspec": {
   "display_name": "Python 3.8.10 64-bit (windows store)",
   "language": "python",
   "name": "python3"
  },
  "language_info": {
   "codemirror_mode": {
    "name": "ipython",
    "version": 3
   },
   "file_extension": ".py",
   "mimetype": "text/x-python",
   "name": "python",
   "nbconvert_exporter": "python",
   "pygments_lexer": "ipython3",
   "version": "3.8.10"
  },
  "orig_nbformat": 4
 },
 "nbformat": 4,
 "nbformat_minor": 2
}
