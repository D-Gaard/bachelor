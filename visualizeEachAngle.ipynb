{
 "cells": [
  {
   "cell_type": "code",
   "execution_count": 1,
   "metadata": {},
   "outputs": [],
   "source": [
    "import numpy as np\n"
   ]
  },
  {
   "cell_type": "code",
   "execution_count": 2,
   "metadata": {},
   "outputs": [],
   "source": [
    "import math as m\n",
    "\n",
    "\n",
    "def Rx(theta):\n",
    "  return np.matrix([[1, 0, 0],\n",
    "                    [0, m.cos(theta), -m.sin(theta)],\n",
    "                    [0, m.sin(theta), m.cos(theta)]])\n",
    "\n",
    "\n",
    "def Ry(theta):\n",
    "  return np.matrix([[m.cos(theta), 0, m.sin(theta)],\n",
    "                    [0, 1, 0],\n",
    "                    [-m.sin(theta), 0, m.cos(theta)]])\n",
    "\n",
    "\n",
    "def Rz(theta):\n",
    "  return np.matrix([[m.cos(theta), -m.sin(theta), 0],\n",
    "                    [m.sin(theta), m.cos(theta), 0],\n",
    "                    [0, 0, 1]])\n"
   ]
  },
  {
   "cell_type": "code",
   "execution_count": 49,
   "metadata": {},
   "outputs": [],
   "source": [
    "d = 462\n",
    "v = [d, 0, 0]\n"
   ]
  },
  {
   "cell_type": "code",
   "execution_count": 58,
   "metadata": {},
   "outputs": [],
   "source": [
    "def rot(p,a1,a2):\n",
    "  r1 = Rz(m.radians(-a1))\n",
    "  r2 = Rx(m.radians(a2))\n",
    "  return p * r1 * r2"
   ]
  },
  {
   "cell_type": "code",
   "execution_count": 59,
   "metadata": {},
   "outputs": [
    {
     "name": "stdout",
     "output_type": "stream",
     "text": [
      "[[ 6.123234e-17  6.123234e-17 -1.000000e+00]]\n"
     ]
    }
   ],
   "source": [
    "print(rot([1,0,0],90,90))\n"
   ]
  },
  {
   "cell_type": "code",
   "execution_count": 62,
   "metadata": {},
   "outputs": [],
   "source": [
    "angles = [(-87, 27), (0, 0), (87, 27), (87, -27), (-75, -22), (-43, -11), (-43, 13), (43, -13), (43, 13)]\n",
    "\n",
    "points = []\n",
    "for i in angles:\n",
    "  p = rot(v,i[0],i[1])\n",
    "  points.append(p)\n"
   ]
  },
  {
   "cell_type": "code",
   "execution_count": 63,
   "metadata": {},
   "outputs": [
    {
     "name": "stdout",
     "output_type": "stream",
     "text": [
      "[[  24.17921178 -411.08086899  209.45616455]]\n",
      "[[462.   0.   0.]]\n",
      "[[  24.17921178  411.08086899 -209.45616455]]\n",
      "[[ 24.17921178 411.08086899 209.45616455]]\n",
      "[[ 119.57439884 -413.76296385 -167.17108867]]\n",
      "[[ 337.88541015 -309.29427574  -60.12071693]]\n",
      "[[ 337.88541015 -307.00767926   70.87830757]]\n",
      "[[337.88541015 307.00767926  70.87830757]]\n",
      "[[337.88541015 307.00767926 -70.87830757]]\n"
     ]
    }
   ],
   "source": [
    "for i in range(len(points)):\n",
    "  print(points[i])"
   ]
  }
 ],
 "metadata": {
  "interpreter": {
   "hash": "0168595519c989d7f67b82b29d7f10b1cf9acc10b5dfc45f1935b31ca602370e"
  },
  "kernelspec": {
   "display_name": "Python 3.8.10 64-bit (windows store)",
   "language": "python",
   "name": "python3"
  },
  "language_info": {
   "codemirror_mode": {
    "name": "ipython",
    "version": 3
   },
   "file_extension": ".py",
   "mimetype": "text/x-python",
   "name": "python",
   "nbconvert_exporter": "python",
   "pygments_lexer": "ipython3",
   "version": "3.8.10"
  },
  "orig_nbformat": 4
 },
 "nbformat": 4,
 "nbformat_minor": 2
}
